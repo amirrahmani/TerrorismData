{
 "cells": [
  {
   "cell_type": "markdown",
   "metadata": {},
   "source": [
    "## Predicting the responsible terrorist group of a terror attack,  employing deep learning in Keras. \n",
    "\n",
    "### Here we build a neural network in Keras. We build two models. In one we build a sequential model using only numerical and categorical features (no text features). In another model we use all features (text, numbers and categories). We use Keras Functional API to build a network with three inputs. Two embedding layers for text features and one dense layer for numerical features. \n",
    "### We build a new summary column by combining the summary and scite1 column and feed that as one input. For this input we use the embedding layer from keras and employ Pre-Trained GloVe Embedding.\n",
    "### For textual categorical features (e.g. city, targsubtype1_txt, etc)  we use one-hot encoder at the embedding layer.\n",
    "### Numerical features are imputed using fancyimpute.\n",
    "\n",
    "For details of pre-trained GloVe look at: https://nlp.stanford.edu/projects/glove/\n",
    "\n",
    "For more details on keras functional API which covers the multiple input model look at: https://machinelearningmastery.com/keras-functional-api-deep-learning/\n",
    "\n",
    "For more details on embedding layer in keras look at: https://machinelearningmastery.com/use-word-embedding-layers-deep-learning-keras/\n"
   ]
  },
  {
   "cell_type": "code",
   "execution_count": 1,
   "metadata": {},
   "outputs": [
    {
     "name": "stderr",
     "output_type": "stream",
     "text": [
      "/usr/local/lib/python3.6/site-packages/sklearn/cross_validation.py:41: DeprecationWarning: This module was deprecated in version 0.18 in favor of the model_selection module into which all the refactored classes and functions are moved. Also note that the interface of the new CV iterators are different from that of this module. This module will be removed in 0.20.\n",
      "  \"This module will be removed in 0.20.\", DeprecationWarning)\n",
      "/home/rahmani/anaconda3/lib/python3.6/site-packages/h5py/__init__.py:36: FutureWarning: Conversion of the second argument of issubdtype from `float` to `np.floating` is deprecated. In future, it will be treated as `np.float64 == np.dtype(float).type`.\n",
      "  from ._conv import register_converters as _register_converters\n",
      "Using TensorFlow backend.\n"
     ]
    },
    {
     "name": "stdout",
     "output_type": "stream",
     "text": [
      "[nltk_data] Downloading package punkt to /home/rahmani/nltk_data...\n",
      "[nltk_data]   Package punkt is already up-to-date!\n",
      "[nltk_data] Downloading package stopwords to\n",
      "[nltk_data]     /home/rahmani/nltk_data...\n",
      "[nltk_data]   Package stopwords is already up-to-date!\n"
     ]
    }
   ],
   "source": [
    "# import libraries\n",
    "import pickle\n",
    "import numpy as np\n",
    "import pandas as pd\n",
    "import matplotlib\n",
    "import matplotlib.pyplot as plt\n",
    "import seaborn as sns\n",
    "from scipy.stats import norm\n",
    "from sklearn.metrics import accuracy_score,confusion_matrix,classification_report\n",
    "from sklearn.feature_extraction.text import CountVectorizer\n",
    "from sklearn.pipeline import make_pipeline, make_union,Pipeline,FeatureUnion\n",
    "from sklearn.preprocessing import FunctionTransformer,LabelEncoder,LabelBinarizer,StandardScaler,Imputer,RobustScaler\n",
    "from sklearn.cross_validation import cross_val_score\n",
    "from keras.utils import np_utils\n",
    "from sklearn.model_selection import train_test_split,cross_val_score,GridSearchCV\n",
    "from sklearn.externals import joblib\n",
    "from sklearn_pandas import DataFrameMapper\n",
    "from geopy.geocoders import Nominatim\n",
    "import reverse_geocoder as rg\n",
    "import requests\n",
    "import re\n",
    "from nltk.corpus import stopwords\n",
    "from nltk import word_tokenize\n",
    "from nltk.stem.snowball import SnowballStemmer\n",
    "import nltk\n",
    "import string \n",
    "from utils import *\n",
    "import fancyimpute \n",
    "from fancyimpute import BiScaler, KNN, NuclearNormMinimization, SoftImpute, MICE\n",
    "from keras.preprocessing.text import Tokenizer,one_hot\n",
    "from keras.preprocessing.sequence import pad_sequences\n",
    "from keras.models import Sequential\n",
    "from keras.layers import Dense,Flatten,Dropout,Input,Activation\n",
    "from keras.layers.embeddings import Embedding\n",
    "from keras.models import Model\n",
    "from keras.layers.merge import concatenate\n",
    "from keras.wrappers.scikit_learn import KerasClassifier\n",
    "from keras.layers.normalization import BatchNormalization\n",
    "\n",
    "\n",
    "#init_notebook_mode()\n",
    "%matplotlib inline\n",
    "\n",
    "nltk.download('punkt')\n",
    "nltk.download('stopwords')\n",
    "stemmer = SnowballStemmer(\"english\")\n",
    "pd.options.mode.chained_assignment = None\n",
    "pd.set_option('max_info_columns', 200)\n",
    "pd.options.display.float_format = '{:,.2f}'.format\n"
   ]
  },
  {
   "cell_type": "markdown",
   "metadata": {},
   "source": [
    "### Import data. Since many data points are systematically available with incidents occurring after 1997 we only use the data collected after 1997 (look at the codebook)."
   ]
  },
  {
   "cell_type": "code",
   "execution_count": 2,
   "metadata": {
    "scrolled": true
   },
   "outputs": [
    {
     "name": "stderr",
     "output_type": "stream",
     "text": [
      "/home/rahmani/anaconda3/lib/python3.6/site-packages/IPython/core/interactiveshell.py:2728: DtypeWarning: Columns (4,6,31,33,53,61,62,63,76,79,90,92,94,96,114,115,121) have mixed types. Specify dtype option on import or set low_memory=False.\n",
      "  interactivity=interactivity, compiler=compiler, result=result)\n"
     ]
    }
   ],
   "source": [
    "terrorism = pd.read_csv('terrorist_data.csv')\n",
    "dff = terrorism[terrorism.iyear >= 1998]\n",
    "dff.reset_index(drop=True,inplace=True)"
   ]
  },
  {
   "cell_type": "markdown",
   "metadata": {},
   "source": [
    "### Fill unknown cities using latitude and longitude."
   ]
  },
  {
   "cell_type": "code",
   "execution_count": 3,
   "metadata": {
    "scrolled": true
   },
   "outputs": [
    {
     "name": "stdout",
     "output_type": "stream",
     "text": [
      "Loading formatted geocoded file...\n"
     ]
    }
   ],
   "source": [
    "# Google API needs internet connection and doesn't work for all values, so after using google api\n",
    "# fill the remaining unknown cities using geooder\n",
    "\n",
    "latlng = dff.loc[dff['city'].isnull()].apply(lambda row: '{},{}'.format(row['latitude'], row['longitude']), axis=1)\n",
    "geocode = latlng.map(reverse_geocode)\n",
    "dff.loc[geocode.index,('city')] = geocode.map(parse_city)\n",
    "dff.loc[dff['city'].isnull()][['longitude','latitude']].loc[~dff['longitude'].isnull()]\n",
    "def city_finder(x):\n",
    "    coordinates = (x['longitude'],x['latitude'])\n",
    "    results = dict(rg.search(coordinates)[0])\n",
    "    return(results['name'])\n",
    "    \n",
    "city = dff.loc[dff['city'].isnull()][['longitude','latitude']].loc[~dff['longitude'].isnull()].apply(city_finder,axis=1)\n",
    "dff.loc[city.index,'city'] = city.values"
   ]
  },
  {
   "cell_type": "markdown",
   "metadata": {},
   "source": [
    "#### Remove features with more than 20% missing values and removing some features that are not usefull such as eventid, etc."
   ]
  },
  {
   "cell_type": "code",
   "execution_count": 4,
   "metadata": {},
   "outputs": [
    {
     "name": "stdout",
     "output_type": "stream",
     "text": [
      "number of features:  54\n"
     ]
    }
   ],
   "source": [
    "# Remove features with more than 20% missing values\n",
    "features = []\n",
    "for d in dff.columns:\n",
    "    if dff[d].isnull().sum()<0.2*len(dff): features.append(d)\n",
    "features = [x for x in features if x not in ['eventid','latitude','longitude']]\n",
    "if 'gname' not in features:features.append('gname')\n",
    "print('number of features: ',len(features))\n",
    "dff = dff[features]"
   ]
  },
  {
   "cell_type": "markdown",
   "metadata": {},
   "source": [
    "### Defining feature types."
   ]
  },
  {
   "cell_type": "code",
   "execution_count": 5,
   "metadata": {},
   "outputs": [],
   "source": [
    "text_features = ['provstate','summary','target1']\n",
    "\n",
    "number_features = ['nperpcap', 'nkill', 'nkillus', 'nkillter', 'nwound', 'nwoundus', 'nwoundte']\n",
    "\n",
    "binary_features = ['INT_MISC','claimed', 'crit1', \n",
    "                    'crit2', 'crit3', 'doubtterr','extended', \n",
    "                    'guncertain1','individual','ishostkid', \n",
    "                    'multiple','property', \n",
    "                    'success', 'suicide', \n",
    "                    'vicinity']\n",
    "\n",
    "# define a new feature for each number_features corresponding to if that number feature is missing or not.\n",
    "for d in number_features:\n",
    "    binary_features.append(d+'_isknown')\n",
    "\n",
    "range_features_txt = ['city','dbsource','corp1',\n",
    "                     'attacktype1_txt','country_txt','region_txt',\n",
    "                     'targsubtype1_txt', 'targtype1_txt', \n",
    "                    'weapsubtype1_txt', 'weaptype1_txt','natlty1_txt']\n",
    "\n",
    "range_features_txt_dummy = ['dbsource','attacktype1_txt','country_txt','region_txt',\n",
    "                     'targsubtype1_txt', 'targtype1_txt', \n",
    "                    'weapsubtype1_txt', 'weaptype1_txt','natlty1_txt']\n",
    "\n",
    "range_features_numeric = ['iday','imonth','iyear', 'specificity']\n"
   ]
  },
  {
   "cell_type": "markdown",
   "metadata": {},
   "source": [
    "#### Replace -9 and -99 in number features with nan (to impute later).\n",
    "\n",
    "#### Impute nan in binary features with -9 (corresponding to unknown). \n",
    "\n",
    "#### Impute nan in range features with 'Unknown' for and with 0 for numbers."
   ]
  },
  {
   "cell_type": "code",
   "execution_count": 6,
   "metadata": {},
   "outputs": [],
   "source": [
    "for col in number_features:\n",
    "    dff[col].loc[(dff[col]==-9) | (dff[col]==-99)] = np.nan\n",
    "    \n",
    "# add a feature for number features that if they are null it is 1 and 0 otherwise\n",
    "for d in number_features:\n",
    "    dff[d+'_isknown'] = dff[d].isnull()*1\n",
    "    \n",
    "for col in binary_features:\n",
    "    dff[col].loc[dff[col]==-99] = -9\n",
    "    dff[col].loc[dff[col].isnull()] = -9\n",
    "\n",
    "for col in range_features_txt:\n",
    "    dff[col].loc[dff[col].isnull()] = 'Unknown'\n",
    "\n",
    "for col in range_features_numeric:\n",
    "    dff[col].loc[dff[col].isnull()] = 0\n"
   ]
  },
  {
   "cell_type": "markdown",
   "metadata": {},
   "source": [
    "### Stemming"
   ]
  },
  {
   "cell_type": "code",
   "execution_count": 7,
   "metadata": {},
   "outputs": [
    {
     "name": "stdout",
     "output_type": "stream",
     "text": [
      "First original summery:  01/01/1998: Hutu Rebels attacked a Burundi military target at Bujumbura Airport. The attack resulted in 104 fatalities, including 100 perpetrators, and six injuries. “Burundi Rebels, Ex-Rwandan Army Soldiers Blamed For Attack,” Bujumbura Radio-Television Nationale du Burundi Radio in French, January 01, 1998.\n",
      " \n",
      "Firt summary after stemming:  hutu rebel attack burundi militari target bujumbura airport attack result fatal includ perpetr injuri burundi rebel ex rwandan armi soldier blame attack bujumbura radio televis national du burundi radio french januari\n"
     ]
    }
   ],
   "source": [
    "# combine summary and scite1\n",
    "dff['summary'] = dff['summary'].apply(lambda x:str(x)) + ' ' + dff['scite1'].apply(lambda x:str(x))\n",
    "# First we stem the words in the summary, remove punctuations, numbers, stopwords and white spaces. \n",
    "# we also remove word \"al\" (\"al\" means \"the\" in arabic).\n",
    "print('First original summery: ',dff.summary.iloc[0])\n",
    "print(' ')\n",
    "dff.summary = dff.summary.apply(lambda x:word_tokenize(x)).apply(lambda x:' '.join(list(map(stemmer.stem,x)))) # stemming, this takes couple of minutes\n",
    "dff.summary = dff.summary.apply(lambda x:text2int(x))  # convert text numbers to digits\n",
    "table = str.maketrans(\"\",\"\",string.punctuation+'”'+'“')\n",
    "stops = set(stopwords.words(\"english\") + ['al']) \n",
    "pat = r'\\b(?:{})\\b'.format('|'.join(stops))\n",
    "for col in range_features_txt + text_features : \n",
    "    dff[col] = dff[col].str.translate(table)    # remove punctuation\n",
    "    dff[col] = dff[col].str.replace(pat,'')                # remove stopwords and \"al\"\n",
    "    dff[col] = dff[col].str.replace('\\d+','')             # remove numbers\n",
    "    dff[col] = dff[col].str.replace(r'\\s+', ' ')          # remove white spaces\n",
    "    dff[col] = dff[col].str.strip()                       # remove whitespaces\n",
    "print('Firt summary after stemming: ',dff.summary.iloc[0])"
   ]
  },
  {
   "cell_type": "markdown",
   "metadata": {},
   "source": [
    "### Imputing numerical features using MICE algorithm from fancy impute.\n",
    "https://github.com/iskandr/fancyimpute"
   ]
  },
  {
   "cell_type": "code",
   "execution_count": 8,
   "metadata": {},
   "outputs": [],
   "source": [
    "def numeric_fill(df,fill_values):\n",
    "    '''\n",
    "    Impute the rows that that all of the columns are missing using Imputer from sklearn.\n",
    "    Then impute other missing values using MICE.\n",
    "    '''    \n",
    "    \n",
    "    imputer = Imputer()\n",
    "    x = imputer.fit_transform(df)\n",
    "    x = pd.DataFrame(x,columns = df.columns,index=df.index)\n",
    "    x = x.loc[df.index[df.isnull().all(1)]] \n",
    "    df = df.combine_first(x)\n",
    "\n",
    "# softimpute \n",
    "#    biscaler = BiScaler(verbose=False)\n",
    "#    X_incomplete_normalized = biscaler.fit_transform(df[numerical_features].values)\n",
    "#    X_filled_softimpute_normalized = SoftImpute(verbose=False).complete(X_incomplete_normalized)\n",
    "#    X_filled_softimpute =biscaler.inverse_transform(\\\n",
    "#                           X_filled_softimpute_normalized)\n",
    "#    X_filled_softimpute = pd.DataFrame(X_filled_softimpute,columns=numerical_features,index=df[numerical_features].index)\n",
    "#    df = df.combine_first(X_filled_softimpute)\n",
    "\n",
    "# MICE impute\n",
    "    mice = MICE(n_imputations=5, impute_type='pmm',verbose=False)\n",
    "    X_completed = mice.complete(df.values)\n",
    "    X_completed = pd.DataFrame(X_completed,columns=df.columns,index=df.index)\n",
    "    df = df.combine_first(X_completed)\n",
    "    return df"
   ]
  },
  {
   "cell_type": "code",
   "execution_count": 9,
   "metadata": {},
   "outputs": [],
   "source": [
    "# impute nan in text features by empty\n",
    "def get_feature_text(col):\n",
    "    def get_text(df):\n",
    "        return df[col].fillna(\"\")    \n",
    "    return get_text\n",
    "\n",
    "all_features = number_features + binary_features + range_features_txt + range_features_numeric + text_features"
   ]
  },
  {
   "cell_type": "code",
   "execution_count": 10,
   "metadata": {},
   "outputs": [
    {
     "name": "stderr",
     "output_type": "stream",
     "text": [
      "/usr/local/lib/python3.6/site-packages/sklearn/utils/deprecation.py:58: DeprecationWarning: Class Imputer is deprecated; Imputer was deprecated in version 0.20 and will be removed in 0.22. Import impute.SimpleImputer from sklearn instead.\n",
      "  warnings.warn(msg, category=DeprecationWarning)\n"
     ]
    }
   ],
   "source": [
    "# perform the imputation on numerical features\n",
    "dg = dff[number_features]\n",
    "dg = numeric_fill(dg,{})\n",
    "dff = dff.combine_first(dg)"
   ]
  },
  {
   "cell_type": "code",
   "execution_count": 11,
   "metadata": {},
   "outputs": [],
   "source": [
    "# merging label features, to use as embedding layer of the network.  \n",
    "dff['range_txt'] = ' '\n",
    "for col in ['target1','provstate','city','corp1']:\n",
    "    dff['range_txt'] = dff['range_txt'] + ' ' + dff[col].apply(lambda x:str(x))"
   ]
  },
  {
   "cell_type": "markdown",
   "metadata": {},
   "source": [
    "### Plot histogram for the length of label features that we want to binarize."
   ]
  },
  {
   "cell_type": "code",
   "execution_count": 12,
   "metadata": {},
   "outputs": [
    {
     "name": "stderr",
     "output_type": "stream",
     "text": [
      "/usr/local/lib/python3.6/site-packages/matplotlib/axes/_axes.py:6448: UserWarning: The 'normed' kwarg is deprecated, and has been replaced by the 'density' kwarg.\n",
      "  warnings.warn(\"The 'normed' kwarg is deprecated, and has been \"\n"
     ]
    },
    {
     "data": {
      "image/png": "[encoded data removed]",
      "text/plain": [
       "<Figure size 1440x720 with 6 Axes>"
      ]
     },
     "metadata": {},
     "output_type": "display_data"
    }
   ],
   "source": [
    "import seaborn as sns\n",
    "from scipy.stats import norm\n",
    "sns.set(font_scale=2)\n",
    "fig = plt.figure()\n",
    "for i,col in enumerate(['summary','target1',\n",
    "                       'provstate','city','corp1','range_txt']):\n",
    "    ax = fig.add_subplot(2,3,i+1)\n",
    "    dff['l_'+col] = dff[col].apply(lambda x: len(str(x).split()))\n",
    "    sns.distplot(dff['l_'+col].dropna(),kde=False,fit=norm, bins=10,ax=ax)\n",
    "\n",
    "fig.set_size_inches(20,10)\n",
    "plt.tight_layout()\n",
    "# dff['l_summary'] = dff['summary'].apply(lambda x: len(str(x).split()))\n",
    "# sns.distplot(dff['l_summary'])"
   ]
  },
  {
   "cell_type": "markdown",
   "metadata": {},
   "source": [
    "## Embed summary column using pre-trained GloVe embedding."
   ]
  },
  {
   "cell_type": "code",
   "execution_count": 13,
   "metadata": {},
   "outputs": [
    {
     "name": "stdout",
     "output_type": "stream",
     "text": [
      "Loaded 400000 word vectors.\n"
     ]
    }
   ],
   "source": [
    "# define tokenizer\n",
    "t = Tokenizer()\n",
    "t.fit_on_texts(dff.summary)\n",
    "vocab_size1 = len(t.word_index) + 1\n",
    "# encode the summary\n",
    "encoded_docs1 = t.texts_to_sequences(dff.summary)\n",
    "# pad summeries to a max length of 100 (look at the plot above)\n",
    "max_length1 = 100\n",
    "original_padded_docs1 = pad_sequences(encoded_docs1, maxlen=max_length1, padding='post')\n",
    "# load the whole embedding into memory\n",
    "embeddings_index = dict()\n",
    "# load the pre-trained embedding\n",
    "f = open('glove.6B.100d.txt')\n",
    "for line in f:\n",
    "    values = line.split()\n",
    "    word = values[0]\n",
    "    coefs = np.asarray(values[1:], dtype='float32')\n",
    "    embeddings_index[word] = coefs\n",
    "f.close()\n",
    "print('Loaded %s word vectors.' % len(embeddings_index))\n",
    "# create a weight matrix for words in training docs\n",
    "embedding_matrix = np.zeros((vocab_size1, 100))\n",
    "for word, i in t.word_index.items():\n",
    "    embedding_vector = embeddings_index.get(word)\n",
    "    if embedding_vector is not None:\n",
    "        embedding_matrix[i] = embedding_vector"
   ]
  },
  {
   "cell_type": "code",
   "execution_count": 14,
   "metadata": {
    "scrolled": true
   },
   "outputs": [
    {
     "name": "stdout",
     "output_type": "stream",
     "text": [
      "number of unique words in range_txt:  59217\n"
     ]
    }
   ],
   "source": [
    "print('number of unique words in range_txt: ',len(dff.range_txt.str.split(expand=True).stack().value_counts()))"
   ]
  },
  {
   "cell_type": "markdown",
   "metadata": {},
   "source": [
    "### Encoding and padding the range_txt column."
   ]
  },
  {
   "cell_type": "code",
   "execution_count": 15,
   "metadata": {
    "scrolled": true
   },
   "outputs": [
    {
     "name": "stdout",
     "output_type": "stream",
     "text": [
      "(102914, 20)\n"
     ]
    }
   ],
   "source": [
    "# integer encode the documents\n",
    "vocab_size2 = 60000\n",
    "encoded_docs2 = [one_hot(d, vocab_size2) for d in dff.range_txt]\n",
    "\n",
    "# pad documents to a max length of words\n",
    "max_length2 = 20\n",
    "original_padded_docs2 = pad_sequences(encoded_docs2, maxlen=max_length2, padding='post')\n",
    "print(original_padded_docs2.shape)"
   ]
  },
  {
   "cell_type": "code",
   "execution_count": 16,
   "metadata": {},
   "outputs": [],
   "source": [
    "# save the data frame.\n",
    "dff.to_pickle('dff_deep.p')\n",
    "dff_original = dff.copy()"
   ]
  },
  {
   "cell_type": "code",
   "execution_count": 17,
   "metadata": {
    "scrolled": true
   },
   "outputs": [],
   "source": [
    "# load the data frame (this is just for debuging purposes)\n",
    "dff = pd.read_pickle('dff_deep.p')\n",
    "dff_original = dff.copy()"
   ]
  },
  {
   "cell_type": "code",
   "execution_count": 18,
   "metadata": {},
   "outputs": [],
   "source": [
    "# keep the data points with groups that the number of their attacks is more than a threshold. \n",
    "# create the new dataframe containing attacks with unknown groups.\n",
    "def apply_threshold(dff,original_padded_docs1,original_padded_docs2,threshold):\n",
    "    dff['gcount'] = dff.groupby(['gname'])['gname'].transform('count')\n",
    "    dff_nogname = dff.loc[dff.gname == 'Unknown']\n",
    "    padded_docs1_new = original_padded_docs1[dff.loc[dff.gname == 'Unknown'].index.values]\n",
    "    padded_docs1 = original_padded_docs1[dff.loc[dff.gname != 'Unknown'].index.values]\n",
    "    padded_docs2_new = original_padded_docs2[dff.loc[dff.gname == 'Unknown'].index.values]\n",
    "    padded_docs2 = original_padded_docs2[dff.loc[dff.gname != 'Unknown'].index.values]\n",
    "    dff = dff.loc[dff.gname != 'Unknown']\n",
    "    dff.reset_index(drop=True,inplace=True)\n",
    "    padded_docs2 = padded_docs2[dff.loc[dff.gcount>threshold].index.values]\n",
    "    padded_docs1 = padded_docs1[dff.loc[dff.gcount>threshold].index.values]\n",
    "    dff = dff[dff.gcount>threshold]\n",
    "    if threshold <30:\n",
    "        epochs1 = 250\n",
    "        epochs2 = 30\n",
    "    elif threshold >=30:\n",
    "        epochs1 = 150\n",
    "        epochs2 = 20\n",
    "    print(\"number of unique gnames:\",dff.gname.unique().size)\n",
    "    return dff,dff_nogname,padded_docs1,padded_docs2,padded_docs1_new,padded_docs2_new,epochs1,epochs2"
   ]
  },
  {
   "cell_type": "code",
   "execution_count": 19,
   "metadata": {},
   "outputs": [],
   "source": [
    "# Binarizing the remaining range and binary features.\n",
    "mapper = DataFrameMapper(\n",
    "  [(continuous_col, LabelBinarizer()) for continuous_col in range_features_txt_dummy + range_features_numeric]\n",
    " +[(continuous_col, LabelBinarizer()) for continuous_col in binary_features]    \n",
    " +[(nomap_col, None) for nomap_col in number_features]   \n",
    ")\n",
    "\n",
    "union =  Pipeline([(\"mapper\", mapper)])\n",
    "\n",
    "def get_train_test(dff,dff_nogname,padded_docs1,padded_docs2,union_pipe):\n",
    "    Y = dff.gname.copy()\n",
    "    encoder = LabelEncoder()\n",
    "    encoded_Y = encoder.fit_transform(Y)\n",
    "    y = np_utils.to_categorical(encoded_Y)\n",
    "\n",
    "    # split the dataset to train and test.\n",
    "    X_train, X_test, y_train, y_test,encoded_Y_train,encoded_Y_test,p_train1,p_test1,p_train2,p_test2 = train_test_split(dff[all_features],\\\n",
    "                                                                   y,\\\n",
    "                                                                   encoded_Y,\\\n",
    "                                                                   padded_docs1,\\\n",
    "                                                                   padded_docs2,\\\n",
    "                                                                   test_size = 0.3,\\\n",
    "                                                                   random_state = 15)\n",
    "    # fit and transorm pipeline\n",
    "    X_train_dtm = union_pipe.fit_transform(X_train)\n",
    "    X_test_dtm = union_pipe.transform(X_test)\n",
    "    x_new_dtm = union_pipe.transform(dff_nogname)\n",
    "    \n",
    "    assert(X_train_dtm.shape[1]==X_test_dtm.shape[1] and X_train_dtm.shape[1]==x_new_dtm.shape[1])\n",
    "    return X_train_dtm,X_test_dtm,x_new_dtm,y_train,encoded_Y_test,encoded_Y_train,p_train1,p_train2,p_test1,p_test2,encoder"
   ]
  },
  {
   "cell_type": "markdown",
   "metadata": {},
   "source": [
    "### First we build a model using only numerical and categorical features (no text feature). This is a sequntial model with ReLu and Tanh activation is used at hidden layer. Softmax activation is employed at output.\n",
    "\n",
    "### Adam optimizer and categorical cross entropy are used for the loss function."
   ]
  },
  {
   "cell_type": "code",
   "execution_count": 20,
   "metadata": {},
   "outputs": [],
   "source": [
    "def baseline_model_notxt(input_dim=None,output_dim=None):\n",
    "    model = Sequential()\n",
    "    model.add(Dense(256,input_dim=input_dim,activation='relu'))\n",
    "    model.add(Dropout(0.2))\n",
    "    model.add(Dense(256,activation='tanh'))\n",
    "    model.add(Dropout(0.2))\n",
    "    model.add(Dense(128,activation='relu'))\n",
    "    model.add(Dropout(0.2))\n",
    "    model.add(Dense(128,activation='tanh'))\n",
    "    model.add(Dropout(0.2))   \n",
    "    model.add(Dense(units=output_dim,activation='softmax'))\n",
    "    model.compile(optimizer='adam', loss='categorical_crossentropy', metrics=['acc'])\n",
    "    return model"
   ]
  },
  {
   "cell_type": "markdown",
   "metadata": {},
   "source": [
    "### Build model and Print  infromation about the accuracy of the model."
   ]
  },
  {
   "cell_type": "code",
   "execution_count": 21,
   "metadata": {
    "scrolled": true
   },
   "outputs": [
    {
     "name": "stdout",
     "output_type": "stream",
     "text": [
      "Results for threshold of 2\n",
      "number of unique gnames: 624\n",
      "Train score = 98.157\n",
      "Test score = 77.022\n",
      "Average precision =  75.567\n",
      "Average recall =  77.022\n",
      "Average fscore =  75.627\n",
      "Total support =  14048\n",
      "Results for threshold of 50\n"
     ]
    },
    {
     "name": "stderr",
     "output_type": "stream",
     "text": [
      "/usr/local/lib/python3.6/site-packages/sklearn/metrics/classification.py:1140: UndefinedMetricWarning: Precision and F-score are ill-defined and being set to 0.0 in labels with no predicted samples.\n",
      "  'precision', 'predicted', average, warn_for)\n",
      "/usr/local/lib/python3.6/site-packages/sklearn/metrics/classification.py:1142: UndefinedMetricWarning: Recall and F-score are ill-defined and being set to 0.0 in labels with no true samples.\n",
      "  'recall', 'true', average, warn_for)\n"
     ]
    },
    {
     "name": "stdout",
     "output_type": "stream",
     "text": [
      "number of unique gnames: 99\n",
      "Train score = 99.518\n",
      "Test score = 84.686\n",
      "Average precision =  84.172\n",
      "Average recall =  84.686\n",
      "Average fscore =  84.139\n",
      "Total support =  12283\n"
     ]
    }
   ],
   "source": [
    "gname_threshold = [2,50]\n",
    "for d in gname_threshold:\n",
    "    print('Results for threshold of %d' %d)\n",
    "    dff = pd.read_pickle('dff_deep.p')\n",
    "    dff,dff_nogname,padded_docs1,padded_docs2,padded_docs1_new,padded_docs2_new,epochs1,epochs2 = apply_threshold(dff,\n",
    "                                                                                                                  original_padded_docs1,\n",
    "                                                                                                                  original_padded_docs2,\n",
    "                                                                                                                  d)\n",
    "    X_train_dtm,X_test_dtm,x_new_dtm,y_train,encoded_Y_test,encoded_Y_train,p_train1,p_train2,p_test1,p_test2,encoder = get_train_test(dff,\n",
    "                                                                                                                               dff_nogname,\n",
    "                                                                                                                               padded_docs1,\n",
    "                                                                                                                               padded_docs2,\n",
    "                                                                                                                               union)\n",
    "    model = KerasClassifier(build_fn=baseline_model_notxt,\n",
    "                            input_dim=X_train_dtm.shape[1],\n",
    "                            output_dim=y_train.shape[1],\n",
    "                            epochs=epochs1,\n",
    "                            batch_size=2500,\n",
    "                            verbose=0)\n",
    "    \n",
    "    model.fit(x = X_train_dtm, y=y_train)\n",
    "    y_pred_train = model.predict([X_train_dtm])\n",
    "    y_pred_test = model.predict([X_test_dtm])\n",
    "    print('Train score = %.3f' % (100*accuracy_score(encoded_Y_train, y_pred_train)))\n",
    "    print_precision_recall(encoded_Y_test,y_pred_test)\n",
    "    "
   ]
  },
  {
   "cell_type": "markdown",
   "metadata": {},
   "source": [
    "Even with using dropout regularization at each layer, still there is a large difference between train and test score which is a sign of overfitting.\n",
    "\n",
    "### Now we build a multi input model using all features. After each input layer we use one layer with ReLu activation and Tanh activation. At the output layer we use a softmax activation.\n",
    "\n",
    "### We use the adam optimizer and categorical cross entropy for the loss function."
   ]
  },
  {
   "cell_type": "code",
   "execution_count": 22,
   "metadata": {},
   "outputs": [],
   "source": [
    "def baseline_model_txt(shape3=None,output_dim3=None):\n",
    "    visible1 = Input(shape=(max_length1,))\n",
    "    embed1 = Embedding(vocab_size1,\n",
    "                       100,\n",
    "                       weights=[embedding_matrix],\n",
    "                       input_length=max_length1,\n",
    "                       trainable=False)(visible1)\n",
    "    \n",
    "    flat1 = Flatten()(embed1)\n",
    "    dense1 = Dense(256,activation='relu')(flat1)\n",
    "    dense2 = Dense(256,activation='tanh')(dense1)\n",
    "\n",
    "    visible2 = Input(shape=(max_length2,))\n",
    "    embed2 = Embedding(vocab_size2, 100, input_length=max_length2)(visible2)\n",
    "    flat2 = Flatten()(embed2)\n",
    "    dense3 = Dense(256,activation='relu')(flat2)\n",
    "    dense4 = Dense(256,activation='tanh')(dense3)    \n",
    "\n",
    "    visible3 = Input(shape=shape3)\n",
    "    dense5 = Dense(256,activation='relu')(visible3)\n",
    "    dense6 = Dense(256,activation='tanh')(dense5)\n",
    "\n",
    "    \n",
    "    merge = concatenate([dense2,dense4,dense6])\n",
    "    hidden1 = Dense(256,activation='relu')(merge)\n",
    "    hidden2 = Dense(256,activation='tanh')(hidden1)\n",
    "    output = Dense(units=output_dim3,activation='softmax')(hidden2)\n",
    "    model = Model(inputs=[visible1,visible2,visible3],outputs=output)\n",
    "\n",
    "    model.compile(optimizer='adam', loss='categorical_crossentropy', metrics=['acc'])\n",
    "    return model\n"
   ]
  },
  {
   "cell_type": "code",
   "execution_count": 23,
   "metadata": {},
   "outputs": [
    {
     "name": "stdout",
     "output_type": "stream",
     "text": [
      "Results for threshold of 2\n",
      "number of unique gnames: 624\n",
      "Train score = 100.000\n",
      "Test score = 83.670\n",
      "Average precision =  81.671\n",
      "Average recall =  83.670\n",
      "Average fscore =  82.072\n",
      "Total support =  14048\n",
      "Results for threshold of 50\n"
     ]
    },
    {
     "name": "stderr",
     "output_type": "stream",
     "text": [
      "/usr/local/lib/python3.6/site-packages/sklearn/metrics/classification.py:1140: UndefinedMetricWarning: Precision and F-score are ill-defined and being set to 0.0 in labels with no predicted samples.\n",
      "  'precision', 'predicted', average, warn_for)\n",
      "/usr/local/lib/python3.6/site-packages/sklearn/metrics/classification.py:1142: UndefinedMetricWarning: Recall and F-score are ill-defined and being set to 0.0 in labels with no true samples.\n",
      "  'recall', 'true', average, warn_for)\n"
     ]
    },
    {
     "name": "stdout",
     "output_type": "stream",
     "text": [
      "number of unique gnames: 99\n",
      "Train score = 100.000\n",
      "Test score = 93.283\n",
      "Average precision =  93.072\n",
      "Average recall =  93.283\n",
      "Average fscore =  92.972\n",
      "Total support =  12283\n"
     ]
    }
   ],
   "source": [
    "gname_threshold = [2,50]\n",
    "for d in gname_threshold:\n",
    "    print('Results for threshold of %d' %d)\n",
    "    dff = pd.read_pickle('dff_deep.p')\n",
    "    dff,dff_nogname,padded_docs1,padded_docs2,padded_docs1_new,padded_docs2_new,epochs1,epochs2 = apply_threshold(dff,\n",
    "                                                                                                                  original_padded_docs1,\n",
    "                                                                                                                  original_padded_docs2,\n",
    "                                                                                                                  d)\n",
    "    X_train_dtm,X_test_dtm,x_new_dtm,y_train,encoded_Y_test,encoded_Y_train,p_train1,p_train2,p_test1,p_test2,encoder = get_train_test(dff,\n",
    "                                                                                                                               dff_nogname,\n",
    "                                                                                                                               padded_docs1,\n",
    "                                                                                                                               padded_docs2,\n",
    "                                                                                                                               union)\n",
    "    model = KerasClassifier(build_fn=baseline_model_txt,\n",
    "                            shape3=(X_train_dtm.shape[1],),\n",
    "                            output_dim3=y_train.shape[1],\n",
    "                            epochs=epochs2,\n",
    "                            batch_size=500,\n",
    "                            verbose=0)\n",
    "    \n",
    "    model.fit(x = [p_train1,p_train2,X_train_dtm], y=y_train)    \n",
    "    y_pred_train = model.predict([p_train1,p_train2,X_train_dtm])\n",
    "    y_pred_test = model.predict([p_test1,p_test2,X_test_dtm])\n",
    "    print('Train score = %.3f' % (100*accuracy_score(encoded_Y_train, y_pred_train)))\n",
    "    print_precision_recall(encoded_Y_test,y_pred_test)"
   ]
  },
  {
   "cell_type": "markdown",
   "metadata": {},
   "source": [
    "# There is about 10% increase in score, precision and recall when we use both text features and numerical features. Also the overfitting is reduced significantly.\n",
    "\n",
    "### Making predictions for the data points with missing group name."
   ]
  },
  {
   "cell_type": "code",
   "execution_count": 24,
   "metadata": {
    "scrolled": true
   },
   "outputs": [
    {
     "name": "stdout",
     "output_type": "stream",
     "text": [
      "['Chechen Rebels' 'Islamic State of Iraq and the Levant (ISIL)'\n",
      " 'Palestinian Extremists' ... 'Taliban'\n",
      " 'Bangsamoro Islamic Freedom Movement (BIFM)' \"New People's Army (NPA)\"]\n"
     ]
    }
   ],
   "source": [
    "# predict\n",
    "y_new_pred = model.predict([padded_docs1_new,padded_docs2_new,x_new_dtm])\n",
    "\n",
    "# inverse transform to get the group name\n",
    "print(encoder.inverse_transform(y_new_pred))"
   ]
  },
  {
   "cell_type": "code",
   "execution_count": null,
   "metadata": {},
   "outputs": [],
   "source": []
  }
 ],
 "metadata": {
  "kernelspec": {
   "display_name": "Python 3",
   "language": "python",
   "name": "python3"
  },
  "language_info": {
   "codemirror_mode": {
    "name": "ipython",
    "version": 3
   },
   "file_extension": ".py",
   "mimetype": "text/x-python",
   "name": "python",
   "nbconvert_exporter": "python",
   "pygments_lexer": "ipython3",
   "version": "3.6.4"
  }
 },
 "nbformat": 4,
 "nbformat_minor": 2
}
