{
 "cells": [
  {
   "cell_type": "markdown",
   "metadata": {},
   "source": [
    "## Predicting the responsible terrorist group of a terror attacks using machine learning models. \n",
    "\n",
    "The codebook for the data can be found here:\n",
    "http://apps.start.umd.edu/gtd/downloads/dataset/Codebook.pdf"
   ]
  },
  {
   "cell_type": "code",
   "execution_count": 1,
   "metadata": {
    "scrolled": true
   },
   "outputs": [
    {
     "name": "stderr",
     "output_type": "stream",
     "text": [
      "/home/rahmani/anaconda3/lib/python3.6/site-packages/h5py/__init__.py:36: FutureWarning: Conversion of the second argument of issubdtype from `float` to `np.floating` is deprecated. In future, it will be treated as `np.float64 == np.dtype(float).type`.\n",
      "  from ._conv import register_converters as _register_converters\n",
      "Using TensorFlow backend.\n"
     ]
    },
    {
     "name": "stdout",
     "output_type": "stream",
     "text": [
      "[nltk_data] Downloading package punkt to /home/rahmani/nltk_data...\n",
      "[nltk_data]   Package punkt is already up-to-date!\n",
      "[nltk_data] Downloading package stopwords to\n",
      "[nltk_data]     /home/rahmani/nltk_data...\n",
      "[nltk_data]   Package stopwords is already up-to-date!\n"
     ]
    }
   ],
   "source": [
    "# import libraries\n",
    "import os\n",
    "import json\n",
    "import pickle\n",
    "import numpy as np\n",
    "import pandas as pd\n",
    "from matplotlib import pyplot as plt\n",
    "import statsmodels.formula.api as smf\n",
    "import patsy\n",
    "import seaborn as sns\n",
    "from scipy.sparse import save_npz,load_npz\n",
    "from scipy.stats import norm\n",
    "import random\n",
    "import matplotlib\n",
    "from matplotlib import pyplot\n",
    "import matplotlib.pyplot as plt\n",
    "\n",
    "from sklearn.naive_bayes import GaussianNB\n",
    "from sklearn.svm import SVC\n",
    "from sklearn.tree import DecisionTreeClassifier\n",
    "from sklearn.ensemble import VotingClassifier,RandomForestClassifier\n",
    "from sklearn.neighbors import KNeighborsClassifier\n",
    "from sklearn.linear_model import LogisticRegression\n",
    "from sklearn.feature_extraction.text import CountVectorizer\n",
    "from sklearn.pipeline import make_pipeline, make_union,Pipeline,FeatureUnion\n",
    "from sklearn.preprocessing import FunctionTransformer,LabelEncoder,LabelBinarizer,StandardScaler,Imputer,RobustScaler,OneHotEncoder,QuantileTransformer,MaxAbsScaler\n",
    "from sklearn.model_selection import train_test_split,cross_val_score,GridSearchCV,cross_validate\n",
    "from sklearn.metrics import confusion_matrix,classification_report,precision_score,accuracy_score\n",
    "from sklearn.externals import joblib\n",
    "from sklearn_pandas import DataFrameMapper\n",
    "from sklearn.decomposition import TruncatedSVD,PCA\n",
    "from geopy.geocoders import Nominatim\n",
    "import reverse_geocoder as rg\n",
    "import requests\n",
    "import time\n",
    "import missingno as msno\n",
    "import re\n",
    "from nltk.corpus import stopwords\n",
    "from nltk import word_tokenize\n",
    "from nltk.stem.snowball import SnowballStemmer\n",
    "import nltk\n",
    "import string \n",
    "from PIL import Image\n",
    "from os import path\n",
    "import random\n",
    "from utils import *\n",
    "from wordcloud import WordCloud, STOPWORDS\n",
    "import fancyimpute \n",
    "from fancyimpute import BiScaler, KNN, NuclearNormMinimization, SoftImpute, MICE\n",
    "import xgboost as xgb\n",
    "from sklearn.feature_extraction.text import TfidfVectorizer\n",
    "from hyperopt import fmin, tpe, hp, STATUS_OK, Trials\n",
    "\n",
    "%matplotlib inline\n",
    "\n",
    "nltk.download('punkt')\n",
    "nltk.download('stopwords')\n",
    "stemmer = SnowballStemmer(\"english\")\n",
    "pd.options.mode.chained_assignment = None\n",
    "pd.set_option('max_info_columns', 200)\n",
    "pd.options.display.float_format = '{:,.2f}'.format\n"
   ]
  },
  {
   "cell_type": "markdown",
   "metadata": {},
   "source": [
    "### Import data. Many data points are systematically available for incidents occurring after 1997 so we only use the data collected after 1997 (look at the codebook)."
   ]
  },
  {
   "cell_type": "code",
   "execution_count": 2,
   "metadata": {},
   "outputs": [
    {
     "name": "stderr",
     "output_type": "stream",
     "text": [
      "/home/rahmani/anaconda3/lib/python3.6/site-packages/IPython/core/interactiveshell.py:2728: DtypeWarning: Columns (4,6,31,33,53,61,62,63,76,79,90,92,94,96,114,115,121) have mixed types. Specify dtype option on import or set low_memory=False.\n",
      "  interactivity=interactivity, compiler=compiler, result=result)\n"
     ]
    }
   ],
   "source": [
    "terrorism = pd.read_csv('terrorist_data.csv')\n",
    "dff = terrorism[terrorism.iyear >= 1998]\n",
    "dff.reset_index(drop=True,inplace=True)"
   ]
  },
  {
   "cell_type": "markdown",
   "metadata": {},
   "source": [
    "### Fill unknown cities using the latitude and longitude. (Google API and geocoder)"
   ]
  },
  {
   "cell_type": "code",
   "execution_count": 3,
   "metadata": {
    "scrolled": false
   },
   "outputs": [
    {
     "name": "stdout",
     "output_type": "stream",
     "text": [
      "Loading formatted geocoded file...\n"
     ]
    }
   ],
   "source": [
    "# Google API needs internet connection and doesn't work for all values, so after using google api\n",
    "# fill the remaining unknown cities using geooder\n",
    "\n",
    "latlng = dff.loc[dff['city'].isnull()].apply(lambda row: '{},{}'.format(row['latitude'], row['longitude']), axis=1)\n",
    "geocode = latlng.map(reverse_geocode)\n",
    "dff.loc[geocode.index,('city')] = geocode.map(parse_city)\n",
    "dff.loc[dff['city'].isnull()][['longitude','latitude']].loc[~dff['longitude'].isnull()]\n",
    "def city_finder(x):\n",
    "    coordinates = (x['longitude'],x['latitude'])\n",
    "    results = dict(rg.search(coordinates)[0])\n",
    "    return(results['name'])\n",
    "    \n",
    "city = dff.loc[dff['city'].isnull()][['longitude','latitude']].loc[~dff['longitude'].isnull()].apply(city_finder,axis=1)\n",
    "dff.loc[city.index,'city'] = city.values"
   ]
  },
  {
   "cell_type": "code",
   "execution_count": 4,
   "metadata": {
    "scrolled": true
   },
   "outputs": [
    {
     "name": "stdout",
     "output_type": "stream",
     "text": [
      "There are 102914 incidents and 135 features\n"
     ]
    }
   ],
   "source": [
    "print('There are %d incidents and %d features' %(dff.shape[0],dff.shape[1]))"
   ]
  },
  {
   "cell_type": "markdown",
   "metadata": {},
   "source": [
    "#### Remove features with more than 20% missing values and removing some features that are not usefull such as eventid, etc."
   ]
  },
  {
   "cell_type": "code",
   "execution_count": 5,
   "metadata": {
    "scrolled": true
   },
   "outputs": [
    {
     "name": "stdout",
     "output_type": "stream",
     "text": [
      "number of features:  54\n"
     ]
    }
   ],
   "source": [
    "features = []\n",
    "for d in dff.columns:\n",
    "    if dff[d].isnull().sum()<0.2*len(dff): features.append(d)\n",
    "features = [x for x in features if x not in ['eventid','latitude','longitude']]\n",
    "if 'gname' not in features:features.append('gname')\n",
    "print('number of features: ',len(features))\n",
    "dff = dff[features]"
   ]
  },
  {
   "cell_type": "code",
   "execution_count": 6,
   "metadata": {},
   "outputs": [],
   "source": [
    "# defining different type of features\n",
    "\n",
    "text_features = ['summary','target1','city','corp1']  # scite1 is txt feature but we combine it later with summary\n",
    "\n",
    "number_features = ['nperpcap', 'nkill', 'nkillus', 'nkillter', 'nwound', 'nwoundus', 'nwoundte']\n",
    "\n",
    "binary_features = ['INT_MISC','claimed', 'crit1', \n",
    "                    'crit2', 'crit3', 'doubtterr','extended', \n",
    "                    'guncertain1','individual','ishostkid', \n",
    "                    'multiple','property', \n",
    "                    'success', 'suicide', \n",
    "                    'vicinity']\n",
    "\n",
    "# define a new feature for each number_features corresponding to if that number feature is missing or not.\n",
    "for d in number_features:\n",
    "    binary_features.append(d+'_isknown')\n",
    "\n",
    "range_features_txt = ['dbsource','provstate',\n",
    "                     'attacktype1_txt','country_txt','region_txt',\n",
    "                     'targsubtype1_txt', 'targtype1_txt', \n",
    "                    'weapsubtype1_txt', 'weaptype1_txt','natlty1_txt']\n",
    "\n",
    "\n",
    "range_features_numeric = ['iday','imonth','iyear', 'specificity']"
   ]
  },
  {
   "cell_type": "markdown",
   "metadata": {},
   "source": [
    "#### Replace -9 and -99 in number features with nan (to impute later).\n",
    "\n",
    "#### Impute nan in binary features with -9 (corresponding to unknown). \n",
    "\n",
    "#### Impute nan in range features with 'Unknown' for and with 0 for numbers."
   ]
  },
  {
   "cell_type": "code",
   "execution_count": 7,
   "metadata": {},
   "outputs": [],
   "source": [
    "for col in number_features:\n",
    "    dff[col].loc[(dff[col]==-9) | (dff[col]==-99)] = np.nan\n",
    "    \n",
    "# add a feature for number features that if they are null it is 1 and 0 otherwise.\n",
    "for d in number_features:\n",
    "    dff[d+'_isknown'] = dff[d].isnull()*1\n",
    "    \n",
    "for col in binary_features:\n",
    "    dff[col].loc[dff[col]==-99] = -9\n",
    "    dff[col].loc[dff[col].isnull()] = -9\n",
    "\n",
    "for col in range_features_txt:\n",
    "    dff[col].loc[dff[col].isnull()] = 'Unknown'\n",
    "\n",
    "for col in range_features_numeric:\n",
    "    dff[col].loc[dff[col].isnull()] = 0\n"
   ]
  },
  {
   "cell_type": "markdown",
   "metadata": {},
   "source": [
    "## Stemming\n",
    "\n",
    "#### First we combine the more explanotary text features (summary and scite1), stem them. Then we combine other text features that do not require stemming such as city and target."
   ]
  },
  {
   "cell_type": "code",
   "execution_count": 8,
   "metadata": {
    "scrolled": false
   },
   "outputs": [
    {
     "name": "stdout",
     "output_type": "stream",
     "text": [
      "First original summery: \n",
      " 01/01/1998: Hutu Rebels attacked a Burundi military target at Bujumbura Airport. The attack resulted in 104 fatalities, including 100 perpetrators, and six injuries.\n",
      "Firt summary after stemming and combining text features: \n",
      " hutu rebel attack burundi militari target bujumbura airport attack result fatal includ perpetr injuri burundi rebel ex rwandan armi soldier blame attack bujumbura radio televis national du burundi radio french januari Burundi Military Bujumbura Airport Bujumbura Burundi Military\n"
     ]
    }
   ],
   "source": [
    "print('First original summery: \\n',dff.summary.iloc[0])\n",
    "# First we stem the words in the summary, remove punctuations, numbers, stopwords and white spaces. \n",
    "# we also remove word \"al\" since \"al\" means \"the\" in arabic.\n",
    "\n",
    "# combine summary and scite1\n",
    "dff['summary'] = dff['summary'] + ' ' + dff['scite1']\n",
    "dff.summary = dff.summary.apply(lambda x:word_tokenize(str(x))).apply(lambda x:' '.join(list(map(stemmer.stem,x)))) # stemming, this takes couple of minutes\n",
    "dff.summary = dff.summary.apply(lambda x:text2int(x))  # convert text numbers to digits\n",
    "\n",
    "# add other text features\n",
    "for txt_col in text_features:\n",
    "    if txt_col != 'summary':\n",
    "        dff['summary'] = dff['summary'] + ' ' + dff[txt_col]\n",
    "RE_PUNCTUATION = '|'.join([re.escape(x) for x in string.punctuation])  #https://stackoverflow.com/questions/33047818/remove-punctuation-for-each-row-in-a-pandas-data-frame \n",
    "table = str.maketrans(\"\",\"\",string.punctuation+'”'+'“')\n",
    "stops = set(stopwords.words(\"english\") + ['al']) \n",
    "pat = r'\\b(?:{})\\b'.format('|'.join(stops))\n",
    "for col in ['provstate','summary','target1']:\n",
    "    dff[col] = dff[col].str.translate(table)    # remove punctuation\n",
    "    dff[col] = dff[col].str.replace(pat,'')                # remove stopwords and \"al\"\n",
    "    dff[col] = dff[col].str.replace('\\d+','')             # remove numbers\n",
    "    dff[col] = dff[col].str.replace(r'\\s+', ' ')          # remove white spaces\n",
    "    dff[col] = dff[col].str.strip()                       # remove whitespaces\n",
    "\n",
    "    \n",
    "print('Firt summary after stemming and combining text features: \\n',dff.summary.iloc[0])"
   ]
  },
  {
   "cell_type": "markdown",
   "metadata": {},
   "source": [
    "## Both describe and histograms show the presence of outliers in number features:"
   ]
  },
  {
   "cell_type": "code",
   "execution_count": 9,
   "metadata": {
    "scrolled": true
   },
   "outputs": [
    {
     "data": {
      "text/html": [
       "<div>\n",
       "<style scoped>\n",
       "    .dataframe tbody tr th:only-of-type {\n",
       "        vertical-align: middle;\n",
       "    }\n",
       "\n",
       "    .dataframe tbody tr th {\n",
       "        vertical-align: top;\n",
       "    }\n",
       "\n",
       "    .dataframe thead th {\n",
       "        text-align: right;\n",
       "    }\n",
       "</style>\n",
       "<table border=\"1\" class=\"dataframe\">\n",
       "  <thead>\n",
       "    <tr style=\"text-align: right;\">\n",
       "      <th></th>\n",
       "      <th>nperpcap</th>\n",
       "      <th>nkill</th>\n",
       "      <th>nkillus</th>\n",
       "      <th>nkillter</th>\n",
       "      <th>nwound</th>\n",
       "      <th>nwoundus</th>\n",
       "      <th>nwoundte</th>\n",
       "    </tr>\n",
       "  </thead>\n",
       "  <tbody>\n",
       "    <tr>\n",
       "      <th>count</th>\n",
       "      <td>98,786.00</td>\n",
       "      <td>99,268.00</td>\n",
       "      <td>102,549.00</td>\n",
       "      <td>100,549.00</td>\n",
       "      <td>95,670.00</td>\n",
       "      <td>102,344.00</td>\n",
       "      <td>98,819.00</td>\n",
       "    </tr>\n",
       "    <tr>\n",
       "      <th>mean</th>\n",
       "      <td>0.13</td>\n",
       "      <td>2.53</td>\n",
       "      <td>0.04</td>\n",
       "      <td>0.47</td>\n",
       "      <td>3.91</td>\n",
       "      <td>0.02</td>\n",
       "      <td>0.10</td>\n",
       "    </tr>\n",
       "    <tr>\n",
       "      <th>std</th>\n",
       "      <td>2.19</td>\n",
       "      <td>12.13</td>\n",
       "      <td>5.96</td>\n",
       "      <td>4.21</td>\n",
       "      <td>39.05</td>\n",
       "      <td>0.77</td>\n",
       "      <td>1.46</td>\n",
       "    </tr>\n",
       "    <tr>\n",
       "      <th>min</th>\n",
       "      <td>0.00</td>\n",
       "      <td>0.00</td>\n",
       "      <td>0.00</td>\n",
       "      <td>0.00</td>\n",
       "      <td>0.00</td>\n",
       "      <td>0.00</td>\n",
       "      <td>0.00</td>\n",
       "    </tr>\n",
       "    <tr>\n",
       "      <th>25%</th>\n",
       "      <td>0.00</td>\n",
       "      <td>0.00</td>\n",
       "      <td>0.00</td>\n",
       "      <td>0.00</td>\n",
       "      <td>0.00</td>\n",
       "      <td>0.00</td>\n",
       "      <td>0.00</td>\n",
       "    </tr>\n",
       "    <tr>\n",
       "      <th>50%</th>\n",
       "      <td>0.00</td>\n",
       "      <td>1.00</td>\n",
       "      <td>0.00</td>\n",
       "      <td>0.00</td>\n",
       "      <td>0.00</td>\n",
       "      <td>0.00</td>\n",
       "      <td>0.00</td>\n",
       "    </tr>\n",
       "    <tr>\n",
       "      <th>75%</th>\n",
       "      <td>0.00</td>\n",
       "      <td>2.00</td>\n",
       "      <td>0.00</td>\n",
       "      <td>0.00</td>\n",
       "      <td>3.00</td>\n",
       "      <td>0.00</td>\n",
       "      <td>0.00</td>\n",
       "    </tr>\n",
       "    <tr>\n",
       "      <th>max</th>\n",
       "      <td>406.00</td>\n",
       "      <td>1,500.00</td>\n",
       "      <td>1,358.00</td>\n",
       "      <td>500.00</td>\n",
       "      <td>7,366.00</td>\n",
       "      <td>151.00</td>\n",
       "      <td>200.00</td>\n",
       "    </tr>\n",
       "  </tbody>\n",
       "</table>\n",
       "</div>"
      ],
      "text/plain": [
       "       nperpcap     nkill    nkillus   nkillter    nwound   nwoundus  nwoundte\n",
       "count 98,786.00 99,268.00 102,549.00 100,549.00 95,670.00 102,344.00 98,819.00\n",
       "mean       0.13      2.53       0.04       0.47      3.91       0.02      0.10\n",
       "std        2.19     12.13       5.96       4.21     39.05       0.77      1.46\n",
       "min        0.00      0.00       0.00       0.00      0.00       0.00      0.00\n",
       "25%        0.00      0.00       0.00       0.00      0.00       0.00      0.00\n",
       "50%        0.00      1.00       0.00       0.00      0.00       0.00      0.00\n",
       "75%        0.00      2.00       0.00       0.00      3.00       0.00      0.00\n",
       "max      406.00  1,500.00   1,358.00     500.00  7,366.00     151.00    200.00"
      ]
     },
     "execution_count": 9,
     "metadata": {},
     "output_type": "execute_result"
    }
   ],
   "source": [
    "dff[number_features].describe()"
   ]
  },
  {
   "cell_type": "code",
   "execution_count": 10,
   "metadata": {
    "scrolled": true
   },
   "outputs": [
    {
     "name": "stderr",
     "output_type": "stream",
     "text": [
      "/usr/local/lib/python3.6/site-packages/matplotlib/axes/_axes.py:6448: UserWarning: The 'normed' kwarg is deprecated, and has been replaced by the 'density' kwarg.\n",
      "  warnings.warn(\"The 'normed' kwarg is deprecated, and has been \"\n"
     ]
    },
    {
     "data": {
      "image/png": "[encoded data removed]",
      "text/plain": [
       "<Figure size 1440x1440 with 7 Axes>"
      ]
     },
     "metadata": {},
     "output_type": "display_data"
    }
   ],
   "source": [
    "sns.set(font_scale=2)\n",
    "fig = plt.figure()\n",
    "for i,col in enumerate(number_features):\n",
    "    ax = fig.add_subplot(6,3,i+1)\n",
    "    sns.distplot(dff[col].dropna(),fit=norm, bins=10,ax=ax)\n",
    "\n",
    "fig.set_size_inches(20,20)\n",
    "plt.tight_layout()\n",
    "# sns.boxplot(dff.nwound.dropna(), color = \"green\", orient = \"v\")\n",
    "# sns.violinplot(dff.nwound.dropna(), color = 'cyan')"
   ]
  },
  {
   "cell_type": "markdown",
   "metadata": {},
   "source": [
    "## Correleation between the number features"
   ]
  },
  {
   "cell_type": "code",
   "execution_count": 11,
   "metadata": {
    "scrolled": false
   },
   "outputs": [
    {
     "data": {
      "text/plain": [
       "<matplotlib.axes._subplots.AxesSubplot at 0x7f39cdad4978>"
      ]
     },
     "execution_count": 11,
     "metadata": {},
     "output_type": "execute_result"
    },
    {
     "data": {
      "image/png": "[encoded data removed]",
      "text/plain": [
       "<Figure size 432x288 with 2 Axes>"
      ]
     },
     "metadata": {},
     "output_type": "display_data"
    }
   ],
   "source": [
    "sns.set(style=\"white\",font_scale=2)\n",
    "corr = dff[number_features].corr()\n",
    "mask = np.zeros_like(corr, dtype=np.bool)\n",
    "mask[np.triu_indices_from(mask)] = True\n",
    "f, ax = plt.subplots(figsize=(6, 4))\n",
    "cmap = sns.diverging_palette(220, 10, as_cmap=True)\n",
    "sns.heatmap(corr, mask=mask, cmap=cmap, vmax=1, center=0,\n",
    "            square=True, linewidths=.5, cbar_kws={\"shrink\": .5})"
   ]
  },
  {
   "cell_type": "markdown",
   "metadata": {},
   "source": [
    "### Imputing numerical features using MICE algorithm from fancy impute.\n",
    "https://github.com/iskandr/fancyimpute"
   ]
  },
  {
   "cell_type": "code",
   "execution_count": 12,
   "metadata": {
    "scrolled": false
   },
   "outputs": [],
   "source": [
    "def numeric_fill(df,fill_values):\n",
    "    '''\n",
    "    Impute the rows that that all of the columns are missing using Imputer from sklearn.\n",
    "    Then impute other missing values using MICE.\n",
    "    '''    \n",
    "    \n",
    "    imputer = Imputer()\n",
    "    x = imputer.fit_transform(df)\n",
    "    x = pd.DataFrame(x,columns = df.columns,index=df.index)\n",
    "    x = x.loc[df.index[df.isnull().all(1)]] \n",
    "    df = df.combine_first(x)\n",
    "\n",
    "# softimpute \n",
    "#    biscaler = BiScaler(verbose=False)\n",
    "#    X_incomplete_normalized = biscaler.fit_transform(df[numerical_features].values)\n",
    "#    X_filled_softimpute_normalized = SoftImpute(verbose=False).complete(X_incomplete_normalized)\n",
    "#    X_filled_softimpute =biscaler.inverse_transform(\\\n",
    "#                           X_filled_softimpute_normalized)\n",
    "#    X_filled_softimpute = pd.DataFrame(X_filled_softimpute,columns=numerical_features,index=df[numerical_features].index)\n",
    "#    df = df.combine_first(X_filled_softimpute)\n",
    "\n",
    "# MICE impute\n",
    "    mice = MICE(n_imputations=20, impute_type='pmm',verbose=False)\n",
    "    X_completed = mice.complete(df.values)\n",
    "    X_completed = pd.DataFrame(X_completed,columns=df.columns,index=df.index)\n",
    "    df = df.combine_first(X_completed)\n",
    "    return df"
   ]
  },
  {
   "cell_type": "code",
   "execution_count": 13,
   "metadata": {
    "scrolled": true
   },
   "outputs": [
    {
     "name": "stderr",
     "output_type": "stream",
     "text": [
      "/usr/local/lib/python3.6/site-packages/sklearn/utils/deprecation.py:58: DeprecationWarning: Class Imputer is deprecated; Imputer was deprecated in version 0.20 and will be removed in 0.22. Import impute.SimpleImputer from sklearn instead.\n",
      "  warnings.warn(msg, category=DeprecationWarning)\n"
     ]
    }
   ],
   "source": [
    "# perform the imputation on numerical features\n",
    "dg = dff[number_features]\n",
    "dg = numeric_fill(dg,{})\n",
    "dff = dff.combine_first(dg)"
   ]
  },
  {
   "cell_type": "markdown",
   "metadata": {},
   "source": [
    "#### Save the dataframe (for debugging purposes)"
   ]
  },
  {
   "cell_type": "code",
   "execution_count": 14,
   "metadata": {},
   "outputs": [],
   "source": [
    "dff.to_pickle('dff_impute.p')"
   ]
  },
  {
   "cell_type": "code",
   "execution_count": 15,
   "metadata": {},
   "outputs": [],
   "source": [
    "dff = pd.read_pickle('dff_impute.p')"
   ]
  },
  {
   "cell_type": "code",
   "execution_count": 16,
   "metadata": {
    "scrolled": false
   },
   "outputs": [],
   "source": [
    "# impute nan in text features by empty\n",
    "def get_feature_text(col):\n",
    "    def get_text(df):\n",
    "        return df[col].fillna(\"\")    \n",
    "    return get_text\n",
    "\n",
    "all_features = number_features + binary_features + range_features_txt + range_features_numeric + text_features"
   ]
  },
  {
   "cell_type": "code",
   "execution_count": 17,
   "metadata": {
    "scrolled": false
   },
   "outputs": [
    {
     "name": "stdout",
     "output_type": "stream",
     "text": [
      "number of unique gnames: 99\n"
     ]
    }
   ],
   "source": [
    "# Keep attacks that their responsible terrorist group had done more than (threshold) attacks.\n",
    "def occur(dff,threshold):\n",
    "    gname_counts = dff.gname.value_counts()\n",
    "    gnames_over_threshold = gname_counts[gname_counts > threshold].index\n",
    "    dff = dff[dff.gname.isin(gnames_over_threshold)]\n",
    "    dff_nognames = dff[dff.gname == \"Unknown\"]\n",
    "    dff = dff[dff.gname != \"Unknown\"]\n",
    "    return(dff,dff_nognames)\n",
    "\n",
    "# lower threshold can be chosen which reducing the accuracy of models. \n",
    "# (50 is also chosen to make comparison with available model on the web, but feel free to choose threshold>2)\n",
    "\n",
    "dff,dff_nognames = occur(dff,50)       \n",
    "print(\"number of unique gnames:\",dff.gname.unique().size)"
   ]
  },
  {
   "cell_type": "markdown",
   "metadata": {},
   "source": [
    "### Make pipelines"
   ]
  },
  {
   "cell_type": "code",
   "execution_count": 18,
   "metadata": {
    "scrolled": false
   },
   "outputs": [],
   "source": [
    "# Pipeline for text features. First step is imputing null with empty.\n",
    "# Second step is using TfidfVectorizer to vectorize the text.\n",
    "# At the last step MaxAbsScaler is used to scale each feature by its maximum absolute value.\n",
    "# I tried TruncatedSVD dimensionality reduction and QunatileTransformer normalization.\n",
    "# It either didn't work well or didn't make a difference.\n",
    "\n",
    "\n",
    "pipelines = []\n",
    "for col in ['summary']:\n",
    "    get_text_ft = FunctionTransformer(get_feature_text(col), validate=False)\n",
    "    pipelines.append(make_pipeline(get_text_ft,\n",
    "                                   TfidfVectorizer(decode_error='ignore'),\n",
    "                                   MaxAbsScaler()))    \n",
    "#    pipelines.append(make_pipeline(get_text_ft,\n",
    "#                                   TfidfVectorizer(decode_error='ignore'),\n",
    "#                                   TruncatedSVD(n_components=1000)))           \n",
    "#    pipelines.append(make_pipeline(get_text_ft,\n",
    "#                                   TfidfVectorizer(decode_error='ignore')))\n",
    "#    pipelines.append(make_pipeline(get_text_ft,\n",
    "#                                   TfidfVectorizer(decode_error='ignore'),\n",
    "#                                    QuantileTransformer()))\n",
    "\n",
    "union1 = make_union(*pipelines)\n",
    "\n",
    "\n",
    "# Using LabelBinarizer to change the binary and range features from labels to binary.\n",
    "# Number features are not touched here.\n",
    "mapper = DataFrameMapper(\n",
    "  [(col, LabelBinarizer()) for col in range_features_numeric]\n",
    " +[(col, LabelBinarizer()) for col in range_features_txt]   \n",
    " +[(col, LabelBinarizer()) for col in binary_features]    \n",
    " +[(nomap_col, None) for nomap_col in number_features]   \n",
    ")\n",
    "\n",
    "\n",
    "# add the MaxAbsScaler\n",
    "mac = MaxAbsScaler()\n",
    "union2 = make_pipeline(mapper,mac)\n",
    "\n",
    "\n",
    "# I tried PCA dimensionality reduction for these features, it either didn't work well or didn't make a difference.\n",
    "# pca = PCA(20)\n",
    "# pipl2 = make_pipeline(mapper,pca)\n",
    "\n",
    "\n",
    "# Make one pipeline \n",
    "union = Pipeline([\n",
    "    ('features',FeatureUnion([\n",
    "        ('s1',union1),\n",
    "        ('s2',union2)\n",
    "    ]))\n",
    "])\n",
    "\n",
    "\n",
    "# Split the data\n",
    "\n",
    "X_train, X_test, y_train, y_test = train_test_split(dff[all_features],\\\n",
    "                                                    dff.gname,\\\n",
    "                                                    test_size = 0.3,\\\n",
    "                                                    random_state = 15)\n",
    "\n",
    "# Fit and transform \n",
    "X_train_dtm = union.fit_transform(X_train)\n",
    "X_test_dtm = union.transform(X_test)\n",
    "x_new_dtm = union.transform(dff_nognames)\n",
    "\n",
    "\n",
    "assert(X_train_dtm.shape[1]==X_test_dtm.shape[1] and X_train_dtm.shape[1]==x_new_dtm.shape[1])\n"
   ]
  },
  {
   "cell_type": "code",
   "execution_count": 19,
   "metadata": {},
   "outputs": [],
   "source": [
    "# Binarize the group names (y)\n",
    "lba = LabelEncoder()\n",
    "y_tr = lba.fit_transform(y_train)\n",
    "y_te = lba.transform(y_test)\n"
   ]
  },
  {
   "cell_type": "markdown",
   "metadata": {},
   "source": [
    "### Here we build a XGBClassifier. \n",
    "\n",
    "#### The idea is that to use gridsearch only on max_depth to find a priliminary best classifier. Use this classifier to find the most important features. Then use the Baysian optimization to find the best classifier using only important features afterwards. "
   ]
  },
  {
   "cell_type": "code",
   "execution_count": 20,
   "metadata": {},
   "outputs": [
    {
     "name": "stderr",
     "output_type": "stream",
     "text": [
      "/usr/local/lib/python3.6/site-packages/sklearn/model_selection/_search.py:715: DeprecationWarning: The default of the `iid` parameter will change from True to False in version 0.22 and will be removed in 0.24. This will change numeric results when test-set sizes are unequal.\n",
      "  DeprecationWarning)\n"
     ]
    }
   ],
   "source": [
    "param = {\n",
    "    'max_depth': [3,5,7,9],  # the maximum depth of each tree\n",
    "    'learning_rate': [0.05],\n",
    "    'n_estimators':[5],\n",
    "    'silent':[0],\n",
    "    'objective':['multi:softmax'],\n",
    "    'random_state':[12],\n",
    "    'n_jobs':[7]\n",
    "}  \n",
    "\n",
    "bst_grid = GridSearchCV(xgb.XGBClassifier(), param_grid=param,verbose=0,return_train_score=False)\n",
    "bst = bst_grid.fit(X_train_dtm,y_tr)"
   ]
  },
  {
   "cell_type": "code",
   "execution_count": 21,
   "metadata": {},
   "outputs": [
    {
     "name": "stdout",
     "output_type": "stream",
     "text": [
      "test score = 0.967\n"
     ]
    }
   ],
   "source": [
    "preds = bst.predict(X_test_dtm)\n",
    "print('test score = %.3f' %(accuracy_score(y_te, preds)))"
   ]
  },
  {
   "cell_type": "markdown",
   "metadata": {},
   "source": [
    "#### Find the first 800 important features and reduce the train and test sets."
   ]
  },
  {
   "cell_type": "code",
   "execution_count": 22,
   "metadata": {},
   "outputs": [],
   "source": [
    "a = bst.best_estimator_.feature_importances_\n",
    "f = sorted(range(len(a)), key=lambda i: a[i])[-800:]\n",
    "X_test_important_dtm = X_test_dtm[:,f]\n",
    "X_train_important_dtm = X_train_dtm[:,f]\n",
    "x_new_important_dtm = x_new_dtm[:,f]"
   ]
  },
  {
   "cell_type": "markdown",
   "metadata": {},
   "source": [
    "## Build XGBClassifier. Use Baysian optimization to find the best parameters."
   ]
  },
  {
   "cell_type": "code",
   "execution_count": 23,
   "metadata": {},
   "outputs": [
    {
     "name": "stdout",
     "output_type": "stream",
     "text": [
      "[CV]  ................................................................\n",
      "[CV] ................................................. , total=   6.0s\n",
      "[CV]  ................................................................\n"
     ]
    },
    {
     "name": "stderr",
     "output_type": "stream",
     "text": [
      "[Parallel(n_jobs=1)]: Done   1 out of   1 | elapsed:    6.2s remaining:    0.0s\n"
     ]
    },
    {
     "name": "stdout",
     "output_type": "stream",
     "text": [
      "[CV] ................................................. , total=   5.7s\n",
      "[CV]  ................................................................\n",
      "[CV] ................................................. , total=   6.3s\n",
      "test score =  0.882183341822056\n"
     ]
    },
    {
     "name": "stderr",
     "output_type": "stream",
     "text": [
      "[Parallel(n_jobs=1)]: Done   3 out of   3 | elapsed:   18.2s finished\n"
     ]
    },
    {
     "name": "stdout",
     "output_type": "stream",
     "text": [
      "[CV]  ................................................................\n",
      "[CV] ................................................. , total=   5.6s\n",
      "[CV]  ................................................................\n"
     ]
    },
    {
     "name": "stderr",
     "output_type": "stream",
     "text": [
      "[Parallel(n_jobs=1)]: Done   1 out of   1 | elapsed:    5.9s remaining:    0.0s\n"
     ]
    },
    {
     "name": "stdout",
     "output_type": "stream",
     "text": [
      "[CV] ................................................. , total=   5.6s\n",
      "[CV]  ................................................................\n",
      "[CV] ................................................. , total=   5.7s\n",
      "test score =  0.9310245197097943\n"
     ]
    },
    {
     "name": "stderr",
     "output_type": "stream",
     "text": [
      "[Parallel(n_jobs=1)]: Done   3 out of   3 | elapsed:   17.2s finished\n"
     ]
    },
    {
     "name": "stdout",
     "output_type": "stream",
     "text": [
      "[CV]  ................................................................\n",
      "[CV] ................................................. , total=   3.6s\n",
      "[CV]  ................................................................\n"
     ]
    },
    {
     "name": "stderr",
     "output_type": "stream",
     "text": [
      "[Parallel(n_jobs=1)]: Done   1 out of   1 | elapsed:    3.8s remaining:    0.0s\n"
     ]
    },
    {
     "name": "stdout",
     "output_type": "stream",
     "text": [
      "[CV] ................................................. , total=   3.6s\n",
      "[CV]  ................................................................\n",
      "[CV] ................................................. , total=   2.8s\n",
      "test score =  0.17208331942998323\n"
     ]
    },
    {
     "name": "stderr",
     "output_type": "stream",
     "text": [
      "[Parallel(n_jobs=1)]: Done   3 out of   3 | elapsed:   10.2s finished\n"
     ]
    },
    {
     "name": "stdout",
     "output_type": "stream",
     "text": [
      "[CV]  ................................................................\n",
      "[CV] ................................................. , total=   3.0s\n",
      "[CV]  ................................................................\n"
     ]
    },
    {
     "name": "stderr",
     "output_type": "stream",
     "text": [
      "[Parallel(n_jobs=1)]: Done   1 out of   1 | elapsed:    3.2s remaining:    0.0s\n"
     ]
    },
    {
     "name": "stdout",
     "output_type": "stream",
     "text": [
      "[CV] ................................................. , total=   3.2s\n",
      "[CV]  ................................................................\n",
      "[CV] ................................................. , total=   3.4s\n",
      "test score =  0.7349614387437918\n"
     ]
    },
    {
     "name": "stderr",
     "output_type": "stream",
     "text": [
      "[Parallel(n_jobs=1)]: Done   3 out of   3 | elapsed:    9.8s finished\n"
     ]
    },
    {
     "name": "stdout",
     "output_type": "stream",
     "text": [
      "[CV]  ................................................................\n",
      "[CV] ................................................. , total=   5.8s\n",
      "[CV]  ................................................................\n"
     ]
    },
    {
     "name": "stderr",
     "output_type": "stream",
     "text": [
      "[Parallel(n_jobs=1)]: Done   1 out of   1 | elapsed:    6.1s remaining:    0.0s\n"
     ]
    },
    {
     "name": "stdout",
     "output_type": "stream",
     "text": [
      "[CV] ................................................. , total=   5.9s\n",
      "[CV]  ................................................................\n",
      "[CV] ................................................. , total=   5.9s\n",
      "test score =  0.9381399131626971\n"
     ]
    },
    {
     "name": "stderr",
     "output_type": "stream",
     "text": [
      "[Parallel(n_jobs=1)]: Done   3 out of   3 | elapsed:   17.9s finished\n"
     ]
    },
    {
     "name": "stdout",
     "output_type": "stream",
     "text": [
      "[CV]  ................................................................\n",
      "[CV] ................................................. , total=   4.6s\n",
      "[CV]  ................................................................\n"
     ]
    },
    {
     "name": "stderr",
     "output_type": "stream",
     "text": [
      "[Parallel(n_jobs=1)]: Done   1 out of   1 | elapsed:    4.9s remaining:    0.0s\n"
     ]
    },
    {
     "name": "stdout",
     "output_type": "stream",
     "text": [
      "[CV] ................................................. , total=   5.0s\n",
      "[CV]  ................................................................\n",
      "[CV] ................................................. , total=   4.9s\n",
      "test score =  0.9425811002608077\n"
     ]
    },
    {
     "name": "stderr",
     "output_type": "stream",
     "text": [
      "[Parallel(n_jobs=1)]: Done   3 out of   3 | elapsed:   14.8s finished\n"
     ]
    },
    {
     "name": "stdout",
     "output_type": "stream",
     "text": [
      "[CV]  ................................................................\n",
      "[CV] ................................................. , total=   2.4s\n",
      "[CV]  ................................................................\n"
     ]
    },
    {
     "name": "stderr",
     "output_type": "stream",
     "text": [
      "[Parallel(n_jobs=1)]: Done   1 out of   1 | elapsed:    2.6s remaining:    0.0s\n"
     ]
    },
    {
     "name": "stdout",
     "output_type": "stream",
     "text": [
      "[CV] ................................................. , total=   2.5s\n",
      "[CV]  ................................................................\n",
      "[CV] ................................................. , total=   2.5s\n",
      "test score =  0.5182142218460108\n"
     ]
    },
    {
     "name": "stderr",
     "output_type": "stream",
     "text": [
      "[Parallel(n_jobs=1)]: Done   3 out of   3 | elapsed:    7.6s finished\n"
     ]
    },
    {
     "name": "stdout",
     "output_type": "stream",
     "text": [
      "[CV]  ................................................................\n",
      "[CV] ................................................. , total=   6.0s\n",
      "[CV]  ................................................................\n"
     ]
    },
    {
     "name": "stderr",
     "output_type": "stream",
     "text": [
      "[Parallel(n_jobs=1)]: Done   1 out of   1 | elapsed:    6.2s remaining:    0.0s\n"
     ]
    },
    {
     "name": "stdout",
     "output_type": "stream",
     "text": [
      "[CV] ................................................. , total=   6.0s\n",
      "[CV]  ................................................................\n",
      "[CV] ................................................. , total=   6.1s\n",
      "test score =  0.9556224258058726\n"
     ]
    },
    {
     "name": "stderr",
     "output_type": "stream",
     "text": [
      "[Parallel(n_jobs=1)]: Done   3 out of   3 | elapsed:   18.3s finished\n"
     ]
    },
    {
     "name": "stdout",
     "output_type": "stream",
     "text": [
      "[CV]  ................................................................\n",
      "[CV] ................................................. , total=   7.1s\n",
      "[CV]  ................................................................\n"
     ]
    },
    {
     "name": "stderr",
     "output_type": "stream",
     "text": [
      "[Parallel(n_jobs=1)]: Done   1 out of   1 | elapsed:    7.3s remaining:    0.0s\n"
     ]
    },
    {
     "name": "stdout",
     "output_type": "stream",
     "text": [
      "[CV] ................................................. , total=   7.1s\n",
      "[CV]  ................................................................\n",
      "[CV] ................................................. , total=   7.2s\n",
      "test score =  0.9478443581959904\n"
     ]
    },
    {
     "name": "stderr",
     "output_type": "stream",
     "text": [
      "[Parallel(n_jobs=1)]: Done   3 out of   3 | elapsed:   21.6s finished\n"
     ]
    },
    {
     "name": "stdout",
     "output_type": "stream",
     "text": [
      "[CV]  ................................................................\n",
      "[CV] ................................................. , total=   5.7s\n",
      "[CV]  ................................................................\n"
     ]
    },
    {
     "name": "stderr",
     "output_type": "stream",
     "text": [
      "[Parallel(n_jobs=1)]: Done   1 out of   1 | elapsed:    5.9s remaining:    0.0s\n"
     ]
    },
    {
     "name": "stdout",
     "output_type": "stream",
     "text": [
      "[CV] ................................................. , total=   5.8s\n",
      "[CV]  ................................................................\n",
      "[CV] ................................................. , total=   5.9s\n",
      "test score =  0.940338854005753\n"
     ]
    },
    {
     "name": "stderr",
     "output_type": "stream",
     "text": [
      "[Parallel(n_jobs=1)]: Done   3 out of   3 | elapsed:   17.7s finished\n"
     ]
    },
    {
     "name": "stdout",
     "output_type": "stream",
     "text": [
      "[CV]  ................................................................\n",
      "[CV] ................................................. , total=   2.9s\n",
      "[CV]  ................................................................\n"
     ]
    },
    {
     "name": "stderr",
     "output_type": "stream",
     "text": [
      "[Parallel(n_jobs=1)]: Done   1 out of   1 | elapsed:    3.1s remaining:    0.0s\n"
     ]
    },
    {
     "name": "stdout",
     "output_type": "stream",
     "text": [
      "[CV] ................................................. , total=   3.2s\n",
      "[CV]  ................................................................\n",
      "[CV] ................................................. , total=   2.9s\n",
      "test score =  0.10947490314052315\n"
     ]
    },
    {
     "name": "stderr",
     "output_type": "stream",
     "text": [
      "[Parallel(n_jobs=1)]: Done   3 out of   3 | elapsed:    9.2s finished\n"
     ]
    },
    {
     "name": "stdout",
     "output_type": "stream",
     "text": [
      "[CV]  ................................................................\n",
      "[CV] ................................................. , total=   4.3s\n",
      "[CV]  ................................................................\n"
     ]
    },
    {
     "name": "stderr",
     "output_type": "stream",
     "text": [
      "[Parallel(n_jobs=1)]: Done   1 out of   1 | elapsed:    4.5s remaining:    0.0s\n"
     ]
    },
    {
     "name": "stdout",
     "output_type": "stream",
     "text": [
      "[CV] ................................................. , total=   4.3s\n",
      "[CV]  ................................................................\n",
      "[CV] ................................................. , total=   4.3s\n",
      "test score =  0.9295023535947161\n"
     ]
    },
    {
     "name": "stderr",
     "output_type": "stream",
     "text": [
      "[Parallel(n_jobs=1)]: Done   3 out of   3 | elapsed:   13.1s finished\n"
     ]
    },
    {
     "name": "stdout",
     "output_type": "stream",
     "text": [
      "[CV]  ................................................................\n",
      "[CV] ................................................. , total=   4.4s\n",
      "[CV]  ................................................................\n"
     ]
    },
    {
     "name": "stderr",
     "output_type": "stream",
     "text": [
      "[Parallel(n_jobs=1)]: Done   1 out of   1 | elapsed:    4.6s remaining:    0.0s\n"
     ]
    },
    {
     "name": "stdout",
     "output_type": "stream",
     "text": [
      "[CV] ................................................. , total=   4.4s\n",
      "[CV]  ................................................................\n",
      "[CV] ................................................. , total=   4.4s\n",
      "test score =  0.9388329170679258\n"
     ]
    },
    {
     "name": "stderr",
     "output_type": "stream",
     "text": [
      "[Parallel(n_jobs=1)]: Done   3 out of   3 | elapsed:   13.4s finished\n"
     ]
    },
    {
     "name": "stdout",
     "output_type": "stream",
     "text": [
      "[CV]  ................................................................\n",
      "[CV] ................................................. , total=   6.3s\n",
      "[CV]  ................................................................\n"
     ]
    },
    {
     "name": "stderr",
     "output_type": "stream",
     "text": [
      "[Parallel(n_jobs=1)]: Done   1 out of   1 | elapsed:    6.5s remaining:    0.0s\n"
     ]
    },
    {
     "name": "stdout",
     "output_type": "stream",
     "text": [
      "[CV] ................................................. , total=   6.3s\n",
      "[CV]  ................................................................\n",
      "[CV] ................................................. , total=   6.5s\n",
      "test score =  0.9110652507914886\n"
     ]
    },
    {
     "name": "stderr",
     "output_type": "stream",
     "text": [
      "[Parallel(n_jobs=1)]: Done   3 out of   3 | elapsed:   19.3s finished\n"
     ]
    },
    {
     "name": "stdout",
     "output_type": "stream",
     "text": [
      "[CV]  ................................................................\n",
      "[CV] ................................................. , total=   7.0s\n",
      "[CV]  ................................................................\n"
     ]
    },
    {
     "name": "stderr",
     "output_type": "stream",
     "text": [
      "[Parallel(n_jobs=1)]: Done   1 out of   1 | elapsed:    7.2s remaining:    0.0s\n"
     ]
    },
    {
     "name": "stdout",
     "output_type": "stream",
     "text": [
      "[CV] ................................................. , total=   7.0s\n",
      "[CV]  ................................................................\n",
      "[CV] ................................................. , total=   6.9s\n",
      "test score =  0.9061819102864836\n"
     ]
    },
    {
     "name": "stderr",
     "output_type": "stream",
     "text": [
      "[Parallel(n_jobs=1)]: Done   3 out of   3 | elapsed:   21.1s finished\n"
     ]
    },
    {
     "name": "stdout",
     "output_type": "stream",
     "text": [
      "[CV]  ................................................................\n",
      "[CV] ................................................. , total=   6.2s\n",
      "[CV]  ................................................................\n"
     ]
    },
    {
     "name": "stderr",
     "output_type": "stream",
     "text": [
      "[Parallel(n_jobs=1)]: Done   1 out of   1 | elapsed:    6.4s remaining:    0.0s\n"
     ]
    },
    {
     "name": "stdout",
     "output_type": "stream",
     "text": [
      "[CV] ................................................. , total=   6.2s\n",
      "[CV]  ................................................................\n",
      "[CV] ................................................. , total=   6.4s\n",
      "test score =  0.9563518619974204\n"
     ]
    },
    {
     "name": "stderr",
     "output_type": "stream",
     "text": [
      "[Parallel(n_jobs=1)]: Done   3 out of   3 | elapsed:   19.0s finished\n"
     ]
    },
    {
     "name": "stdout",
     "output_type": "stream",
     "text": [
      "[CV]  ................................................................\n",
      "[CV] ................................................. , total=   3.4s\n",
      "[CV]  ................................................................\n"
     ]
    },
    {
     "name": "stderr",
     "output_type": "stream",
     "text": [
      "[Parallel(n_jobs=1)]: Done   1 out of   1 | elapsed:    3.6s remaining:    0.0s\n"
     ]
    },
    {
     "name": "stdout",
     "output_type": "stream",
     "text": [
      "[CV] ................................................. , total=   3.4s\n",
      "[CV]  ................................................................\n",
      "[CV] ................................................. , total=   3.5s\n",
      "test score =  0.9344510032731769\n"
     ]
    },
    {
     "name": "stderr",
     "output_type": "stream",
     "text": [
      "[Parallel(n_jobs=1)]: Done   3 out of   3 | elapsed:   10.6s finished\n"
     ]
    },
    {
     "name": "stdout",
     "output_type": "stream",
     "text": [
      "[CV]  ................................................................\n",
      "[CV] ................................................. , total=   3.9s\n",
      "[CV]  ................................................................\n"
     ]
    },
    {
     "name": "stderr",
     "output_type": "stream",
     "text": [
      "[Parallel(n_jobs=1)]: Done   1 out of   1 | elapsed:    4.1s remaining:    0.0s\n"
     ]
    },
    {
     "name": "stdout",
     "output_type": "stream",
     "text": [
      "[CV] ................................................. , total=   3.5s\n",
      "[CV]  ................................................................\n",
      "[CV] ................................................. , total=   3.8s\n",
      "test score =  0.13551631650767104\n"
     ]
    },
    {
     "name": "stderr",
     "output_type": "stream",
     "text": [
      "[Parallel(n_jobs=1)]: Done   3 out of   3 | elapsed:   11.5s finished\n"
     ]
    },
    {
     "name": "stdout",
     "output_type": "stream",
     "text": [
      "[CV]  ................................................................\n",
      "[CV] ................................................. , total=   4.0s\n",
      "[CV]  ................................................................\n"
     ]
    },
    {
     "name": "stderr",
     "output_type": "stream",
     "text": [
      "[Parallel(n_jobs=1)]: Done   1 out of   1 | elapsed:    4.3s remaining:    0.0s\n"
     ]
    },
    {
     "name": "stdout",
     "output_type": "stream",
     "text": [
      "[CV] ................................................. , total=   3.9s\n",
      "[CV]  ................................................................\n",
      "[CV] ................................................. , total=   4.3s\n",
      "test score =  0.9180372491664177\n"
     ]
    },
    {
     "name": "stderr",
     "output_type": "stream",
     "text": [
      "[Parallel(n_jobs=1)]: Done   3 out of   3 | elapsed:   12.5s finished\n"
     ]
    },
    {
     "name": "stdout",
     "output_type": "stream",
     "text": [
      "[CV]  ................................................................\n",
      "[CV] ................................................. , total=   4.5s\n",
      "[CV]  ................................................................\n"
     ]
    },
    {
     "name": "stderr",
     "output_type": "stream",
     "text": [
      "[Parallel(n_jobs=1)]: Done   1 out of   1 | elapsed:    4.7s remaining:    0.0s\n"
     ]
    },
    {
     "name": "stdout",
     "output_type": "stream",
     "text": [
      "[CV] ................................................. , total=   3.8s\n",
      "[CV]  ................................................................\n",
      "[CV] ................................................. , total=   4.6s\n",
      "test score =  0.812573341631252\n"
     ]
    },
    {
     "name": "stderr",
     "output_type": "stream",
     "text": [
      "[Parallel(n_jobs=1)]: Done   3 out of   3 | elapsed:   13.0s finished\n"
     ]
    },
    {
     "name": "stdout",
     "output_type": "stream",
     "text": [
      "[CV]  ................................................................\n",
      "[CV] ................................................. , total=   4.0s\n",
      "[CV]  ................................................................\n"
     ]
    },
    {
     "name": "stderr",
     "output_type": "stream",
     "text": [
      "[Parallel(n_jobs=1)]: Done   1 out of   1 | elapsed:    4.2s remaining:    0.0s\n"
     ]
    },
    {
     "name": "stdout",
     "output_type": "stream",
     "text": [
      "[CV] ................................................. , total=   4.0s\n",
      "[CV]  ................................................................\n",
      "[CV] ................................................. , total=   4.1s\n",
      "test score =  0.9478057327928305\n"
     ]
    },
    {
     "name": "stderr",
     "output_type": "stream",
     "text": [
      "[Parallel(n_jobs=1)]: Done   3 out of   3 | elapsed:   12.3s finished\n"
     ]
    },
    {
     "name": "stdout",
     "output_type": "stream",
     "text": [
      "[CV]  ................................................................\n",
      "[CV] ................................................. , total=   3.6s\n",
      "[CV]  ................................................................\n"
     ]
    },
    {
     "name": "stderr",
     "output_type": "stream",
     "text": [
      "[Parallel(n_jobs=1)]: Done   1 out of   1 | elapsed:    3.8s remaining:    0.0s\n"
     ]
    },
    {
     "name": "stdout",
     "output_type": "stream",
     "text": [
      "[CV] ................................................. , total=   3.5s\n",
      "[CV]  ................................................................\n",
      "[CV] ................................................. , total=   3.6s\n",
      "test score =  0.9450851578948143\n"
     ]
    },
    {
     "name": "stderr",
     "output_type": "stream",
     "text": [
      "[Parallel(n_jobs=1)]: Done   3 out of   3 | elapsed:   10.9s finished\n"
     ]
    },
    {
     "name": "stdout",
     "output_type": "stream",
     "text": [
      "[CV]  ................................................................\n",
      "[CV] ................................................. , total=   6.8s\n",
      "[CV]  ................................................................\n"
     ]
    },
    {
     "name": "stderr",
     "output_type": "stream",
     "text": [
      "[Parallel(n_jobs=1)]: Done   1 out of   1 | elapsed:    7.0s remaining:    0.0s\n"
     ]
    },
    {
     "name": "stdout",
     "output_type": "stream",
     "text": [
      "[CV] ................................................. , total=   6.6s\n",
      "[CV]  ................................................................\n",
      "[CV] ................................................. , total=   6.9s\n",
      "test score =  0.953383320930636\n"
     ]
    },
    {
     "name": "stderr",
     "output_type": "stream",
     "text": [
      "[Parallel(n_jobs=1)]: Done   3 out of   3 | elapsed:   20.5s finished\n"
     ]
    },
    {
     "name": "stdout",
     "output_type": "stream",
     "text": [
      "[CV]  ................................................................\n",
      "[CV] ................................................. , total=   8.1s\n",
      "[CV]  ................................................................\n"
     ]
    },
    {
     "name": "stderr",
     "output_type": "stream",
     "text": [
      "[Parallel(n_jobs=1)]: Done   1 out of   1 | elapsed:    8.3s remaining:    0.0s\n"
     ]
    },
    {
     "name": "stdout",
     "output_type": "stream",
     "text": [
      "[CV] ................................................. , total=   8.2s\n",
      "[CV]  ................................................................\n",
      "[CV] ................................................. , total=   8.3s\n",
      "test score =  0.9557257672959117\n"
     ]
    },
    {
     "name": "stderr",
     "output_type": "stream",
     "text": [
      "[Parallel(n_jobs=1)]: Done   3 out of   3 | elapsed:   24.8s finished\n"
     ]
    },
    {
     "name": "stdout",
     "output_type": "stream",
     "text": [
      "[CV]  ................................................................\n",
      "[CV] ................................................. , total=   8.2s\n",
      "[CV]  ................................................................\n"
     ]
    },
    {
     "name": "stderr",
     "output_type": "stream",
     "text": [
      "[Parallel(n_jobs=1)]: Done   1 out of   1 | elapsed:    8.5s remaining:    0.0s\n"
     ]
    },
    {
     "name": "stdout",
     "output_type": "stream",
     "text": [
      "[CV] ................................................. , total=   8.3s\n",
      "[CV]  ................................................................\n",
      "[CV] ................................................. , total=   8.4s\n",
      "test score =  0.9553779874370191\n"
     ]
    },
    {
     "name": "stderr",
     "output_type": "stream",
     "text": [
      "[Parallel(n_jobs=1)]: Done   3 out of   3 | elapsed:   25.2s finished\n"
     ]
    },
    {
     "name": "stdout",
     "output_type": "stream",
     "text": [
      "[CV]  ................................................................\n",
      "[CV] ................................................. , total=   8.4s\n",
      "[CV]  ................................................................\n"
     ]
    },
    {
     "name": "stderr",
     "output_type": "stream",
     "text": [
      "[Parallel(n_jobs=1)]: Done   1 out of   1 | elapsed:    8.6s remaining:    0.0s\n"
     ]
    },
    {
     "name": "stdout",
     "output_type": "stream",
     "text": [
      "[CV] ................................................. , total=   8.4s\n",
      "[CV]  ................................................................\n",
      "[CV] ................................................. , total=   8.6s\n",
      "test score =  0.9443221296766272\n"
     ]
    },
    {
     "name": "stderr",
     "output_type": "stream",
     "text": [
      "[Parallel(n_jobs=1)]: Done   3 out of   3 | elapsed:   25.5s finished\n"
     ]
    },
    {
     "name": "stdout",
     "output_type": "stream",
     "text": [
      "[CV]  ................................................................\n",
      "[CV] ................................................. , total=   7.0s\n",
      "[CV]  ................................................................\n"
     ]
    },
    {
     "name": "stderr",
     "output_type": "stream",
     "text": [
      "[Parallel(n_jobs=1)]: Done   1 out of   1 | elapsed:    7.2s remaining:    0.0s\n"
     ]
    },
    {
     "name": "stdout",
     "output_type": "stream",
     "text": [
      "[CV] ................................................. , total=   7.2s\n",
      "[CV]  ................................................................\n",
      "[CV] ................................................. , total=   7.2s\n",
      "test score =  0.9543612868232701\n"
     ]
    },
    {
     "name": "stderr",
     "output_type": "stream",
     "text": [
      "[Parallel(n_jobs=1)]: Done   3 out of   3 | elapsed:   21.6s finished\n"
     ]
    },
    {
     "name": "stdout",
     "output_type": "stream",
     "text": [
      "[CV]  ................................................................\n",
      "[CV] ................................................. , total=   8.5s\n",
      "[CV]  ................................................................\n"
     ]
    },
    {
     "name": "stderr",
     "output_type": "stream",
     "text": [
      "[Parallel(n_jobs=1)]: Done   1 out of   1 | elapsed:    8.7s remaining:    0.0s\n"
     ]
    },
    {
     "name": "stdout",
     "output_type": "stream",
     "text": [
      "[CV] ................................................. , total=   8.7s\n",
      "[CV]  ................................................................\n",
      "[CV] ................................................. , total=   8.7s\n",
      "test score =  0.9567694512058531\n"
     ]
    },
    {
     "name": "stderr",
     "output_type": "stream",
     "text": [
      "[Parallel(n_jobs=1)]: Done   3 out of   3 | elapsed:   26.0s finished\n"
     ]
    },
    {
     "name": "stdout",
     "output_type": "stream",
     "text": [
      "[CV]  ................................................................\n",
      "[CV] ................................................. , total=   8.6s\n",
      "[CV]  ................................................................\n"
     ]
    },
    {
     "name": "stderr",
     "output_type": "stream",
     "text": [
      "[Parallel(n_jobs=1)]: Done   1 out of   1 | elapsed:    8.9s remaining:    0.0s\n"
     ]
    },
    {
     "name": "stdout",
     "output_type": "stream",
     "text": [
      "[CV] ................................................. , total=   8.6s\n",
      "[CV]  ................................................................\n",
      "[CV] ................................................. , total=   8.7s\n",
      "test score =  0.94714680196233\n"
     ]
    },
    {
     "name": "stderr",
     "output_type": "stream",
     "text": [
      "[Parallel(n_jobs=1)]: Done   3 out of   3 | elapsed:   26.2s finished\n"
     ]
    },
    {
     "name": "stdout",
     "output_type": "stream",
     "text": [
      "[CV]  ................................................................\n",
      "[CV] ................................................. , total=   6.2s\n",
      "[CV]  ................................................................\n"
     ]
    },
    {
     "name": "stderr",
     "output_type": "stream",
     "text": [
      "[Parallel(n_jobs=1)]: Done   1 out of   1 | elapsed:    6.4s remaining:    0.0s\n"
     ]
    },
    {
     "name": "stdout",
     "output_type": "stream",
     "text": [
      "[CV] ................................................. , total=   6.3s\n",
      "[CV]  ................................................................\n",
      "[CV] ................................................. , total=   6.3s\n",
      "test score =  0.929802925013405\n"
     ]
    },
    {
     "name": "stderr",
     "output_type": "stream",
     "text": [
      "[Parallel(n_jobs=1)]: Done   3 out of   3 | elapsed:   19.0s finished\n"
     ]
    },
    {
     "name": "stdout",
     "output_type": "stream",
     "text": [
      "[CV]  ................................................................\n",
      "[CV] ................................................. , total=   7.4s\n",
      "[CV]  ................................................................\n"
     ]
    },
    {
     "name": "stderr",
     "output_type": "stream",
     "text": [
      "[Parallel(n_jobs=1)]: Done   1 out of   1 | elapsed:    7.6s remaining:    0.0s\n"
     ]
    },
    {
     "name": "stdout",
     "output_type": "stream",
     "text": [
      "[CV] ................................................. , total=   7.5s\n",
      "[CV]  ................................................................\n",
      "[CV] ................................................. , total=   7.6s\n",
      "test score =  0.95446531641669\n"
     ]
    },
    {
     "name": "stderr",
     "output_type": "stream",
     "text": [
      "[Parallel(n_jobs=1)]: Done   3 out of   3 | elapsed:   22.8s finished\n"
     ]
    },
    {
     "name": "stdout",
     "output_type": "stream",
     "text": [
      "[CV]  ................................................................\n",
      "[CV] ................................................. , total=   6.8s\n",
      "[CV]  ................................................................\n"
     ]
    },
    {
     "name": "stderr",
     "output_type": "stream",
     "text": [
      "[Parallel(n_jobs=1)]: Done   1 out of   1 | elapsed:    7.0s remaining:    0.0s\n"
     ]
    },
    {
     "name": "stdout",
     "output_type": "stream",
     "text": [
      "[CV] ................................................. , total=   7.0s\n",
      "[CV]  ................................................................\n",
      "[CV] ................................................. , total=   7.0s\n",
      "test score =  0.9524118739392381\n"
     ]
    },
    {
     "name": "stderr",
     "output_type": "stream",
     "text": [
      "[Parallel(n_jobs=1)]: Done   3 out of   3 | elapsed:   21.0s finished\n"
     ]
    },
    {
     "name": "stdout",
     "output_type": "stream",
     "text": [
      "[CV]  ................................................................\n",
      "[CV] ................................................. , total=   6.6s\n",
      "[CV]  ................................................................\n"
     ]
    },
    {
     "name": "stderr",
     "output_type": "stream",
     "text": [
      "[Parallel(n_jobs=1)]: Done   1 out of   1 | elapsed:    6.8s remaining:    0.0s\n"
     ]
    },
    {
     "name": "stdout",
     "output_type": "stream",
     "text": [
      "[CV] ................................................. , total=   6.8s\n",
      "[CV]  ................................................................\n",
      "[CV] ................................................. , total=   6.8s\n",
      "test score =  0.9533132545308444\n"
     ]
    },
    {
     "name": "stderr",
     "output_type": "stream",
     "text": [
      "[Parallel(n_jobs=1)]: Done   3 out of   3 | elapsed:   20.3s finished\n"
     ]
    },
    {
     "name": "stdout",
     "output_type": "stream",
     "text": [
      "[CV]  ................................................................\n",
      "[CV] ................................................. , total=   8.0s\n",
      "[CV]  ................................................................\n"
     ]
    },
    {
     "name": "stderr",
     "output_type": "stream",
     "text": [
      "[Parallel(n_jobs=1)]: Done   1 out of   1 | elapsed:    8.2s remaining:    0.0s\n"
     ]
    },
    {
     "name": "stdout",
     "output_type": "stream",
     "text": [
      "[CV] ................................................. , total=   8.2s\n",
      "[CV]  ................................................................\n",
      "[CV] ................................................. , total=   8.3s\n",
      "test score =  0.9600878706203786\n"
     ]
    },
    {
     "name": "stderr",
     "output_type": "stream",
     "text": [
      "[Parallel(n_jobs=1)]: Done   3 out of   3 | elapsed:   24.8s finished\n"
     ]
    },
    {
     "name": "stdout",
     "output_type": "stream",
     "text": [
      "[CV]  ................................................................\n",
      "[CV] ................................................. , total=   4.6s\n",
      "[CV]  ................................................................\n"
     ]
    },
    {
     "name": "stderr",
     "output_type": "stream",
     "text": [
      "[Parallel(n_jobs=1)]: Done   1 out of   1 | elapsed:    4.8s remaining:    0.0s\n"
     ]
    },
    {
     "name": "stdout",
     "output_type": "stream",
     "text": [
      "[CV] ................................................. , total=   4.1s\n",
      "[CV]  ................................................................\n",
      "[CV] ................................................. , total=   3.8s\n",
      "test score =  0.12198873076544704\n"
     ]
    },
    {
     "name": "stderr",
     "output_type": "stream",
     "text": [
      "[Parallel(n_jobs=1)]: Done   3 out of   3 | elapsed:   12.7s finished\n"
     ]
    },
    {
     "name": "stdout",
     "output_type": "stream",
     "text": [
      "[CV]  ................................................................\n",
      "[CV] ................................................. , total=   6.1s\n",
      "[CV]  ................................................................\n"
     ]
    },
    {
     "name": "stderr",
     "output_type": "stream",
     "text": [
      "[Parallel(n_jobs=1)]: Done   1 out of   1 | elapsed:    6.3s remaining:    0.0s\n"
     ]
    },
    {
     "name": "stdout",
     "output_type": "stream",
     "text": [
      "[CV] ................................................. , total=   6.0s\n",
      "[CV]  ................................................................\n",
      "[CV] ................................................. , total=   6.2s\n",
      "test score =  0.9434786476967245\n"
     ]
    },
    {
     "name": "stderr",
     "output_type": "stream",
     "text": [
      "[Parallel(n_jobs=1)]: Done   3 out of   3 | elapsed:   18.5s finished\n"
     ]
    },
    {
     "name": "stdout",
     "output_type": "stream",
     "text": [
      "[CV]  ................................................................\n",
      "[CV] ................................................. , total=   8.2s\n",
      "[CV]  ................................................................\n"
     ]
    },
    {
     "name": "stderr",
     "output_type": "stream",
     "text": [
      "[Parallel(n_jobs=1)]: Done   1 out of   1 | elapsed:    8.4s remaining:    0.0s\n"
     ]
    },
    {
     "name": "stdout",
     "output_type": "stream",
     "text": [
      "[CV] ................................................. , total=   8.3s\n",
      "[CV]  ................................................................\n",
      "[CV] ................................................. , total=   8.2s\n",
      "test score =  0.9457853651321696\n"
     ]
    },
    {
     "name": "stderr",
     "output_type": "stream",
     "text": [
      "[Parallel(n_jobs=1)]: Done   3 out of   3 | elapsed:   25.0s finished\n"
     ]
    },
    {
     "name": "stdout",
     "output_type": "stream",
     "text": [
      "[CV]  ................................................................\n",
      "[CV] ................................................. , total=   4.6s\n",
      "[CV]  ................................................................\n"
     ]
    },
    {
     "name": "stderr",
     "output_type": "stream",
     "text": [
      "[Parallel(n_jobs=1)]: Done   1 out of   1 | elapsed:    4.8s remaining:    0.0s\n"
     ]
    },
    {
     "name": "stdout",
     "output_type": "stream",
     "text": [
      "[CV] ................................................. , total=   4.7s\n",
      "[CV]  ................................................................\n",
      "[CV] ................................................. , total=   4.8s\n",
      "test score =  0.9331794622386886\n"
     ]
    },
    {
     "name": "stderr",
     "output_type": "stream",
     "text": [
      "[Parallel(n_jobs=1)]: Done   3 out of   3 | elapsed:   14.3s finished\n"
     ]
    },
    {
     "name": "stdout",
     "output_type": "stream",
     "text": [
      "[CV]  ................................................................\n",
      "[CV] ................................................. , total=   7.1s\n",
      "[CV]  ................................................................\n"
     ]
    },
    {
     "name": "stderr",
     "output_type": "stream",
     "text": [
      "[Parallel(n_jobs=1)]: Done   1 out of   1 | elapsed:    7.3s remaining:    0.0s\n"
     ]
    },
    {
     "name": "stdout",
     "output_type": "stream",
     "text": [
      "[CV] ................................................. , total=   7.0s\n",
      "[CV]  ................................................................\n",
      "[CV] ................................................. , total=   7.1s\n",
      "test score =  0.9308575665994233\n"
     ]
    },
    {
     "name": "stderr",
     "output_type": "stream",
     "text": [
      "[Parallel(n_jobs=1)]: Done   3 out of   3 | elapsed:   21.5s finished\n"
     ]
    },
    {
     "name": "stdout",
     "output_type": "stream",
     "text": [
      "[CV]  ................................................................\n",
      "[CV] ................................................. , total=   5.1s\n",
      "[CV]  ................................................................\n"
     ]
    },
    {
     "name": "stderr",
     "output_type": "stream",
     "text": [
      "[Parallel(n_jobs=1)]: Done   1 out of   1 | elapsed:    5.3s remaining:    0.0s\n"
     ]
    },
    {
     "name": "stdout",
     "output_type": "stream",
     "text": [
      "[CV] ................................................. , total=   4.7s\n",
      "[CV]  ................................................................\n",
      "[CV] ................................................. , total=   5.4s\n",
      "test score =  0.9184638907600844\n"
     ]
    },
    {
     "name": "stderr",
     "output_type": "stream",
     "text": [
      "[Parallel(n_jobs=1)]: Done   3 out of   3 | elapsed:   15.4s finished\n"
     ]
    },
    {
     "name": "stdout",
     "output_type": "stream",
     "text": [
      "[CV]  ................................................................\n",
      "[CV] ................................................. , total=   7.6s\n",
      "[CV]  ................................................................\n"
     ]
    },
    {
     "name": "stderr",
     "output_type": "stream",
     "text": [
      "[Parallel(n_jobs=1)]: Done   1 out of   1 | elapsed:    7.9s remaining:    0.0s\n"
     ]
    },
    {
     "name": "stdout",
     "output_type": "stream",
     "text": [
      "[CV] ................................................. , total=   7.7s\n",
      "[CV]  ................................................................\n",
      "[CV] ................................................. , total=   7.9s\n",
      "test score =  0.954435111802649\n"
     ]
    },
    {
     "name": "stderr",
     "output_type": "stream",
     "text": [
      "[Parallel(n_jobs=1)]: Done   3 out of   3 | elapsed:   23.4s finished\n"
     ]
    },
    {
     "name": "stdout",
     "output_type": "stream",
     "text": [
      "[CV]  ................................................................\n",
      "[CV] ................................................. , total=   8.3s\n",
      "[CV]  ................................................................\n"
     ]
    },
    {
     "name": "stderr",
     "output_type": "stream",
     "text": [
      "[Parallel(n_jobs=1)]: Done   1 out of   1 | elapsed:    8.5s remaining:    0.0s\n"
     ]
    },
    {
     "name": "stdout",
     "output_type": "stream",
     "text": [
      "[CV] ................................................. , total=   8.7s\n",
      "[CV]  ................................................................\n",
      "[CV] ................................................. , total=   8.4s\n",
      "test score =  0.9555470243462761\n"
     ]
    },
    {
     "name": "stderr",
     "output_type": "stream",
     "text": [
      "[Parallel(n_jobs=1)]: Done   3 out of   3 | elapsed:   25.6s finished\n"
     ]
    },
    {
     "name": "stdout",
     "output_type": "stream",
     "text": [
      "[CV]  ................................................................\n",
      "[CV] ................................................. , total=   3.5s\n",
      "[CV]  ................................................................\n"
     ]
    },
    {
     "name": "stderr",
     "output_type": "stream",
     "text": [
      "[Parallel(n_jobs=1)]: Done   1 out of   1 | elapsed:    3.7s remaining:    0.0s\n"
     ]
    },
    {
     "name": "stdout",
     "output_type": "stream",
     "text": [
      "[CV] ................................................. , total=   3.5s\n",
      "[CV]  ................................................................\n",
      "[CV] ................................................. , total=   3.5s\n",
      "test score =  0.896476051195232\n"
     ]
    },
    {
     "name": "stderr",
     "output_type": "stream",
     "text": [
      "[Parallel(n_jobs=1)]: Done   3 out of   3 | elapsed:   10.6s finished\n"
     ]
    },
    {
     "name": "stdout",
     "output_type": "stream",
     "text": [
      "[CV]  ................................................................\n",
      "[CV] ................................................. , total=   6.9s\n",
      "[CV]  ................................................................\n"
     ]
    },
    {
     "name": "stderr",
     "output_type": "stream",
     "text": [
      "[Parallel(n_jobs=1)]: Done   1 out of   1 | elapsed:    7.1s remaining:    0.0s\n"
     ]
    },
    {
     "name": "stdout",
     "output_type": "stream",
     "text": [
      "[CV] ................................................. , total=   7.0s\n",
      "[CV]  ................................................................\n",
      "[CV] ................................................. , total=   7.0s\n",
      "test score =  0.9502776265849725\n"
     ]
    },
    {
     "name": "stderr",
     "output_type": "stream",
     "text": [
      "[Parallel(n_jobs=1)]: Done   3 out of   3 | elapsed:   21.0s finished\n"
     ]
    },
    {
     "name": "stdout",
     "output_type": "stream",
     "text": [
      "[CV]  ................................................................\n",
      "[CV] ................................................. , total=   5.3s\n",
      "[CV]  ................................................................\n"
     ]
    },
    {
     "name": "stderr",
     "output_type": "stream",
     "text": [
      "[Parallel(n_jobs=1)]: Done   1 out of   1 | elapsed:    5.5s remaining:    0.0s\n"
     ]
    },
    {
     "name": "stdout",
     "output_type": "stream",
     "text": [
      "[CV] ................................................. , total=   5.4s\n",
      "[CV]  ................................................................\n",
      "[CV] ................................................. , total=   5.4s\n",
      "test score =  0.9258677615870141\n"
     ]
    },
    {
     "name": "stderr",
     "output_type": "stream",
     "text": [
      "[Parallel(n_jobs=1)]: Done   3 out of   3 | elapsed:   16.4s finished\n"
     ]
    },
    {
     "name": "stdout",
     "output_type": "stream",
     "text": [
      "[CV]  ................................................................\n",
      "[CV] ................................................. , total=   2.7s\n",
      "[CV]  ................................................................\n"
     ]
    },
    {
     "name": "stderr",
     "output_type": "stream",
     "text": [
      "[Parallel(n_jobs=1)]: Done   1 out of   1 | elapsed:    2.9s remaining:    0.0s\n"
     ]
    },
    {
     "name": "stdout",
     "output_type": "stream",
     "text": [
      "[CV] ................................................. , total=   2.8s\n",
      "[CV]  ................................................................\n",
      "[CV] ................................................. , total=   2.7s\n",
      "test score =  0.8281804991565854\n"
     ]
    },
    {
     "name": "stderr",
     "output_type": "stream",
     "text": [
      "[Parallel(n_jobs=1)]: Done   3 out of   3 | elapsed:    8.5s finished\n"
     ]
    },
    {
     "name": "stdout",
     "output_type": "stream",
     "text": [
      "[CV]  ................................................................\n",
      "[CV] ................................................. , total=   8.6s\n",
      "[CV]  ................................................................\n"
     ]
    },
    {
     "name": "stderr",
     "output_type": "stream",
     "text": [
      "[Parallel(n_jobs=1)]: Done   1 out of   1 | elapsed:    8.8s remaining:    0.0s\n"
     ]
    },
    {
     "name": "stdout",
     "output_type": "stream",
     "text": [
      "[CV] ................................................. , total=   8.7s\n",
      "[CV]  ................................................................\n",
      "[CV] ................................................. , total=   9.0s\n",
      "test score =  0.9606105029332763\n"
     ]
    },
    {
     "name": "stderr",
     "output_type": "stream",
     "text": [
      "[Parallel(n_jobs=1)]: Done   3 out of   3 | elapsed:   26.5s finished\n"
     ]
    },
    {
     "name": "stdout",
     "output_type": "stream",
     "text": [
      "[CV]  ................................................................\n",
      "[CV] ................................................. , total=   4.8s\n",
      "[CV]  ................................................................\n"
     ]
    },
    {
     "name": "stderr",
     "output_type": "stream",
     "text": [
      "[Parallel(n_jobs=1)]: Done   1 out of   1 | elapsed:    5.0s remaining:    0.0s\n"
     ]
    },
    {
     "name": "stdout",
     "output_type": "stream",
     "text": [
      "[CV] ................................................. , total=   4.8s\n",
      "[CV]  ................................................................\n",
      "[CV] ................................................. , total=   4.9s\n",
      "test score =  0.9391856125141119\n"
     ]
    },
    {
     "name": "stderr",
     "output_type": "stream",
     "text": [
      "[Parallel(n_jobs=1)]: Done   3 out of   3 | elapsed:   14.7s finished\n"
     ]
    },
    {
     "name": "stdout",
     "output_type": "stream",
     "text": [
      "[CV]  ................................................................\n",
      "[CV] ................................................. , total=   6.0s\n",
      "[CV]  ................................................................\n"
     ]
    },
    {
     "name": "stderr",
     "output_type": "stream",
     "text": [
      "[Parallel(n_jobs=1)]: Done   1 out of   1 | elapsed:    6.2s remaining:    0.0s\n"
     ]
    },
    {
     "name": "stdout",
     "output_type": "stream",
     "text": [
      "[CV] ................................................. , total=   6.1s\n",
      "[CV]  ................................................................\n",
      "[CV] ................................................. , total=   6.1s\n",
      "test score =  0.9509096235510945\n"
     ]
    },
    {
     "name": "stderr",
     "output_type": "stream",
     "text": [
      "[Parallel(n_jobs=1)]: Done   3 out of   3 | elapsed:   18.4s finished\n"
     ]
    },
    {
     "name": "stdout",
     "output_type": "stream",
     "text": [
      "[CV]  ................................................................\n",
      "[CV] ................................................. , total=   4.0s\n",
      "[CV]  ................................................................\n"
     ]
    },
    {
     "name": "stderr",
     "output_type": "stream",
     "text": [
      "[Parallel(n_jobs=1)]: Done   1 out of   1 | elapsed:    4.2s remaining:    0.0s\n"
     ]
    },
    {
     "name": "stdout",
     "output_type": "stream",
     "text": [
      "[CV] ................................................. , total=   3.5s\n",
      "[CV]  ................................................................\n",
      "[CV] ................................................. , total=   3.9s\n",
      "test score =  0.6323786054847065\n"
     ]
    },
    {
     "name": "stderr",
     "output_type": "stream",
     "text": [
      "[Parallel(n_jobs=1)]: Done   3 out of   3 | elapsed:   11.5s finished\n"
     ]
    },
    {
     "name": "stdout",
     "output_type": "stream",
     "text": [
      "[CV]  ................................................................\n",
      "[CV] ................................................. , total=   3.9s\n",
      "[CV]  ................................................................\n"
     ]
    },
    {
     "name": "stderr",
     "output_type": "stream",
     "text": [
      "[Parallel(n_jobs=1)]: Done   1 out of   1 | elapsed:    4.1s remaining:    0.0s\n"
     ]
    },
    {
     "name": "stdout",
     "output_type": "stream",
     "text": [
      "[CV] ................................................. , total=   3.9s\n",
      "[CV]  ................................................................\n",
      "[CV] ................................................. , total=   4.2s\n",
      "test score =  0.8875542559430919\n"
     ]
    },
    {
     "name": "stderr",
     "output_type": "stream",
     "text": [
      "[Parallel(n_jobs=1)]: Done   3 out of   3 | elapsed:   12.2s finished\n"
     ]
    },
    {
     "name": "stdout",
     "output_type": "stream",
     "text": [
      "[CV]  ................................................................\n",
      "[CV] ................................................. , total=   6.8s\n",
      "[CV]  ................................................................\n"
     ]
    },
    {
     "name": "stderr",
     "output_type": "stream",
     "text": [
      "[Parallel(n_jobs=1)]: Done   1 out of   1 | elapsed:    7.0s remaining:    0.0s\n"
     ]
    },
    {
     "name": "stdout",
     "output_type": "stream",
     "text": [
      "[CV] ................................................. , total=   7.5s\n",
      "[CV]  ................................................................\n",
      "[CV] ................................................. , total=   7.0s\n",
      "test score =  0.7272203705688375\n"
     ]
    },
    {
     "name": "stderr",
     "output_type": "stream",
     "text": [
      "[Parallel(n_jobs=1)]: Done   3 out of   3 | elapsed:   21.5s finished\n"
     ]
    },
    {
     "name": "stdout",
     "output_type": "stream",
     "text": [
      "[CV]  ................................................................\n",
      "[CV] ................................................. , total=   4.0s\n",
      "[CV]  ................................................................\n"
     ]
    },
    {
     "name": "stderr",
     "output_type": "stream",
     "text": [
      "[Parallel(n_jobs=1)]: Done   1 out of   1 | elapsed:    4.2s remaining:    0.0s\n"
     ]
    },
    {
     "name": "stdout",
     "output_type": "stream",
     "text": [
      "[CV] ................................................. , total=   4.1s\n",
      "[CV]  ................................................................\n",
      "[CV] ................................................. , total=   4.2s\n",
      "test score =  0.9261584149369163\n"
     ]
    },
    {
     "name": "stderr",
     "output_type": "stream",
     "text": [
      "[Parallel(n_jobs=1)]: Done   3 out of   3 | elapsed:   12.5s finished\n"
     ]
    },
    {
     "name": "stdout",
     "output_type": "stream",
     "text": [
      "[CV]  ................................................................\n",
      "[CV] ................................................. , total=   4.4s\n",
      "[CV]  ................................................................\n"
     ]
    },
    {
     "name": "stderr",
     "output_type": "stream",
     "text": [
      "[Parallel(n_jobs=1)]: Done   1 out of   1 | elapsed:    4.7s remaining:    0.0s\n"
     ]
    },
    {
     "name": "stdout",
     "output_type": "stream",
     "text": [
      "[CV] ................................................. , total=   3.6s\n",
      "[CV]  ................................................................\n",
      "[CV] ................................................. , total=   4.1s\n",
      "test score =  0.20955019982632728\n"
     ]
    },
    {
     "name": "stderr",
     "output_type": "stream",
     "text": [
      "[Parallel(n_jobs=1)]: Done   3 out of   3 | elapsed:   12.4s finished\n"
     ]
    },
    {
     "name": "stdout",
     "output_type": "stream",
     "text": [
      "[CV]  ................................................................\n",
      "[CV] ................................................. , total=   7.0s\n",
      "[CV]  ................................................................\n"
     ]
    },
    {
     "name": "stderr",
     "output_type": "stream",
     "text": [
      "[Parallel(n_jobs=1)]: Done   1 out of   1 | elapsed:    7.2s remaining:    0.0s\n"
     ]
    },
    {
     "name": "stdout",
     "output_type": "stream",
     "text": [
      "[CV] ................................................. , total=   7.0s\n",
      "[CV]  ................................................................\n",
      "[CV] ................................................. , total=   7.1s\n",
      "test score =  0.9582737396335591\n"
     ]
    },
    {
     "name": "stderr",
     "output_type": "stream",
     "text": [
      "[Parallel(n_jobs=1)]: Done   3 out of   3 | elapsed:   21.2s finished\n"
     ]
    },
    {
     "name": "stdout",
     "output_type": "stream",
     "text": [
      "[CV]  ................................................................\n",
      "[CV] ................................................. , total=   5.8s\n",
      "[CV]  ................................................................\n"
     ]
    },
    {
     "name": "stderr",
     "output_type": "stream",
     "text": [
      "[Parallel(n_jobs=1)]: Done   1 out of   1 | elapsed:    6.0s remaining:    0.0s\n"
     ]
    },
    {
     "name": "stdout",
     "output_type": "stream",
     "text": [
      "[CV] ................................................. , total=   5.8s\n",
      "[CV]  ................................................................\n",
      "[CV] ................................................. , total=   6.0s\n",
      "test score =  0.9017853406853567\n"
     ]
    },
    {
     "name": "stderr",
     "output_type": "stream",
     "text": [
      "[Parallel(n_jobs=1)]: Done   3 out of   3 | elapsed:   17.8s finished\n"
     ]
    },
    {
     "name": "stdout",
     "output_type": "stream",
     "text": [
      "[CV]  ................................................................\n",
      "[CV] ................................................. , total=   5.6s\n",
      "[CV]  ................................................................\n"
     ]
    },
    {
     "name": "stderr",
     "output_type": "stream",
     "text": [
      "[Parallel(n_jobs=1)]: Done   1 out of   1 | elapsed:    5.8s remaining:    0.0s\n"
     ]
    },
    {
     "name": "stdout",
     "output_type": "stream",
     "text": [
      "[CV] ................................................. , total=   5.6s\n",
      "[CV]  ................................................................\n",
      "[CV] ................................................. , total=   5.8s\n",
      "test score =  0.9074025793179848\n"
     ]
    },
    {
     "name": "stderr",
     "output_type": "stream",
     "text": [
      "[Parallel(n_jobs=1)]: Done   3 out of   3 | elapsed:   17.2s finished\n"
     ]
    },
    {
     "name": "stdout",
     "output_type": "stream",
     "text": [
      "[CV]  ................................................................\n",
      "[CV] ................................................. , total=   5.3s\n",
      "[CV]  ................................................................\n"
     ]
    },
    {
     "name": "stderr",
     "output_type": "stream",
     "text": [
      "[Parallel(n_jobs=1)]: Done   1 out of   1 | elapsed:    5.5s remaining:    0.0s\n"
     ]
    },
    {
     "name": "stdout",
     "output_type": "stream",
     "text": [
      "[CV] ................................................. , total=   5.8s\n",
      "[CV]  ................................................................\n",
      "[CV] ................................................. , total=   5.5s\n",
      "test score =  0.9452179786074626\n"
     ]
    },
    {
     "name": "stderr",
     "output_type": "stream",
     "text": [
      "[Parallel(n_jobs=1)]: Done   3 out of   3 | elapsed:   16.8s finished\n"
     ]
    },
    {
     "name": "stdout",
     "output_type": "stream",
     "text": [
      "[CV]  ................................................................\n",
      "[CV] ................................................. , total=   5.5s\n",
      "[CV]  ................................................................\n"
     ]
    },
    {
     "name": "stderr",
     "output_type": "stream",
     "text": [
      "[Parallel(n_jobs=1)]: Done   1 out of   1 | elapsed:    5.7s remaining:    0.0s\n"
     ]
    },
    {
     "name": "stdout",
     "output_type": "stream",
     "text": [
      "[CV] ................................................. , total=   5.5s\n",
      "[CV]  ................................................................\n",
      "[CV] ................................................. , total=   5.6s\n",
      "test score =  0.9544696269479777\n"
     ]
    },
    {
     "name": "stderr",
     "output_type": "stream",
     "text": [
      "[Parallel(n_jobs=1)]: Done   3 out of   3 | elapsed:   16.8s finished\n"
     ]
    },
    {
     "name": "stdout",
     "output_type": "stream",
     "text": [
      "[CV]  ................................................................\n",
      "[CV] ................................................. , total=   8.6s\n",
      "[CV]  ................................................................\n"
     ]
    },
    {
     "name": "stderr",
     "output_type": "stream",
     "text": [
      "[Parallel(n_jobs=1)]: Done   1 out of   1 | elapsed:    8.8s remaining:    0.0s\n"
     ]
    },
    {
     "name": "stdout",
     "output_type": "stream",
     "text": [
      "[CV] ................................................. , total=   8.9s\n",
      "[CV]  ................................................................\n",
      "[CV] ................................................. , total=   8.6s\n",
      "test score =  0.9552341943583315\n"
     ]
    },
    {
     "name": "stderr",
     "output_type": "stream",
     "text": [
      "[Parallel(n_jobs=1)]: Done   3 out of   3 | elapsed:   26.3s finished\n"
     ]
    },
    {
     "name": "stdout",
     "output_type": "stream",
     "text": [
      "[CV]  ................................................................\n",
      "[CV] ................................................. , total=   4.6s\n",
      "[CV]  ................................................................\n"
     ]
    },
    {
     "name": "stderr",
     "output_type": "stream",
     "text": [
      "[Parallel(n_jobs=1)]: Done   1 out of   1 | elapsed:    4.8s remaining:    0.0s\n"
     ]
    },
    {
     "name": "stdout",
     "output_type": "stream",
     "text": [
      "[CV] ................................................. , total=   4.6s\n",
      "[CV]  ................................................................\n",
      "[CV] ................................................. , total=   4.6s\n",
      "test score =  0.9376164871009548\n"
     ]
    },
    {
     "name": "stderr",
     "output_type": "stream",
     "text": [
      "[Parallel(n_jobs=1)]: Done   3 out of   3 | elapsed:   14.0s finished\n"
     ]
    },
    {
     "name": "stdout",
     "output_type": "stream",
     "text": [
      "[CV]  ................................................................\n",
      "[CV] ................................................. , total=   6.2s\n",
      "[CV]  ................................................................\n"
     ]
    },
    {
     "name": "stderr",
     "output_type": "stream",
     "text": [
      "[Parallel(n_jobs=1)]: Done   1 out of   1 | elapsed:    6.4s remaining:    0.0s\n"
     ]
    },
    {
     "name": "stdout",
     "output_type": "stream",
     "text": [
      "[CV] ................................................. , total=   6.6s\n",
      "[CV]  ................................................................\n",
      "[CV] ................................................. , total=   6.5s\n",
      "test score =  0.9433028842677933\n"
     ]
    },
    {
     "name": "stderr",
     "output_type": "stream",
     "text": [
      "[Parallel(n_jobs=1)]: Done   3 out of   3 | elapsed:   19.5s finished\n"
     ]
    },
    {
     "name": "stdout",
     "output_type": "stream",
     "text": [
      "[CV]  ................................................................\n",
      "[CV] ................................................. , total=   4.0s\n",
      "[CV]  ................................................................\n"
     ]
    },
    {
     "name": "stderr",
     "output_type": "stream",
     "text": [
      "[Parallel(n_jobs=1)]: Done   1 out of   1 | elapsed:    4.2s remaining:    0.0s\n"
     ]
    },
    {
     "name": "stdout",
     "output_type": "stream",
     "text": [
      "[CV] ................................................. , total=   4.3s\n",
      "[CV]  ................................................................\n",
      "[CV] ................................................. , total=   4.4s\n",
      "test score =  0.23829146433864704\n"
     ]
    },
    {
     "name": "stderr",
     "output_type": "stream",
     "text": [
      "[Parallel(n_jobs=1)]: Done   3 out of   3 | elapsed:   12.9s finished\n"
     ]
    },
    {
     "name": "stdout",
     "output_type": "stream",
     "text": [
      "[CV]  ................................................................\n",
      "[CV] ................................................. , total=   3.6s\n",
      "[CV]  ................................................................\n"
     ]
    },
    {
     "name": "stderr",
     "output_type": "stream",
     "text": [
      "[Parallel(n_jobs=1)]: Done   1 out of   1 | elapsed:    3.9s remaining:    0.0s\n"
     ]
    },
    {
     "name": "stdout",
     "output_type": "stream",
     "text": [
      "[CV] ................................................. , total=   3.8s\n",
      "[CV]  ................................................................\n",
      "[CV] ................................................. , total=   3.7s\n",
      "test score =  0.8991326359609468\n"
     ]
    },
    {
     "name": "stderr",
     "output_type": "stream",
     "text": [
      "[Parallel(n_jobs=1)]: Done   3 out of   3 | elapsed:   11.3s finished\n"
     ]
    },
    {
     "name": "stdout",
     "output_type": "stream",
     "text": [
      "[CV]  ................................................................\n",
      "[CV] ................................................. , total=   6.3s\n",
      "[CV]  ................................................................\n"
     ]
    },
    {
     "name": "stderr",
     "output_type": "stream",
     "text": [
      "[Parallel(n_jobs=1)]: Done   1 out of   1 | elapsed:    6.5s remaining:    0.0s\n"
     ]
    },
    {
     "name": "stdout",
     "output_type": "stream",
     "text": [
      "[CV] ................................................. , total=   6.4s\n",
      "[CV]  ................................................................\n",
      "[CV] ................................................. , total=   6.4s\n",
      "test score =  0.945994146601096\n"
     ]
    },
    {
     "name": "stderr",
     "output_type": "stream",
     "text": [
      "[Parallel(n_jobs=1)]: Done   3 out of   3 | elapsed:   19.3s finished\n"
     ]
    },
    {
     "name": "stdout",
     "output_type": "stream",
     "text": [
      "[CV]  ................................................................\n",
      "[CV] ................................................. , total=   7.2s\n",
      "[CV]  ................................................................\n"
     ]
    },
    {
     "name": "stderr",
     "output_type": "stream",
     "text": [
      "[Parallel(n_jobs=1)]: Done   1 out of   1 | elapsed:    7.4s remaining:    0.0s\n"
     ]
    },
    {
     "name": "stdout",
     "output_type": "stream",
     "text": [
      "[CV] ................................................. , total=   7.3s\n",
      "[CV]  ................................................................\n",
      "[CV] ................................................. , total=   7.3s\n",
      "test score =  0.9590398346554622\n"
     ]
    },
    {
     "name": "stderr",
     "output_type": "stream",
     "text": [
      "[Parallel(n_jobs=1)]: Done   3 out of   3 | elapsed:   22.0s finished\n"
     ]
    },
    {
     "name": "stdout",
     "output_type": "stream",
     "text": [
      "[CV]  ................................................................\n",
      "[CV] ................................................. , total=   7.0s\n",
      "[CV]  ................................................................\n"
     ]
    },
    {
     "name": "stderr",
     "output_type": "stream",
     "text": [
      "[Parallel(n_jobs=1)]: Done   1 out of   1 | elapsed:    7.3s remaining:    0.0s\n"
     ]
    },
    {
     "name": "stdout",
     "output_type": "stream",
     "text": [
      "[CV] ................................................. , total=   7.2s\n",
      "[CV]  ................................................................\n",
      "[CV] ................................................. , total=   7.2s\n",
      "test score =  0.9601549159757785\n"
     ]
    },
    {
     "name": "stderr",
     "output_type": "stream",
     "text": [
      "[Parallel(n_jobs=1)]: Done   3 out of   3 | elapsed:   21.7s finished\n"
     ]
    },
    {
     "name": "stdout",
     "output_type": "stream",
     "text": [
      "[CV]  ................................................................\n",
      "[CV] ................................................. , total=   9.3s\n",
      "[CV]  ................................................................\n"
     ]
    },
    {
     "name": "stderr",
     "output_type": "stream",
     "text": [
      "[Parallel(n_jobs=1)]: Done   1 out of   1 | elapsed:    9.5s remaining:    0.0s\n"
     ]
    },
    {
     "name": "stdout",
     "output_type": "stream",
     "text": [
      "[CV] ................................................. , total=   9.5s\n",
      "[CV]  ................................................................\n",
      "[CV] ................................................. , total=   9.4s\n",
      "test score =  0.9621440355682829\n"
     ]
    },
    {
     "name": "stderr",
     "output_type": "stream",
     "text": [
      "[Parallel(n_jobs=1)]: Done   3 out of   3 | elapsed:   28.4s finished\n"
     ]
    },
    {
     "name": "stdout",
     "output_type": "stream",
     "text": [
      "[CV]  ................................................................\n",
      "[CV] ................................................. , total=   6.1s\n",
      "[CV]  ................................................................\n"
     ]
    },
    {
     "name": "stderr",
     "output_type": "stream",
     "text": [
      "[Parallel(n_jobs=1)]: Done   1 out of   1 | elapsed:    6.3s remaining:    0.0s\n"
     ]
    },
    {
     "name": "stdout",
     "output_type": "stream",
     "text": [
      "[CV] ................................................. , total=   6.2s\n",
      "[CV]  ................................................................\n",
      "[CV] ................................................. , total=   6.2s\n",
      "test score =  0.9494446864811262\n"
     ]
    },
    {
     "name": "stderr",
     "output_type": "stream",
     "text": [
      "[Parallel(n_jobs=1)]: Done   3 out of   3 | elapsed:   18.7s finished\n"
     ]
    },
    {
     "name": "stdout",
     "output_type": "stream",
     "text": [
      "[CV]  ................................................................\n",
      "[CV] ................................................. , total=   9.0s\n",
      "[CV]  ................................................................\n"
     ]
    },
    {
     "name": "stderr",
     "output_type": "stream",
     "text": [
      "[Parallel(n_jobs=1)]: Done   1 out of   1 | elapsed:    9.2s remaining:    0.0s\n"
     ]
    },
    {
     "name": "stdout",
     "output_type": "stream",
     "text": [
      "[CV] ................................................. , total=   9.1s\n",
      "[CV]  ................................................................\n",
      "[CV] ................................................. , total=   9.2s\n",
      "test score =  0.9634382341145682\n"
     ]
    },
    {
     "name": "stderr",
     "output_type": "stream",
     "text": [
      "[Parallel(n_jobs=1)]: Done   3 out of   3 | elapsed:   27.5s finished\n"
     ]
    },
    {
     "name": "stdout",
     "output_type": "stream",
     "text": [
      "[CV]  ................................................................\n",
      "[CV] ................................................. , total=   8.8s\n",
      "[CV]  ................................................................\n"
     ]
    },
    {
     "name": "stderr",
     "output_type": "stream",
     "text": [
      "[Parallel(n_jobs=1)]: Done   1 out of   1 | elapsed:    9.0s remaining:    0.0s\n"
     ]
    },
    {
     "name": "stdout",
     "output_type": "stream",
     "text": [
      "[CV] ................................................. , total=   8.7s\n",
      "[CV]  ................................................................\n",
      "[CV] ................................................. , total=   8.7s\n",
      "test score =  0.9591104871856609\n"
     ]
    },
    {
     "name": "stderr",
     "output_type": "stream",
     "text": [
      "[Parallel(n_jobs=1)]: Done   3 out of   3 | elapsed:   26.4s finished\n"
     ]
    },
    {
     "name": "stdout",
     "output_type": "stream",
     "text": [
      "[CV]  ................................................................\n",
      "[CV] ................................................. , total=   9.8s\n",
      "[CV]  ................................................................\n"
     ]
    },
    {
     "name": "stderr",
     "output_type": "stream",
     "text": [
      "[Parallel(n_jobs=1)]: Done   1 out of   1 | elapsed:   10.0s remaining:    0.0s\n"
     ]
    },
    {
     "name": "stdout",
     "output_type": "stream",
     "text": [
      "[CV] ................................................. , total=   9.9s\n",
      "[CV]  ................................................................\n",
      "[CV] ................................................. , total=   9.9s\n",
      "test score =  0.9636484296414528\n"
     ]
    },
    {
     "name": "stderr",
     "output_type": "stream",
     "text": [
      "[Parallel(n_jobs=1)]: Done   3 out of   3 | elapsed:   29.8s finished\n"
     ]
    },
    {
     "name": "stdout",
     "output_type": "stream",
     "text": [
      "[CV]  ................................................................\n",
      "[CV] ................................................. , total=   7.4s\n",
      "[CV]  ................................................................\n"
     ]
    },
    {
     "name": "stderr",
     "output_type": "stream",
     "text": [
      "[Parallel(n_jobs=1)]: Done   1 out of   1 | elapsed:    7.7s remaining:    0.0s\n"
     ]
    },
    {
     "name": "stdout",
     "output_type": "stream",
     "text": [
      "[CV] ................................................. , total=   7.4s\n",
      "[CV]  ................................................................\n",
      "[CV] ................................................. , total=   7.6s\n",
      "test score =  0.9576468548556963\n"
     ]
    },
    {
     "name": "stderr",
     "output_type": "stream",
     "text": [
      "[Parallel(n_jobs=1)]: Done   3 out of   3 | elapsed:   22.6s finished\n"
     ]
    },
    {
     "name": "stdout",
     "output_type": "stream",
     "text": [
      "[CV]  ................................................................\n",
      "[CV] ................................................. , total=   9.8s\n",
      "[CV]  ................................................................\n"
     ]
    },
    {
     "name": "stderr",
     "output_type": "stream",
     "text": [
      "[Parallel(n_jobs=1)]: Done   1 out of   1 | elapsed:   10.0s remaining:    0.0s\n"
     ]
    },
    {
     "name": "stdout",
     "output_type": "stream",
     "text": [
      "[CV] ................................................. , total=   9.9s\n",
      "[CV]  ................................................................\n",
      "[CV] ................................................. , total=   9.8s\n",
      "test score =  0.9622871668141694\n"
     ]
    },
    {
     "name": "stderr",
     "output_type": "stream",
     "text": [
      "[Parallel(n_jobs=1)]: Done   3 out of   3 | elapsed:   29.7s finished\n"
     ]
    },
    {
     "name": "stdout",
     "output_type": "stream",
     "text": [
      "[CV]  ................................................................\n",
      "[CV] ................................................. , total=  10.0s\n",
      "[CV]  ................................................................\n"
     ]
    },
    {
     "name": "stderr",
     "output_type": "stream",
     "text": [
      "[Parallel(n_jobs=1)]: Done   1 out of   1 | elapsed:   10.2s remaining:    0.0s\n"
     ]
    },
    {
     "name": "stdout",
     "output_type": "stream",
     "text": [
      "[CV] ................................................. , total=  10.1s\n",
      "[CV]  ................................................................\n",
      "[CV] ................................................. , total=  10.3s\n",
      "test score =  0.9616181514313209\n"
     ]
    },
    {
     "name": "stderr",
     "output_type": "stream",
     "text": [
      "[Parallel(n_jobs=1)]: Done   3 out of   3 | elapsed:   30.6s finished\n"
     ]
    },
    {
     "name": "stdout",
     "output_type": "stream",
     "text": [
      "[CV]  ................................................................\n",
      "[CV] ................................................. , total=   9.3s\n",
      "[CV]  ................................................................\n"
     ]
    },
    {
     "name": "stderr",
     "output_type": "stream",
     "text": [
      "[Parallel(n_jobs=1)]: Done   1 out of   1 | elapsed:    9.5s remaining:    0.0s\n"
     ]
    },
    {
     "name": "stdout",
     "output_type": "stream",
     "text": [
      "[CV] ................................................. , total=   9.1s\n",
      "[CV]  ................................................................\n",
      "[CV] ................................................. , total=   9.1s\n",
      "test score =  0.9604375865458602\n"
     ]
    },
    {
     "name": "stderr",
     "output_type": "stream",
     "text": [
      "[Parallel(n_jobs=1)]: Done   3 out of   3 | elapsed:   27.7s finished\n"
     ]
    },
    {
     "name": "stdout",
     "output_type": "stream",
     "text": [
      "[CV]  ................................................................\n",
      "[CV] ................................................. , total=   8.7s\n",
      "[CV]  ................................................................\n"
     ]
    },
    {
     "name": "stderr",
     "output_type": "stream",
     "text": [
      "[Parallel(n_jobs=1)]: Done   1 out of   1 | elapsed:    8.9s remaining:    0.0s\n"
     ]
    },
    {
     "name": "stdout",
     "output_type": "stream",
     "text": [
      "[CV] ................................................. , total=   8.7s\n",
      "[CV]  ................................................................\n",
      "[CV] ................................................. , total=   8.9s\n",
      "test score =  0.960120752508694\n"
     ]
    },
    {
     "name": "stderr",
     "output_type": "stream",
     "text": [
      "[Parallel(n_jobs=1)]: Done   3 out of   3 | elapsed:   26.5s finished\n"
     ]
    },
    {
     "name": "stdout",
     "output_type": "stream",
     "text": [
      "[CV]  ................................................................\n",
      "[CV] ................................................. , total=  10.9s\n",
      "[CV]  ................................................................\n"
     ]
    },
    {
     "name": "stderr",
     "output_type": "stream",
     "text": [
      "[Parallel(n_jobs=1)]: Done   1 out of   1 | elapsed:   11.1s remaining:    0.0s\n"
     ]
    },
    {
     "name": "stdout",
     "output_type": "stream",
     "text": [
      "[CV] ................................................. , total=  11.4s\n",
      "[CV]  ................................................................\n",
      "[CV] ................................................. , total=  11.0s\n",
      "test score =  0.9621089001138405\n"
     ]
    },
    {
     "name": "stderr",
     "output_type": "stream",
     "text": [
      "[Parallel(n_jobs=1)]: Done   3 out of   3 | elapsed:   33.4s finished\n"
     ]
    },
    {
     "name": "stdout",
     "output_type": "stream",
     "text": [
      "[CV]  ................................................................\n",
      "[CV] ................................................. , total=   8.3s\n",
      "[CV]  ................................................................\n"
     ]
    },
    {
     "name": "stderr",
     "output_type": "stream",
     "text": [
      "[Parallel(n_jobs=1)]: Done   1 out of   1 | elapsed:    8.6s remaining:    0.0s\n"
     ]
    },
    {
     "name": "stdout",
     "output_type": "stream",
     "text": [
      "[CV] ................................................. , total=   8.4s\n",
      "[CV]  ................................................................\n",
      "[CV] ................................................. , total=   8.4s\n",
      "test score =  0.9546415371693294\n"
     ]
    },
    {
     "name": "stderr",
     "output_type": "stream",
     "text": [
      "[Parallel(n_jobs=1)]: Done   3 out of   3 | elapsed:   25.4s finished\n"
     ]
    },
    {
     "name": "stdout",
     "output_type": "stream",
     "text": [
      "[CV]  ................................................................\n",
      "[CV] ................................................. , total=   9.2s\n",
      "[CV]  ................................................................\n"
     ]
    },
    {
     "name": "stderr",
     "output_type": "stream",
     "text": [
      "[Parallel(n_jobs=1)]: Done   1 out of   1 | elapsed:    9.4s remaining:    0.0s\n"
     ]
    },
    {
     "name": "stdout",
     "output_type": "stream",
     "text": [
      "[CV] ................................................. , total=   9.1s\n",
      "[CV]  ................................................................\n",
      "[CV] ................................................. , total=   9.2s\n",
      "test score =  0.9602974158950798\n"
     ]
    },
    {
     "name": "stderr",
     "output_type": "stream",
     "text": [
      "[Parallel(n_jobs=1)]: Done   3 out of   3 | elapsed:   27.7s finished\n"
     ]
    },
    {
     "name": "stdout",
     "output_type": "stream",
     "text": [
      "[CV]  ................................................................\n",
      "[CV] ................................................. , total=   9.4s\n",
      "[CV]  ................................................................\n"
     ]
    },
    {
     "name": "stderr",
     "output_type": "stream",
     "text": [
      "[Parallel(n_jobs=1)]: Done   1 out of   1 | elapsed:    9.7s remaining:    0.0s\n"
     ]
    },
    {
     "name": "stdout",
     "output_type": "stream",
     "text": [
      "[CV] ................................................. , total=   9.8s\n",
      "[CV]  ................................................................\n",
      "[CV] ................................................. , total=   9.7s\n",
      "test score =  0.9602926364594664\n"
     ]
    },
    {
     "name": "stderr",
     "output_type": "stream",
     "text": [
      "[Parallel(n_jobs=1)]: Done   3 out of   3 | elapsed:   29.1s finished\n"
     ]
    },
    {
     "name": "stdout",
     "output_type": "stream",
     "text": [
      "[CV]  ................................................................\n",
      "[CV] ................................................. , total=   9.1s\n",
      "[CV]  ................................................................\n"
     ]
    },
    {
     "name": "stderr",
     "output_type": "stream",
     "text": [
      "[Parallel(n_jobs=1)]: Done   1 out of   1 | elapsed:    9.3s remaining:    0.0s\n"
     ]
    },
    {
     "name": "stdout",
     "output_type": "stream",
     "text": [
      "[CV] ................................................. , total=   9.1s\n",
      "[CV]  ................................................................\n",
      "[CV] ................................................. , total=   9.1s\n",
      "test score =  0.9603632700640667\n"
     ]
    },
    {
     "name": "stderr",
     "output_type": "stream",
     "text": [
      "[Parallel(n_jobs=1)]: Done   3 out of   3 | elapsed:   27.6s finished\n"
     ]
    },
    {
     "name": "stdout",
     "output_type": "stream",
     "text": [
      "[CV]  ................................................................\n",
      "[CV] ................................................. , total=   7.0s\n",
      "[CV]  ................................................................\n"
     ]
    },
    {
     "name": "stderr",
     "output_type": "stream",
     "text": [
      "[Parallel(n_jobs=1)]: Done   1 out of   1 | elapsed:    7.2s remaining:    0.0s\n"
     ]
    },
    {
     "name": "stdout",
     "output_type": "stream",
     "text": [
      "[CV] ................................................. , total=   7.0s\n",
      "[CV]  ................................................................\n",
      "[CV] ................................................. , total=   7.0s\n",
      "test score =  0.9401298228315557\n"
     ]
    },
    {
     "name": "stderr",
     "output_type": "stream",
     "text": [
      "[Parallel(n_jobs=1)]: Done   3 out of   3 | elapsed:   21.2s finished\n"
     ]
    },
    {
     "name": "stdout",
     "output_type": "stream",
     "text": [
      "[CV]  ................................................................\n",
      "[CV] ................................................. , total=   6.7s\n",
      "[CV]  ................................................................\n"
     ]
    },
    {
     "name": "stderr",
     "output_type": "stream",
     "text": [
      "[Parallel(n_jobs=1)]: Done   1 out of   1 | elapsed:    6.9s remaining:    0.0s\n"
     ]
    },
    {
     "name": "stdout",
     "output_type": "stream",
     "text": [
      "[CV] ................................................. , total=   6.8s\n",
      "[CV]  ................................................................\n",
      "[CV] ................................................. , total=   6.9s\n",
      "test score =  0.9327733185362574\n"
     ]
    },
    {
     "name": "stderr",
     "output_type": "stream",
     "text": [
      "[Parallel(n_jobs=1)]: Done   3 out of   3 | elapsed:   20.7s finished\n"
     ]
    },
    {
     "name": "stdout",
     "output_type": "stream",
     "text": [
      "[CV]  ................................................................\n",
      "[CV] ................................................. , total=  10.2s\n",
      "[CV]  ................................................................\n"
     ]
    },
    {
     "name": "stderr",
     "output_type": "stream",
     "text": [
      "[Parallel(n_jobs=1)]: Done   1 out of   1 | elapsed:   10.4s remaining:    0.0s\n"
     ]
    },
    {
     "name": "stdout",
     "output_type": "stream",
     "text": [
      "[CV] ................................................. , total=  10.3s\n",
      "[CV]  ................................................................\n",
      "[CV] ................................................. , total=  10.2s\n",
      "test score =  0.9627746258214277\n"
     ]
    },
    {
     "name": "stderr",
     "output_type": "stream",
     "text": [
      "[Parallel(n_jobs=1)]: Done   3 out of   3 | elapsed:   30.9s finished\n"
     ]
    },
    {
     "name": "stdout",
     "output_type": "stream",
     "text": [
      "[CV]  ................................................................\n",
      "[CV] ................................................. , total=   7.0s\n",
      "[CV]  ................................................................\n"
     ]
    },
    {
     "name": "stderr",
     "output_type": "stream",
     "text": [
      "[Parallel(n_jobs=1)]: Done   1 out of   1 | elapsed:    7.2s remaining:    0.0s\n"
     ]
    },
    {
     "name": "stdout",
     "output_type": "stream",
     "text": [
      "[CV] ................................................. , total=   6.9s\n",
      "[CV]  ................................................................\n",
      "[CV] ................................................. , total=   6.9s\n",
      "test score =  0.9383226192010125\n"
     ]
    },
    {
     "name": "stderr",
     "output_type": "stream",
     "text": [
      "[Parallel(n_jobs=1)]: Done   3 out of   3 | elapsed:   21.0s finished\n"
     ]
    },
    {
     "name": "stdout",
     "output_type": "stream",
     "text": [
      "[CV]  ................................................................\n",
      "[CV] ................................................. , total=   8.2s\n",
      "[CV]  ................................................................\n"
     ]
    },
    {
     "name": "stderr",
     "output_type": "stream",
     "text": [
      "[Parallel(n_jobs=1)]: Done   1 out of   1 | elapsed:    8.5s remaining:    0.0s\n"
     ]
    },
    {
     "name": "stdout",
     "output_type": "stream",
     "text": [
      "[CV] ................................................. , total=   7.9s\n",
      "[CV]  ................................................................\n",
      "[CV] ................................................. , total=   8.3s\n",
      "test score =  0.747074000091561\n"
     ]
    },
    {
     "name": "stderr",
     "output_type": "stream",
     "text": [
      "[Parallel(n_jobs=1)]: Done   3 out of   3 | elapsed:   24.7s finished\n"
     ]
    },
    {
     "name": "stdout",
     "output_type": "stream",
     "text": [
      "[CV]  ................................................................\n",
      "[CV] ................................................. , total=   9.6s\n",
      "[CV]  ................................................................\n"
     ]
    },
    {
     "name": "stderr",
     "output_type": "stream",
     "text": [
      "[Parallel(n_jobs=1)]: Done   1 out of   1 | elapsed:    9.8s remaining:    0.0s\n"
     ]
    },
    {
     "name": "stdout",
     "output_type": "stream",
     "text": [
      "[CV] ................................................. , total=   9.6s\n",
      "[CV]  ................................................................\n",
      "[CV] ................................................. , total=   9.4s\n",
      "test score =  0.960363546039917\n"
     ]
    },
    {
     "name": "stderr",
     "output_type": "stream",
     "text": [
      "[Parallel(n_jobs=1)]: Done   3 out of   3 | elapsed:   28.8s finished\n"
     ]
    },
    {
     "name": "stdout",
     "output_type": "stream",
     "text": [
      "[CV]  ................................................................\n",
      "[CV] ................................................. , total=   7.8s\n",
      "[CV]  ................................................................\n"
     ]
    },
    {
     "name": "stderr",
     "output_type": "stream",
     "text": [
      "[Parallel(n_jobs=1)]: Done   1 out of   1 | elapsed:    8.0s remaining:    0.0s\n"
     ]
    },
    {
     "name": "stdout",
     "output_type": "stream",
     "text": [
      "[CV] ................................................. , total=   7.9s\n",
      "[CV]  ................................................................\n",
      "[CV] ................................................. , total=   7.9s\n",
      "test score =  0.9567728996308832\n"
     ]
    },
    {
     "name": "stderr",
     "output_type": "stream",
     "text": [
      "[Parallel(n_jobs=1)]: Done   3 out of   3 | elapsed:   23.8s finished\n"
     ]
    },
    {
     "name": "stdout",
     "output_type": "stream",
     "text": [
      "[CV]  ................................................................\n",
      "[CV] ................................................. , total=   5.3s\n",
      "[CV]  ................................................................\n"
     ]
    },
    {
     "name": "stderr",
     "output_type": "stream",
     "text": [
      "[Parallel(n_jobs=1)]: Done   1 out of   1 | elapsed:    5.5s remaining:    0.0s\n"
     ]
    },
    {
     "name": "stdout",
     "output_type": "stream",
     "text": [
      "[CV] ................................................. , total=   5.1s\n",
      "[CV]  ................................................................\n",
      "[CV] ................................................. , total=   5.1s\n",
      "test score =  0.9446604147860697\n"
     ]
    },
    {
     "name": "stderr",
     "output_type": "stream",
     "text": [
      "[Parallel(n_jobs=1)]: Done   3 out of   3 | elapsed:   15.7s finished\n"
     ]
    },
    {
     "name": "stdout",
     "output_type": "stream",
     "text": [
      "[CV]  ................................................................\n",
      "[CV] ................................................. , total=   9.4s\n",
      "[CV]  ................................................................\n"
     ]
    },
    {
     "name": "stderr",
     "output_type": "stream",
     "text": [
      "[Parallel(n_jobs=1)]: Done   1 out of   1 | elapsed:    9.6s remaining:    0.0s\n"
     ]
    },
    {
     "name": "stdout",
     "output_type": "stream",
     "text": [
      "[CV] ................................................. , total=   9.5s\n",
      "[CV]  ................................................................\n",
      "[CV] ................................................. , total=   9.5s\n",
      "test score =  0.9581321811954\n"
     ]
    },
    {
     "name": "stderr",
     "output_type": "stream",
     "text": [
      "[Parallel(n_jobs=1)]: Done   3 out of   3 | elapsed:   28.6s finished\n"
     ]
    },
    {
     "name": "stdout",
     "output_type": "stream",
     "text": [
      "[CV]  ................................................................\n",
      "[CV] ................................................. , total=   7.1s\n",
      "[CV]  ................................................................\n"
     ]
    },
    {
     "name": "stderr",
     "output_type": "stream",
     "text": [
      "[Parallel(n_jobs=1)]: Done   1 out of   1 | elapsed:    7.3s remaining:    0.0s\n"
     ]
    },
    {
     "name": "stdout",
     "output_type": "stream",
     "text": [
      "[CV] ................................................. , total=   7.0s\n",
      "[CV]  ................................................................\n",
      "[CV] ................................................. , total=   7.0s\n",
      "test score =  0.908733822551576\n"
     ]
    },
    {
     "name": "stderr",
     "output_type": "stream",
     "text": [
      "[Parallel(n_jobs=1)]: Done   3 out of   3 | elapsed:   21.2s finished\n"
     ]
    },
    {
     "name": "stdout",
     "output_type": "stream",
     "text": [
      "[CV]  ................................................................\n",
      "[CV] ................................................. , total=  10.2s\n",
      "[CV]  ................................................................\n"
     ]
    },
    {
     "name": "stderr",
     "output_type": "stream",
     "text": [
      "[Parallel(n_jobs=1)]: Done   1 out of   1 | elapsed:   10.4s remaining:    0.0s\n"
     ]
    },
    {
     "name": "stdout",
     "output_type": "stream",
     "text": [
      "[CV] ................................................. , total=  10.4s\n",
      "[CV]  ................................................................\n",
      "[CV] ................................................. , total=  10.3s\n",
      "test score =  0.9607164191614705\n"
     ]
    },
    {
     "name": "stderr",
     "output_type": "stream",
     "text": [
      "[Parallel(n_jobs=1)]: Done   3 out of   3 | elapsed:   31.1s finished\n"
     ]
    },
    {
     "name": "stdout",
     "output_type": "stream",
     "text": [
      "[CV]  ................................................................\n",
      "[CV] ................................................. , total=   8.0s\n",
      "[CV]  ................................................................\n"
     ]
    },
    {
     "name": "stderr",
     "output_type": "stream",
     "text": [
      "[Parallel(n_jobs=1)]: Done   1 out of   1 | elapsed:    8.2s remaining:    0.0s\n"
     ]
    },
    {
     "name": "stdout",
     "output_type": "stream",
     "text": [
      "[CV] ................................................. , total=   8.0s\n",
      "[CV]  ................................................................\n",
      "[CV] ................................................. , total=   8.1s\n",
      "test score =  0.9527627316193183\n"
     ]
    },
    {
     "name": "stderr",
     "output_type": "stream",
     "text": [
      "[Parallel(n_jobs=1)]: Done   3 out of   3 | elapsed:   24.4s finished\n"
     ]
    },
    {
     "name": "stdout",
     "output_type": "stream",
     "text": [
      "[CV]  ................................................................\n",
      "[CV] ................................................. , total=   6.4s\n",
      "[CV]  ................................................................\n"
     ]
    },
    {
     "name": "stderr",
     "output_type": "stream",
     "text": [
      "[Parallel(n_jobs=1)]: Done   1 out of   1 | elapsed:    6.6s remaining:    0.0s\n"
     ]
    },
    {
     "name": "stdout",
     "output_type": "stream",
     "text": [
      "[CV] ................................................. , total=   6.3s\n",
      "[CV]  ................................................................\n",
      "[CV] ................................................. , total=   6.3s\n",
      "test score =  0.7076982203619285\n"
     ]
    },
    {
     "name": "stderr",
     "output_type": "stream",
     "text": [
      "[Parallel(n_jobs=1)]: Done   3 out of   3 | elapsed:   19.1s finished\n"
     ]
    },
    {
     "name": "stdout",
     "output_type": "stream",
     "text": [
      "[CV]  ................................................................\n",
      "[CV] ................................................. , total=   8.3s\n",
      "[CV]  ................................................................\n"
     ]
    },
    {
     "name": "stderr",
     "output_type": "stream",
     "text": [
      "[Parallel(n_jobs=1)]: Done   1 out of   1 | elapsed:    8.5s remaining:    0.0s\n"
     ]
    },
    {
     "name": "stdout",
     "output_type": "stream",
     "text": [
      "[CV] ................................................. , total=   8.8s\n",
      "[CV]  ................................................................\n",
      "[CV] ................................................. , total=   8.7s\n",
      "test score =  0.9617585907129707\n"
     ]
    },
    {
     "name": "stderr",
     "output_type": "stream",
     "text": [
      "[Parallel(n_jobs=1)]: Done   3 out of   3 | elapsed:   25.9s finished\n"
     ]
    },
    {
     "name": "stdout",
     "output_type": "stream",
     "text": [
      "[CV]  ................................................................\n",
      "[CV] ................................................. , total=   6.4s\n",
      "[CV]  ................................................................\n"
     ]
    },
    {
     "name": "stderr",
     "output_type": "stream",
     "text": [
      "[Parallel(n_jobs=1)]: Done   1 out of   1 | elapsed:    6.6s remaining:    0.0s\n"
     ]
    },
    {
     "name": "stdout",
     "output_type": "stream",
     "text": [
      "[CV] ................................................. , total=   6.6s\n",
      "[CV]  ................................................................\n",
      "[CV] ................................................. , total=   6.5s\n",
      "test score =  0.9584812731392773\n"
     ]
    },
    {
     "name": "stderr",
     "output_type": "stream",
     "text": [
      "[Parallel(n_jobs=1)]: Done   3 out of   3 | elapsed:   19.7s finished\n"
     ]
    },
    {
     "name": "stdout",
     "output_type": "stream",
     "text": [
      "[CV]  ................................................................\n",
      "[CV] ................................................. , total=   9.1s\n",
      "[CV]  ................................................................\n"
     ]
    },
    {
     "name": "stderr",
     "output_type": "stream",
     "text": [
      "[Parallel(n_jobs=1)]: Done   1 out of   1 | elapsed:    9.3s remaining:    0.0s\n"
     ]
    },
    {
     "name": "stdout",
     "output_type": "stream",
     "text": [
      "[CV] ................................................. , total=   9.2s\n",
      "[CV]  ................................................................\n",
      "[CV] ................................................. , total=   9.2s\n",
      "test score =  0.9575043775344841\n"
     ]
    },
    {
     "name": "stderr",
     "output_type": "stream",
     "text": [
      "[Parallel(n_jobs=1)]: Done   3 out of   3 | elapsed:   27.7s finished\n"
     ]
    },
    {
     "name": "stdout",
     "output_type": "stream",
     "text": [
      "[CV]  ................................................................\n",
      "[CV] ................................................. , total=   7.2s\n",
      "[CV]  ................................................................\n"
     ]
    },
    {
     "name": "stderr",
     "output_type": "stream",
     "text": [
      "[Parallel(n_jobs=1)]: Done   1 out of   1 | elapsed:    7.4s remaining:    0.0s\n"
     ]
    },
    {
     "name": "stdout",
     "output_type": "stream",
     "text": [
      "[CV] ................................................. , total=   6.4s\n",
      "[CV]  ................................................................\n",
      "[CV] ................................................. , total=   6.4s\n",
      "test score =  0.9561850481480741\n"
     ]
    },
    {
     "name": "stderr",
     "output_type": "stream",
     "text": [
      "[Parallel(n_jobs=1)]: Done   3 out of   3 | elapsed:   20.3s finished\n"
     ]
    },
    {
     "name": "stdout",
     "output_type": "stream",
     "text": [
      "[CV]  ................................................................\n",
      "[CV] ................................................. , total=   9.7s\n",
      "[CV]  ................................................................\n"
     ]
    },
    {
     "name": "stderr",
     "output_type": "stream",
     "text": [
      "[Parallel(n_jobs=1)]: Done   1 out of   1 | elapsed:    9.9s remaining:    0.0s\n"
     ]
    },
    {
     "name": "stdout",
     "output_type": "stream",
     "text": [
      "[CV] ................................................. , total=   9.9s\n",
      "[CV]  ................................................................\n",
      "[CV] ................................................. , total=  10.0s\n",
      "test score =  0.9607840317216793\n"
     ]
    },
    {
     "name": "stderr",
     "output_type": "stream",
     "text": [
      "[Parallel(n_jobs=1)]: Done   3 out of   3 | elapsed:   29.7s finished\n"
     ]
    },
    {
     "name": "stdout",
     "output_type": "stream",
     "text": [
      "[CV]  ................................................................\n",
      "[CV] ................................................. , total=   4.4s\n",
      "[CV]  ................................................................\n"
     ]
    },
    {
     "name": "stderr",
     "output_type": "stream",
     "text": [
      "[Parallel(n_jobs=1)]: Done   1 out of   1 | elapsed:    4.6s remaining:    0.0s\n"
     ]
    },
    {
     "name": "stdout",
     "output_type": "stream",
     "text": [
      "[CV] ................................................. , total=   4.4s\n",
      "[CV]  ................................................................\n",
      "[CV] ................................................. , total=   5.3s\n",
      "test score =  0.15608588035292176\n"
     ]
    },
    {
     "name": "stderr",
     "output_type": "stream",
     "text": [
      "[Parallel(n_jobs=1)]: Done   3 out of   3 | elapsed:   14.3s finished\n"
     ]
    },
    {
     "name": "stdout",
     "output_type": "stream",
     "text": [
      "[CV]  ................................................................\n",
      "[CV] ................................................. , total=   4.9s\n",
      "[CV]  ................................................................\n"
     ]
    },
    {
     "name": "stderr",
     "output_type": "stream",
     "text": [
      "[Parallel(n_jobs=1)]: Done   1 out of   1 | elapsed:    5.1s remaining:    0.0s\n"
     ]
    },
    {
     "name": "stdout",
     "output_type": "stream",
     "text": [
      "[CV] ................................................. , total=   5.1s\n",
      "[CV]  ................................................................\n",
      "[CV] ................................................. , total=   3.9s\n",
      "test score =  0.8107375677642379\n"
     ]
    },
    {
     "name": "stderr",
     "output_type": "stream",
     "text": [
      "[Parallel(n_jobs=1)]: Done   3 out of   3 | elapsed:   14.1s finished\n"
     ]
    },
    {
     "name": "stdout",
     "output_type": "stream",
     "text": [
      "[CV]  ................................................................\n",
      "[CV] ................................................. , total=   9.8s\n",
      "[CV]  ................................................................\n"
     ]
    },
    {
     "name": "stderr",
     "output_type": "stream",
     "text": [
      "[Parallel(n_jobs=1)]: Done   1 out of   1 | elapsed:   10.0s remaining:    0.0s\n"
     ]
    },
    {
     "name": "stdout",
     "output_type": "stream",
     "text": [
      "[CV] ................................................. , total=   9.9s\n",
      "[CV]  ................................................................\n",
      "[CV] ................................................. , total=   9.7s\n",
      "test score =  0.9588688128109474\n"
     ]
    },
    {
     "name": "stderr",
     "output_type": "stream",
     "text": [
      "[Parallel(n_jobs=1)]: Done   3 out of   3 | elapsed:   29.6s finished\n"
     ]
    },
    {
     "name": "stdout",
     "output_type": "stream",
     "text": [
      "[CV]  ................................................................\n",
      "[CV] ................................................. , total=   3.5s\n",
      "[CV]  ................................................................\n"
     ]
    },
    {
     "name": "stderr",
     "output_type": "stream",
     "text": [
      "[Parallel(n_jobs=1)]: Done   1 out of   1 | elapsed:    3.7s remaining:    0.0s\n"
     ]
    },
    {
     "name": "stdout",
     "output_type": "stream",
     "text": [
      "[CV] ................................................. , total=   3.5s\n",
      "[CV]  ................................................................\n",
      "[CV] ................................................. , total=   3.5s\n",
      "test score =  0.8982923416833318\n"
     ]
    },
    {
     "name": "stderr",
     "output_type": "stream",
     "text": [
      "[Parallel(n_jobs=1)]: Done   3 out of   3 | elapsed:   10.7s finished\n"
     ]
    },
    {
     "name": "stdout",
     "output_type": "stream",
     "text": [
      "[CV]  ................................................................\n",
      "[CV] ................................................. , total=   5.2s\n",
      "[CV]  ................................................................\n"
     ]
    },
    {
     "name": "stderr",
     "output_type": "stream",
     "text": [
      "[Parallel(n_jobs=1)]: Done   1 out of   1 | elapsed:    5.5s remaining:    0.0s\n"
     ]
    },
    {
     "name": "stdout",
     "output_type": "stream",
     "text": [
      "[CV] ................................................. , total=   6.0s\n",
      "[CV]  ................................................................\n",
      "[CV] ................................................. , total=   5.3s\n",
      "test score =  0.936154729825147\n"
     ]
    },
    {
     "name": "stderr",
     "output_type": "stream",
     "text": [
      "[Parallel(n_jobs=1)]: Done   3 out of   3 | elapsed:   16.8s finished\n"
     ]
    },
    {
     "name": "stdout",
     "output_type": "stream",
     "text": [
      "[CV]  ................................................................\n",
      "[CV] ................................................. , total=   8.6s\n",
      "[CV]  ................................................................\n"
     ]
    },
    {
     "name": "stderr",
     "output_type": "stream",
     "text": [
      "[Parallel(n_jobs=1)]: Done   1 out of   1 | elapsed:    8.8s remaining:    0.0s\n"
     ]
    },
    {
     "name": "stdout",
     "output_type": "stream",
     "text": [
      "[CV] ................................................. , total=   8.8s\n",
      "[CV]  ................................................................\n",
      "[CV] ................................................. , total=   8.7s\n",
      "test score =  0.9614113475526708\n"
     ]
    },
    {
     "name": "stderr",
     "output_type": "stream",
     "text": [
      "[Parallel(n_jobs=1)]: Done   3 out of   3 | elapsed:   26.3s finished\n"
     ]
    },
    {
     "name": "stdout",
     "output_type": "stream",
     "text": [
      "[CV]  ................................................................\n",
      "[CV] ................................................. , total=   8.0s\n",
      "[CV]  ................................................................\n"
     ]
    },
    {
     "name": "stderr",
     "output_type": "stream",
     "text": [
      "[Parallel(n_jobs=1)]: Done   1 out of   1 | elapsed:    8.2s remaining:    0.0s\n"
     ]
    },
    {
     "name": "stdout",
     "output_type": "stream",
     "text": [
      "[CV] ................................................. , total=   8.1s\n",
      "[CV]  ................................................................\n",
      "[CV] ................................................. , total=   8.4s\n",
      "test score =  0.956246331063031\n"
     ]
    },
    {
     "name": "stderr",
     "output_type": "stream",
     "text": [
      "[Parallel(n_jobs=1)]: Done   3 out of   3 | elapsed:   24.7s finished\n"
     ]
    },
    {
     "name": "stdout",
     "output_type": "stream",
     "text": [
      "[CV]  ................................................................\n",
      "[CV] ................................................. , total=   8.4s\n",
      "[CV]  ................................................................\n"
     ]
    },
    {
     "name": "stderr",
     "output_type": "stream",
     "text": [
      "[Parallel(n_jobs=1)]: Done   1 out of   1 | elapsed:    8.7s remaining:    0.0s\n"
     ]
    },
    {
     "name": "stdout",
     "output_type": "stream",
     "text": [
      "[CV] ................................................. , total=   8.5s\n",
      "[CV]  ................................................................\n",
      "[CV] ................................................. , total=   8.5s\n",
      "test score =  0.9540843823661219\n"
     ]
    },
    {
     "name": "stderr",
     "output_type": "stream",
     "text": [
      "[Parallel(n_jobs=1)]: Done   3 out of   3 | elapsed:   25.7s finished\n"
     ]
    },
    {
     "name": "stdout",
     "output_type": "stream",
     "text": [
      "[CV]  ................................................................\n",
      "[CV] ................................................. , total=   9.8s\n",
      "[CV]  ................................................................\n"
     ]
    },
    {
     "name": "stderr",
     "output_type": "stream",
     "text": [
      "[Parallel(n_jobs=1)]: Done   1 out of   1 | elapsed:   10.0s remaining:    0.0s\n"
     ]
    },
    {
     "name": "stdout",
     "output_type": "stream",
     "text": [
      "[CV] ................................................. , total=   9.8s\n",
      "[CV]  ................................................................\n",
      "[CV] ................................................. , total=   9.9s\n",
      "test score =  0.9599481236777457\n"
     ]
    },
    {
     "name": "stderr",
     "output_type": "stream",
     "text": [
      "[Parallel(n_jobs=1)]: Done   3 out of   3 | elapsed:   29.7s finished\n"
     ]
    },
    {
     "name": "stdout",
     "output_type": "stream",
     "text": [
      "[CV]  ................................................................\n",
      "[CV] ................................................. , total=   8.0s\n",
      "[CV]  ................................................................\n"
     ]
    },
    {
     "name": "stderr",
     "output_type": "stream",
     "text": [
      "[Parallel(n_jobs=1)]: Done   1 out of   1 | elapsed:    8.2s remaining:    0.0s\n"
     ]
    },
    {
     "name": "stdout",
     "output_type": "stream",
     "text": [
      "[CV] ................................................. , total=   8.1s\n",
      "[CV]  ................................................................\n",
      "[CV] ................................................. , total=   8.1s\n",
      "test score =  0.9512262835853839\n"
     ]
    },
    {
     "name": "stderr",
     "output_type": "stream",
     "text": [
      "[Parallel(n_jobs=1)]: Done   3 out of   3 | elapsed:   24.4s finished\n"
     ]
    },
    {
     "name": "stdout",
     "output_type": "stream",
     "text": [
      "[CV]  ................................................................\n",
      "[CV] ................................................. , total=   7.0s\n",
      "[CV]  ................................................................\n"
     ]
    },
    {
     "name": "stderr",
     "output_type": "stream",
     "text": [
      "[Parallel(n_jobs=1)]: Done   1 out of   1 | elapsed:    7.2s remaining:    0.0s\n"
     ]
    },
    {
     "name": "stdout",
     "output_type": "stream",
     "text": [
      "[CV] ................................................. , total=   7.1s\n",
      "[CV]  ................................................................\n",
      "[CV] ................................................. , total=   7.0s\n",
      "test score =  0.9460607151440433\n"
     ]
    },
    {
     "name": "stderr",
     "output_type": "stream",
     "text": [
      "[Parallel(n_jobs=1)]: Done   3 out of   3 | elapsed:   21.4s finished\n"
     ]
    },
    {
     "name": "stdout",
     "output_type": "stream",
     "text": [
      "[CV]  ................................................................\n",
      "[CV] ................................................. , total=   4.8s\n",
      "[CV]  ................................................................\n"
     ]
    },
    {
     "name": "stderr",
     "output_type": "stream",
     "text": [
      "[Parallel(n_jobs=1)]: Done   1 out of   1 | elapsed:    5.0s remaining:    0.0s\n"
     ]
    },
    {
     "name": "stdout",
     "output_type": "stream",
     "text": [
      "[CV] ................................................. , total=   4.8s\n",
      "[CV]  ................................................................\n",
      "[CV] ................................................. , total=   4.7s\n",
      "test score =  0.9436534091952277\n"
     ]
    },
    {
     "name": "stderr",
     "output_type": "stream",
     "text": [
      "[Parallel(n_jobs=1)]: Done   3 out of   3 | elapsed:   14.5s finished\n"
     ]
    },
    {
     "name": "stdout",
     "output_type": "stream",
     "text": [
      "[CV]  ................................................................\n",
      "[CV] ................................................. , total=   6.1s\n",
      "[CV]  ................................................................\n"
     ]
    },
    {
     "name": "stderr",
     "output_type": "stream",
     "text": [
      "[Parallel(n_jobs=1)]: Done   1 out of   1 | elapsed:    6.4s remaining:    0.0s\n"
     ]
    },
    {
     "name": "stdout",
     "output_type": "stream",
     "text": [
      "[CV] ................................................. , total=   6.2s\n",
      "[CV]  ................................................................\n",
      "[CV] ................................................. , total=   6.2s\n",
      "test score =  0.9499734365852016\n"
     ]
    },
    {
     "name": "stderr",
     "output_type": "stream",
     "text": [
      "[Parallel(n_jobs=1)]: Done   3 out of   3 | elapsed:   18.8s finished\n"
     ]
    },
    {
     "name": "stdout",
     "output_type": "stream",
     "text": [
      "[CV]  ................................................................\n",
      "[CV] ................................................. , total=   7.3s\n",
      "[CV]  ................................................................\n"
     ]
    },
    {
     "name": "stderr",
     "output_type": "stream",
     "text": [
      "[Parallel(n_jobs=1)]: Done   1 out of   1 | elapsed:    7.5s remaining:    0.0s\n"
     ]
    },
    {
     "name": "stdout",
     "output_type": "stream",
     "text": [
      "[CV] ................................................. , total=   7.3s\n",
      "[CV]  ................................................................\n",
      "[CV] ................................................. , total=   7.3s\n",
      "test score =  0.9527587312425875\n"
     ]
    },
    {
     "name": "stderr",
     "output_type": "stream",
     "text": [
      "[Parallel(n_jobs=1)]: Done   3 out of   3 | elapsed:   22.2s finished\n"
     ]
    },
    {
     "name": "stdout",
     "output_type": "stream",
     "text": [
      "[CV]  ................................................................\n",
      "[CV] ................................................. , total=   8.4s\n",
      "[CV]  ................................................................\n"
     ]
    },
    {
     "name": "stderr",
     "output_type": "stream",
     "text": [
      "[Parallel(n_jobs=1)]: Done   1 out of   1 | elapsed:    8.6s remaining:    0.0s\n"
     ]
    },
    {
     "name": "stdout",
     "output_type": "stream",
     "text": [
      "[CV] ................................................. , total=   8.2s\n",
      "[CV]  ................................................................\n",
      "[CV] ................................................. , total=   6.0s\n",
      "test score =  0.6992748252393901\n"
     ]
    },
    {
     "name": "stderr",
     "output_type": "stream",
     "text": [
      "[Parallel(n_jobs=1)]: Done   3 out of   3 | elapsed:   22.8s finished\n"
     ]
    },
    {
     "name": "stdout",
     "output_type": "stream",
     "text": [
      "[CV]  ................................................................\n",
      "[CV] ................................................. , total=   4.6s\n",
      "[CV]  ................................................................\n"
     ]
    },
    {
     "name": "stderr",
     "output_type": "stream",
     "text": [
      "[Parallel(n_jobs=1)]: Done   1 out of   1 | elapsed:    4.8s remaining:    0.0s\n"
     ]
    },
    {
     "name": "stdout",
     "output_type": "stream",
     "text": [
      "[CV] ................................................. , total=   4.6s\n",
      "[CV]  ................................................................\n",
      "[CV] ................................................. , total=   4.7s\n",
      "test score =  0.9512940322972723\n"
     ]
    },
    {
     "name": "stderr",
     "output_type": "stream",
     "text": [
      "[Parallel(n_jobs=1)]: Done   3 out of   3 | elapsed:   14.1s finished\n"
     ]
    },
    {
     "name": "stdout",
     "output_type": "stream",
     "text": [
      "[CV]  ................................................................\n",
      "[CV] ................................................. , total=   5.9s\n",
      "[CV]  ................................................................\n"
     ]
    },
    {
     "name": "stderr",
     "output_type": "stream",
     "text": [
      "[Parallel(n_jobs=1)]: Done   1 out of   1 | elapsed:    6.1s remaining:    0.0s\n"
     ]
    },
    {
     "name": "stdout",
     "output_type": "stream",
     "text": [
      "[CV] ................................................. , total=   5.9s\n",
      "[CV]  ................................................................\n",
      "[CV] ................................................. , total=   5.9s\n",
      "test score =  0.958652431135472\n"
     ]
    },
    {
     "name": "stderr",
     "output_type": "stream",
     "text": [
      "[Parallel(n_jobs=1)]: Done   3 out of   3 | elapsed:   17.8s finished\n"
     ]
    },
    {
     "name": "stdout",
     "output_type": "stream",
     "text": [
      "[CV]  ................................................................\n",
      "[CV] ................................................. , total=   6.8s\n",
      "[CV]  ................................................................\n"
     ]
    },
    {
     "name": "stderr",
     "output_type": "stream",
     "text": [
      "[Parallel(n_jobs=1)]: Done   1 out of   1 | elapsed:    7.1s remaining:    0.0s\n"
     ]
    },
    {
     "name": "stdout",
     "output_type": "stream",
     "text": [
      "[CV] ................................................. , total=   6.7s\n",
      "[CV]  ................................................................\n",
      "[CV] ................................................. , total=   6.9s\n",
      "test score =  0.9485717673654475\n"
     ]
    },
    {
     "name": "stderr",
     "output_type": "stream",
     "text": [
      "[Parallel(n_jobs=1)]: Done   3 out of   3 | elapsed:   20.6s finished\n"
     ]
    },
    {
     "name": "stdout",
     "output_type": "stream",
     "text": [
      "[CV]  ................................................................\n",
      "[CV] ................................................. , total=   8.9s\n",
      "[CV]  ................................................................\n"
     ]
    },
    {
     "name": "stderr",
     "output_type": "stream",
     "text": [
      "[Parallel(n_jobs=1)]: Done   1 out of   1 | elapsed:    9.2s remaining:    0.0s\n"
     ]
    },
    {
     "name": "stdout",
     "output_type": "stream",
     "text": [
      "[CV] ................................................. , total=   9.2s\n",
      "[CV]  ................................................................\n",
      "[CV] ................................................. , total=   9.2s\n",
      "test score =  0.9612724285375891\n"
     ]
    },
    {
     "name": "stderr",
     "output_type": "stream",
     "text": [
      "[Parallel(n_jobs=1)]: Done   3 out of   3 | elapsed:   27.6s finished\n"
     ]
    },
    {
     "name": "stdout",
     "output_type": "stream",
     "text": [
      "[CV]  ................................................................\n",
      "[CV] ................................................. , total=   8.0s\n",
      "[CV]  ................................................................\n"
     ]
    },
    {
     "name": "stderr",
     "output_type": "stream",
     "text": [
      "[Parallel(n_jobs=1)]: Done   1 out of   1 | elapsed:    8.2s remaining:    0.0s\n"
     ]
    },
    {
     "name": "stdout",
     "output_type": "stream",
     "text": [
      "[CV] ................................................. , total=   7.8s\n",
      "[CV]  ................................................................\n",
      "[CV] ................................................. , total=   7.8s\n",
      "test score =  0.9484345536372824\n"
     ]
    },
    {
     "name": "stderr",
     "output_type": "stream",
     "text": [
      "[Parallel(n_jobs=1)]: Done   3 out of   3 | elapsed:   23.8s finished\n"
     ]
    },
    {
     "name": "stdout",
     "output_type": "stream",
     "text": [
      "[CV]  ................................................................\n",
      "[CV] ................................................. , total=   7.4s\n",
      "[CV]  ................................................................\n"
     ]
    },
    {
     "name": "stderr",
     "output_type": "stream",
     "text": [
      "[Parallel(n_jobs=1)]: Done   1 out of   1 | elapsed:    7.6s remaining:    0.0s\n"
     ]
    },
    {
     "name": "stdout",
     "output_type": "stream",
     "text": [
      "[CV] ................................................. , total=   6.0s\n",
      "[CV]  ................................................................\n",
      "[CV] ................................................. , total=   5.6s\n",
      "test score =  0.5084924741602892\n"
     ]
    },
    {
     "name": "stderr",
     "output_type": "stream",
     "text": [
      "[Parallel(n_jobs=1)]: Done   3 out of   3 | elapsed:   19.2s finished\n"
     ]
    },
    {
     "name": "stdout",
     "output_type": "stream",
     "text": [
      "[CV]  ................................................................\n",
      "[CV] ................................................. , total=   5.1s\n",
      "[CV]  ................................................................\n"
     ]
    },
    {
     "name": "stderr",
     "output_type": "stream",
     "text": [
      "[Parallel(n_jobs=1)]: Done   1 out of   1 | elapsed:    5.3s remaining:    0.0s\n"
     ]
    },
    {
     "name": "stdout",
     "output_type": "stream",
     "text": [
      "[CV] ................................................. , total=   5.1s\n",
      "[CV]  ................................................................\n",
      "[CV] ................................................. , total=   5.2s\n",
      "test score =  0.9232440019328193\n"
     ]
    },
    {
     "name": "stderr",
     "output_type": "stream",
     "text": [
      "[Parallel(n_jobs=1)]: Done   3 out of   3 | elapsed:   15.6s finished\n"
     ]
    },
    {
     "name": "stdout",
     "output_type": "stream",
     "text": [
      "[CV]  ................................................................\n",
      "[CV] ................................................. , total=   5.0s\n",
      "[CV]  ................................................................\n"
     ]
    },
    {
     "name": "stderr",
     "output_type": "stream",
     "text": [
      "[Parallel(n_jobs=1)]: Done   1 out of   1 | elapsed:    5.3s remaining:    0.0s\n"
     ]
    },
    {
     "name": "stdout",
     "output_type": "stream",
     "text": [
      "[CV] ................................................. , total=   5.0s\n",
      "[CV]  ................................................................\n",
      "[CV] ................................................. , total=   5.0s\n",
      "test score =  0.9403007390306063\n"
     ]
    },
    {
     "name": "stderr",
     "output_type": "stream",
     "text": [
      "[Parallel(n_jobs=1)]: Done   3 out of   3 | elapsed:   15.2s finished\n"
     ]
    },
    {
     "name": "stdout",
     "output_type": "stream",
     "text": [
      "[CV]  ................................................................\n",
      "[CV] ................................................. , total=   6.9s\n",
      "[CV]  ................................................................\n"
     ]
    },
    {
     "name": "stderr",
     "output_type": "stream",
     "text": [
      "[Parallel(n_jobs=1)]: Done   1 out of   1 | elapsed:    7.1s remaining:    0.0s\n"
     ]
    },
    {
     "name": "stdout",
     "output_type": "stream",
     "text": [
      "[CV] ................................................. , total=   7.0s\n",
      "[CV]  ................................................................\n",
      "[CV] ................................................. , total=   7.0s\n",
      "test score =  0.944981359081067\n"
     ]
    },
    {
     "name": "stderr",
     "output_type": "stream",
     "text": [
      "[Parallel(n_jobs=1)]: Done   3 out of   3 | elapsed:   21.1s finished\n"
     ]
    },
    {
     "name": "stdout",
     "output_type": "stream",
     "text": [
      "[CV]  ................................................................\n",
      "[CV] ................................................. , total=   9.8s\n",
      "[CV]  ................................................................\n"
     ]
    },
    {
     "name": "stderr",
     "output_type": "stream",
     "text": [
      "[Parallel(n_jobs=1)]: Done   1 out of   1 | elapsed:   10.0s remaining:    0.0s\n"
     ]
    },
    {
     "name": "stdout",
     "output_type": "stream",
     "text": [
      "[CV] ................................................. , total=  10.1s\n",
      "[CV]  ................................................................\n",
      "[CV] ................................................. , total=   9.8s\n",
      "test score =  0.9634002742166999\n"
     ]
    },
    {
     "name": "stderr",
     "output_type": "stream",
     "text": [
      "[Parallel(n_jobs=1)]: Done   3 out of   3 | elapsed:   29.9s finished\n"
     ]
    },
    {
     "name": "stdout",
     "output_type": "stream",
     "text": [
      "[CV]  ................................................................\n",
      "[CV] ................................................. , total=   9.2s\n",
      "[CV]  ................................................................\n"
     ]
    },
    {
     "name": "stderr",
     "output_type": "stream",
     "text": [
      "[Parallel(n_jobs=1)]: Done   1 out of   1 | elapsed:    9.4s remaining:    0.0s\n"
     ]
    },
    {
     "name": "stdout",
     "output_type": "stream",
     "text": [
      "[CV] ................................................. , total=   9.2s\n",
      "[CV]  ................................................................\n",
      "[CV] ................................................. , total=   9.0s\n",
      "test score =  0.9431691715058174\n"
     ]
    },
    {
     "name": "stderr",
     "output_type": "stream",
     "text": [
      "[Parallel(n_jobs=1)]: Done   3 out of   3 | elapsed:   27.6s finished\n"
     ]
    },
    {
     "name": "stdout",
     "output_type": "stream",
     "text": [
      "[CV]  ................................................................\n",
      "[CV] ................................................. , total=   8.7s\n",
      "[CV]  ................................................................\n"
     ]
    },
    {
     "name": "stderr",
     "output_type": "stream",
     "text": [
      "[Parallel(n_jobs=1)]: Done   1 out of   1 | elapsed:    8.9s remaining:    0.0s\n"
     ]
    },
    {
     "name": "stdout",
     "output_type": "stream",
     "text": [
      "[CV] ................................................. , total=   8.8s\n",
      "[CV]  ................................................................\n",
      "[CV] ................................................. , total=   8.9s\n",
      "test score =  0.9561083724546898\n"
     ]
    },
    {
     "name": "stderr",
     "output_type": "stream",
     "text": [
      "[Parallel(n_jobs=1)]: Done   3 out of   3 | elapsed:   26.7s finished\n"
     ]
    },
    {
     "name": "stdout",
     "output_type": "stream",
     "text": [
      "[CV]  ................................................................\n",
      "[CV] ................................................. , total=   9.5s\n",
      "[CV]  ................................................................\n"
     ]
    },
    {
     "name": "stderr",
     "output_type": "stream",
     "text": [
      "[Parallel(n_jobs=1)]: Done   1 out of   1 | elapsed:    9.8s remaining:    0.0s\n"
     ]
    },
    {
     "name": "stdout",
     "output_type": "stream",
     "text": [
      "[CV] ................................................. , total=   9.1s\n",
      "[CV]  ................................................................\n",
      "[CV] ................................................. , total=   7.1s\n",
      "test score =  0.9544302224859352\n"
     ]
    },
    {
     "name": "stderr",
     "output_type": "stream",
     "text": [
      "[Parallel(n_jobs=1)]: Done   3 out of   3 | elapsed:   26.0s finished\n"
     ]
    },
    {
     "name": "stdout",
     "output_type": "stream",
     "text": [
      "[CV]  ................................................................\n",
      "[CV] ................................................. , total=   8.2s\n",
      "[CV]  ................................................................\n"
     ]
    },
    {
     "name": "stderr",
     "output_type": "stream",
     "text": [
      "[Parallel(n_jobs=1)]: Done   1 out of   1 | elapsed:    8.4s remaining:    0.0s\n"
     ]
    },
    {
     "name": "stdout",
     "output_type": "stream",
     "text": [
      "[CV] ................................................. , total=   7.8s\n",
      "[CV]  ................................................................\n",
      "[CV] ................................................. , total=   7.7s\n",
      "test score =  0.944108134046468\n"
     ]
    },
    {
     "name": "stderr",
     "output_type": "stream",
     "text": [
      "[Parallel(n_jobs=1)]: Done   3 out of   3 | elapsed:   24.0s finished\n"
     ]
    },
    {
     "name": "stdout",
     "output_type": "stream",
     "text": [
      "[CV]  ................................................................\n",
      "[CV] ................................................. , total=  13.1s\n",
      "[CV]  ................................................................\n"
     ]
    },
    {
     "name": "stderr",
     "output_type": "stream",
     "text": [
      "[Parallel(n_jobs=1)]: Done   1 out of   1 | elapsed:   13.3s remaining:    0.0s\n"
     ]
    },
    {
     "name": "stdout",
     "output_type": "stream",
     "text": [
      "[CV] ................................................. , total=  10.5s\n",
      "[CV]  ................................................................\n",
      "[CV] ................................................. , total=  10.8s\n",
      "test score =  0.9643078257037886\n"
     ]
    },
    {
     "name": "stderr",
     "output_type": "stream",
     "text": [
      "[Parallel(n_jobs=1)]: Done   3 out of   3 | elapsed:   34.6s finished\n"
     ]
    },
    {
     "name": "stdout",
     "output_type": "stream",
     "text": [
      "[CV]  ................................................................\n",
      "[CV] ................................................. , total=  10.3s\n",
      "[CV]  ................................................................\n"
     ]
    },
    {
     "name": "stderr",
     "output_type": "stream",
     "text": [
      "[Parallel(n_jobs=1)]: Done   1 out of   1 | elapsed:   10.6s remaining:    0.0s\n"
     ]
    },
    {
     "name": "stdout",
     "output_type": "stream",
     "text": [
      "[CV] ................................................. , total=  10.0s\n",
      "[CV]  ................................................................\n",
      "[CV] ................................................. , total=  10.0s\n",
      "test score =  0.9635409705486015\n"
     ]
    },
    {
     "name": "stderr",
     "output_type": "stream",
     "text": [
      "[Parallel(n_jobs=1)]: Done   3 out of   3 | elapsed:   30.6s finished\n"
     ]
    },
    {
     "name": "stdout",
     "output_type": "stream",
     "text": [
      "[CV]  ................................................................\n",
      "[CV] ................................................. , total=   9.7s\n",
      "[CV]  ................................................................\n"
     ]
    },
    {
     "name": "stderr",
     "output_type": "stream",
     "text": [
      "[Parallel(n_jobs=1)]: Done   1 out of   1 | elapsed:    9.9s remaining:    0.0s\n"
     ]
    },
    {
     "name": "stdout",
     "output_type": "stream",
     "text": [
      "[CV] ................................................. , total=  10.3s\n",
      "[CV]  ................................................................\n",
      "[CV] ................................................. , total=   9.6s\n",
      "test score =  0.957330443963532\n"
     ]
    },
    {
     "name": "stderr",
     "output_type": "stream",
     "text": [
      "[Parallel(n_jobs=1)]: Done   3 out of   3 | elapsed:   29.8s finished\n"
     ]
    },
    {
     "name": "stdout",
     "output_type": "stream",
     "text": [
      "[CV]  ................................................................\n",
      "[CV] ................................................. , total=  10.4s\n",
      "[CV]  ................................................................\n"
     ]
    },
    {
     "name": "stderr",
     "output_type": "stream",
     "text": [
      "[Parallel(n_jobs=1)]: Done   1 out of   1 | elapsed:   10.6s remaining:    0.0s\n"
     ]
    },
    {
     "name": "stdout",
     "output_type": "stream",
     "text": [
      "[CV] ................................................. , total=  10.8s\n",
      "[CV]  ................................................................\n",
      "[CV] ................................................. , total=  11.0s\n",
      "test score =  0.9627705460698125\n"
     ]
    },
    {
     "name": "stderr",
     "output_type": "stream",
     "text": [
      "[Parallel(n_jobs=1)]: Done   3 out of   3 | elapsed:   32.4s finished\n"
     ]
    },
    {
     "name": "stdout",
     "output_type": "stream",
     "text": [
      "[CV]  ................................................................\n",
      "[CV] ................................................. , total=   6.2s\n",
      "[CV]  ................................................................\n"
     ]
    },
    {
     "name": "stderr",
     "output_type": "stream",
     "text": [
      "[Parallel(n_jobs=1)]: Done   1 out of   1 | elapsed:    6.4s remaining:    0.0s\n"
     ]
    },
    {
     "name": "stdout",
     "output_type": "stream",
     "text": [
      "[CV] ................................................. , total=   6.8s\n",
      "[CV]  ................................................................\n",
      "[CV] ................................................. , total=   5.1s\n",
      "test score =  0.4711383190671526\n"
     ]
    },
    {
     "name": "stderr",
     "output_type": "stream",
     "text": [
      "[Parallel(n_jobs=1)]: Done   3 out of   3 | elapsed:   18.3s finished\n"
     ]
    },
    {
     "name": "stdout",
     "output_type": "stream",
     "text": [
      "[CV]  ................................................................\n",
      "[CV] ................................................. , total=   9.1s\n",
      "[CV]  ................................................................\n"
     ]
    },
    {
     "name": "stderr",
     "output_type": "stream",
     "text": [
      "[Parallel(n_jobs=1)]: Done   1 out of   1 | elapsed:    9.3s remaining:    0.0s\n"
     ]
    },
    {
     "name": "stdout",
     "output_type": "stream",
     "text": [
      "[CV] ................................................. , total=   5.6s\n",
      "[CV]  ................................................................\n",
      "[CV] ................................................. , total=   5.0s\n",
      "test score =  0.08746408052201737\n"
     ]
    },
    {
     "name": "stderr",
     "output_type": "stream",
     "text": [
      "[Parallel(n_jobs=1)]: Done   3 out of   3 | elapsed:   19.9s finished\n"
     ]
    },
    {
     "name": "stdout",
     "output_type": "stream",
     "text": [
      "[CV]  ................................................................\n",
      "[CV] ................................................. , total=   9.8s\n",
      "[CV]  ................................................................\n"
     ]
    },
    {
     "name": "stderr",
     "output_type": "stream",
     "text": [
      "[Parallel(n_jobs=1)]: Done   1 out of   1 | elapsed:   10.0s remaining:    0.0s\n"
     ]
    },
    {
     "name": "stdout",
     "output_type": "stream",
     "text": [
      "[CV] ................................................. , total=  12.2s\n",
      "[CV]  ................................................................\n",
      "[CV] ................................................. , total=  10.6s\n",
      "test score =  0.9458547507735618\n"
     ]
    },
    {
     "name": "stderr",
     "output_type": "stream",
     "text": [
      "[Parallel(n_jobs=1)]: Done   3 out of   3 | elapsed:   32.8s finished\n"
     ]
    },
    {
     "name": "stdout",
     "output_type": "stream",
     "text": [
      "[CV]  ................................................................\n",
      "[CV] ................................................. , total=   8.2s\n",
      "[CV]  ................................................................\n"
     ]
    },
    {
     "name": "stderr",
     "output_type": "stream",
     "text": [
      "[Parallel(n_jobs=1)]: Done   1 out of   1 | elapsed:    8.4s remaining:    0.0s\n"
     ]
    },
    {
     "name": "stdout",
     "output_type": "stream",
     "text": [
      "[CV] ................................................. , total=   7.3s\n",
      "[CV]  ................................................................\n",
      "[CV] ................................................. , total=   7.7s\n",
      "test score =  0.9424694184828257\n"
     ]
    },
    {
     "name": "stderr",
     "output_type": "stream",
     "text": [
      "[Parallel(n_jobs=1)]: Done   3 out of   3 | elapsed:   23.3s finished\n"
     ]
    },
    {
     "name": "stdout",
     "output_type": "stream",
     "text": [
      "[CV]  ................................................................\n",
      "[CV] ................................................. , total=   3.5s\n",
      "[CV]  ................................................................\n"
     ]
    },
    {
     "name": "stderr",
     "output_type": "stream",
     "text": [
      "[Parallel(n_jobs=1)]: Done   1 out of   1 | elapsed:    3.7s remaining:    0.0s\n"
     ]
    },
    {
     "name": "stdout",
     "output_type": "stream",
     "text": [
      "[CV] ................................................. , total=   3.5s\n",
      "[CV]  ................................................................\n",
      "[CV] ................................................. , total=   3.6s\n",
      "test score =  0.8771210473941892\n"
     ]
    },
    {
     "name": "stderr",
     "output_type": "stream",
     "text": [
      "[Parallel(n_jobs=1)]: Done   3 out of   3 | elapsed:   10.9s finished\n"
     ]
    },
    {
     "name": "stdout",
     "output_type": "stream",
     "text": [
      "[CV]  ................................................................\n",
      "[CV] ................................................. , total=   8.4s\n",
      "[CV]  ................................................................\n"
     ]
    },
    {
     "name": "stderr",
     "output_type": "stream",
     "text": [
      "[Parallel(n_jobs=1)]: Done   1 out of   1 | elapsed:    8.7s remaining:    0.0s\n"
     ]
    },
    {
     "name": "stdout",
     "output_type": "stream",
     "text": [
      "[CV] ................................................. , total=   8.8s\n",
      "[CV]  ................................................................\n",
      "[CV] ................................................. , total=   8.3s\n",
      "test score =  0.9603312997138231\n"
     ]
    },
    {
     "name": "stderr",
     "output_type": "stream",
     "text": [
      "[Parallel(n_jobs=1)]: Done   3 out of   3 | elapsed:   25.8s finished\n"
     ]
    },
    {
     "name": "stdout",
     "output_type": "stream",
     "text": [
      "[CV]  ................................................................\n",
      "[CV] ................................................. , total=  10.5s\n",
      "[CV]  ................................................................\n"
     ]
    },
    {
     "name": "stderr",
     "output_type": "stream",
     "text": [
      "[Parallel(n_jobs=1)]: Done   1 out of   1 | elapsed:   10.7s remaining:    0.0s\n"
     ]
    },
    {
     "name": "stdout",
     "output_type": "stream",
     "text": [
      "[CV] ................................................. , total=   6.8s\n",
      "[CV]  ................................................................\n",
      "[CV] ................................................. , total=   9.2s\n",
      "test score =  0.738247497096141\n"
     ]
    },
    {
     "name": "stderr",
     "output_type": "stream",
     "text": [
      "[Parallel(n_jobs=1)]: Done   3 out of   3 | elapsed:   26.7s finished\n"
     ]
    },
    {
     "name": "stdout",
     "output_type": "stream",
     "text": [
      "[CV]  ................................................................\n",
      "[CV] ................................................. , total=  10.7s\n",
      "[CV]  ................................................................\n"
     ]
    },
    {
     "name": "stderr",
     "output_type": "stream",
     "text": [
      "[Parallel(n_jobs=1)]: Done   1 out of   1 | elapsed:   10.9s remaining:    0.0s\n"
     ]
    },
    {
     "name": "stdout",
     "output_type": "stream",
     "text": [
      "[CV] ................................................. , total=  10.7s\n",
      "[CV]  ................................................................\n",
      "[CV] ................................................. , total=  11.0s\n",
      "test score =  0.9573314043702724\n"
     ]
    },
    {
     "name": "stderr",
     "output_type": "stream",
     "text": [
      "[Parallel(n_jobs=1)]: Done   3 out of   3 | elapsed:   32.6s finished\n"
     ]
    },
    {
     "name": "stdout",
     "output_type": "stream",
     "text": [
      "[CV]  ................................................................\n",
      "[CV] ................................................. , total=   6.3s\n",
      "[CV]  ................................................................\n"
     ]
    },
    {
     "name": "stderr",
     "output_type": "stream",
     "text": [
      "[Parallel(n_jobs=1)]: Done   1 out of   1 | elapsed:    6.5s remaining:    0.0s\n"
     ]
    },
    {
     "name": "stdout",
     "output_type": "stream",
     "text": [
      "[CV] ................................................. , total=   5.4s\n",
      "[CV]  ................................................................\n",
      "[CV] ................................................. , total=   5.2s\n",
      "test score =  0.9454332820869703\n"
     ]
    },
    {
     "name": "stderr",
     "output_type": "stream",
     "text": [
      "[Parallel(n_jobs=1)]: Done   3 out of   3 | elapsed:   17.1s finished\n"
     ]
    },
    {
     "name": "stdout",
     "output_type": "stream",
     "text": [
      "[CV]  ................................................................\n",
      "[CV] ................................................. , total=   8.0s\n",
      "[CV]  ................................................................\n"
     ]
    },
    {
     "name": "stderr",
     "output_type": "stream",
     "text": [
      "[Parallel(n_jobs=1)]: Done   1 out of   1 | elapsed:    8.2s remaining:    0.0s\n"
     ]
    },
    {
     "name": "stdout",
     "output_type": "stream",
     "text": [
      "[CV] ................................................. , total=   7.9s\n",
      "[CV]  ................................................................\n",
      "[CV] ................................................. , total=   9.0s\n",
      "test score =  0.9513306990357542\n"
     ]
    },
    {
     "name": "stderr",
     "output_type": "stream",
     "text": [
      "[Parallel(n_jobs=1)]: Done   3 out of   3 | elapsed:   25.1s finished\n"
     ]
    },
    {
     "name": "stdout",
     "output_type": "stream",
     "text": [
      "[CV]  ................................................................\n",
      "[CV] ................................................. , total=   9.3s\n",
      "[CV]  ................................................................\n"
     ]
    },
    {
     "name": "stderr",
     "output_type": "stream",
     "text": [
      "[Parallel(n_jobs=1)]: Done   1 out of   1 | elapsed:    9.5s remaining:    0.0s\n"
     ]
    },
    {
     "name": "stdout",
     "output_type": "stream",
     "text": [
      "[CV] ................................................. , total=   9.4s\n",
      "[CV]  ................................................................\n",
      "[CV] ................................................. , total=  10.6s\n",
      "test score =  0.9593555006674501\n"
     ]
    },
    {
     "name": "stderr",
     "output_type": "stream",
     "text": [
      "[Parallel(n_jobs=1)]: Done   3 out of   3 | elapsed:   29.5s finished\n"
     ]
    },
    {
     "name": "stdout",
     "output_type": "stream",
     "text": [
      "[CV]  ................................................................\n",
      "[CV] ................................................. , total=   8.1s\n",
      "[CV]  ................................................................\n"
     ]
    },
    {
     "name": "stderr",
     "output_type": "stream",
     "text": [
      "[Parallel(n_jobs=1)]: Done   1 out of   1 | elapsed:    8.4s remaining:    0.0s\n"
     ]
    },
    {
     "name": "stdout",
     "output_type": "stream",
     "text": [
      "[CV] ................................................. , total=   6.9s\n",
      "[CV]  ................................................................\n",
      "[CV] ................................................. , total=   7.0s\n",
      "test score =  0.9280898135930848\n"
     ]
    },
    {
     "name": "stderr",
     "output_type": "stream",
     "text": [
      "[Parallel(n_jobs=1)]: Done   3 out of   3 | elapsed:   22.2s finished\n"
     ]
    },
    {
     "name": "stdout",
     "output_type": "stream",
     "text": [
      "[CV]  ................................................................\n",
      "[CV] ................................................. , total=  10.0s\n",
      "[CV]  ................................................................\n"
     ]
    },
    {
     "name": "stderr",
     "output_type": "stream",
     "text": [
      "[Parallel(n_jobs=1)]: Done   1 out of   1 | elapsed:   10.2s remaining:    0.0s\n"
     ]
    },
    {
     "name": "stdout",
     "output_type": "stream",
     "text": [
      "[CV] ................................................. , total=   9.3s\n",
      "[CV]  ................................................................\n",
      "[CV] ................................................. , total=   9.3s\n",
      "test score =  0.9622495207433484\n"
     ]
    },
    {
     "name": "stderr",
     "output_type": "stream",
     "text": [
      "[Parallel(n_jobs=1)]: Done   3 out of   3 | elapsed:   28.8s finished\n"
     ]
    },
    {
     "name": "stdout",
     "output_type": "stream",
     "text": [
      "[CV]  ................................................................\n",
      "[CV] ................................................. , total=   9.1s\n",
      "[CV]  ................................................................\n"
     ]
    },
    {
     "name": "stderr",
     "output_type": "stream",
     "text": [
      "[Parallel(n_jobs=1)]: Done   1 out of   1 | elapsed:    9.3s remaining:    0.0s\n"
     ]
    },
    {
     "name": "stdout",
     "output_type": "stream",
     "text": [
      "[CV] ................................................. , total=   9.2s\n",
      "[CV]  ................................................................\n",
      "[CV] ................................................. , total=  10.5s\n",
      "test score =  0.9635070226080815\n"
     ]
    },
    {
     "name": "stderr",
     "output_type": "stream",
     "text": [
      "[Parallel(n_jobs=1)]: Done   3 out of   3 | elapsed:   29.0s finished\n"
     ]
    },
    {
     "name": "stdout",
     "output_type": "stream",
     "text": [
      "[CV]  ................................................................\n",
      "[CV] ................................................. , total=  11.7s\n",
      "[CV]  ................................................................\n"
     ]
    },
    {
     "name": "stderr",
     "output_type": "stream",
     "text": [
      "[Parallel(n_jobs=1)]: Done   1 out of   1 | elapsed:   11.9s remaining:    0.0s\n"
     ]
    },
    {
     "name": "stdout",
     "output_type": "stream",
     "text": [
      "[CV] ................................................. , total=  11.1s\n",
      "[CV]  ................................................................\n",
      "[CV] ................................................. , total=  10.6s\n",
      "test score =  0.9608569756692019\n"
     ]
    },
    {
     "name": "stderr",
     "output_type": "stream",
     "text": [
      "[Parallel(n_jobs=1)]: Done   3 out of   3 | elapsed:   33.6s finished\n"
     ]
    },
    {
     "name": "stdout",
     "output_type": "stream",
     "text": [
      "[CV]  ................................................................\n",
      "[CV] ................................................. , total=  10.6s\n",
      "[CV]  ................................................................\n"
     ]
    },
    {
     "name": "stderr",
     "output_type": "stream",
     "text": [
      "[Parallel(n_jobs=1)]: Done   1 out of   1 | elapsed:   10.8s remaining:    0.0s\n"
     ]
    },
    {
     "name": "stdout",
     "output_type": "stream",
     "text": [
      "[CV] ................................................. , total=  10.4s\n",
      "[CV]  ................................................................\n",
      "[CV] ................................................. , total=  11.5s\n",
      "test score =  0.9641005266502333\n"
     ]
    },
    {
     "name": "stderr",
     "output_type": "stream",
     "text": [
      "[Parallel(n_jobs=1)]: Done   3 out of   3 | elapsed:   32.7s finished\n"
     ]
    },
    {
     "name": "stdout",
     "output_type": "stream",
     "text": [
      "[CV]  ................................................................\n",
      "[CV] ................................................. , total=  10.1s\n",
      "[CV]  ................................................................\n"
     ]
    },
    {
     "name": "stderr",
     "output_type": "stream",
     "text": [
      "[Parallel(n_jobs=1)]: Done   1 out of   1 | elapsed:   10.3s remaining:    0.0s\n"
     ]
    },
    {
     "name": "stdout",
     "output_type": "stream",
     "text": [
      "[CV] ................................................. , total=   9.5s\n",
      "[CV]  ................................................................\n",
      "[CV] ................................................. , total=  10.1s\n",
      "test score =  0.9617615323824782\n"
     ]
    },
    {
     "name": "stderr",
     "output_type": "stream",
     "text": [
      "[Parallel(n_jobs=1)]: Done   3 out of   3 | elapsed:   29.9s finished\n"
     ]
    },
    {
     "name": "stdout",
     "output_type": "stream",
     "text": [
      "[CV]  ................................................................\n",
      "[CV] ................................................. , total=   9.7s\n",
      "[CV]  ................................................................\n"
     ]
    },
    {
     "name": "stderr",
     "output_type": "stream",
     "text": [
      "[Parallel(n_jobs=1)]: Done   1 out of   1 | elapsed:    9.9s remaining:    0.0s\n"
     ]
    },
    {
     "name": "stdout",
     "output_type": "stream",
     "text": [
      "[CV] ................................................. , total=  10.0s\n",
      "[CV]  ................................................................\n",
      "[CV] ................................................. , total=   9.9s\n",
      "test score =  0.9611696994485368\n"
     ]
    },
    {
     "name": "stderr",
     "output_type": "stream",
     "text": [
      "[Parallel(n_jobs=1)]: Done   3 out of   3 | elapsed:   29.8s finished\n"
     ]
    },
    {
     "name": "stdout",
     "output_type": "stream",
     "text": [
      "[CV]  ................................................................\n",
      "[CV] ................................................. , total=  11.6s\n",
      "[CV]  ................................................................\n"
     ]
    },
    {
     "name": "stderr",
     "output_type": "stream",
     "text": [
      "[Parallel(n_jobs=1)]: Done   1 out of   1 | elapsed:   11.8s remaining:    0.0s\n"
     ]
    },
    {
     "name": "stdout",
     "output_type": "stream",
     "text": [
      "[CV] ................................................. , total=  12.5s\n",
      "[CV]  ................................................................\n",
      "[CV] ................................................. , total=  12.0s\n",
      "test score =  0.9649726856326276\n"
     ]
    },
    {
     "name": "stderr",
     "output_type": "stream",
     "text": [
      "[Parallel(n_jobs=1)]: Done   3 out of   3 | elapsed:   36.4s finished\n"
     ]
    },
    {
     "name": "stdout",
     "output_type": "stream",
     "text": [
      "[CV]  ................................................................\n",
      "[CV] ................................................. , total=   8.9s\n",
      "[CV]  ................................................................\n"
     ]
    },
    {
     "name": "stderr",
     "output_type": "stream",
     "text": [
      "[Parallel(n_jobs=1)]: Done   1 out of   1 | elapsed:    9.1s remaining:    0.0s\n"
     ]
    },
    {
     "name": "stdout",
     "output_type": "stream",
     "text": [
      "[CV] ................................................. , total=   8.2s\n",
      "[CV]  ................................................................\n",
      "[CV] ................................................. , total=   8.2s\n",
      "test score =  0.9595286851225898\n"
     ]
    },
    {
     "name": "stderr",
     "output_type": "stream",
     "text": [
      "[Parallel(n_jobs=1)]: Done   3 out of   3 | elapsed:   25.5s finished\n"
     ]
    },
    {
     "name": "stdout",
     "output_type": "stream",
     "text": [
      "[CV]  ................................................................\n",
      "[CV] ................................................. , total=   9.9s\n",
      "[CV]  ................................................................\n"
     ]
    },
    {
     "name": "stderr",
     "output_type": "stream",
     "text": [
      "[Parallel(n_jobs=1)]: Done   1 out of   1 | elapsed:   10.1s remaining:    0.0s\n"
     ]
    },
    {
     "name": "stdout",
     "output_type": "stream",
     "text": [
      "[CV] ................................................. , total=  10.4s\n",
      "[CV]  ................................................................\n",
      "[CV] ................................................. , total=   9.8s\n",
      "test score =  0.9607133828639708\n"
     ]
    },
    {
     "name": "stderr",
     "output_type": "stream",
     "text": [
      "[Parallel(n_jobs=1)]: Done   3 out of   3 | elapsed:   30.4s finished\n"
     ]
    },
    {
     "name": "stdout",
     "output_type": "stream",
     "text": [
      "[CV]  ................................................................\n",
      "[CV] ................................................. , total=  10.4s\n",
      "[CV]  ................................................................\n"
     ]
    },
    {
     "name": "stderr",
     "output_type": "stream",
     "text": [
      "[Parallel(n_jobs=1)]: Done   1 out of   1 | elapsed:   10.6s remaining:    0.0s\n"
     ]
    },
    {
     "name": "stdout",
     "output_type": "stream",
     "text": [
      "[CV] ................................................. , total=  10.5s\n",
      "[CV]  ................................................................\n",
      "[CV] ................................................. , total=  10.7s\n",
      "test score =  0.9643095651694115\n"
     ]
    },
    {
     "name": "stderr",
     "output_type": "stream",
     "text": [
      "[Parallel(n_jobs=1)]: Done   3 out of   3 | elapsed:   31.8s finished\n"
     ]
    },
    {
     "name": "stdout",
     "output_type": "stream",
     "text": [
      "[CV]  ................................................................\n",
      "[CV] ................................................. , total=  10.5s\n",
      "[CV]  ................................................................\n"
     ]
    },
    {
     "name": "stderr",
     "output_type": "stream",
     "text": [
      "[Parallel(n_jobs=1)]: Done   1 out of   1 | elapsed:   10.7s remaining:    0.0s\n"
     ]
    },
    {
     "name": "stdout",
     "output_type": "stream",
     "text": [
      "[CV] ................................................. , total=  11.3s\n",
      "[CV]  ................................................................\n",
      "[CV] ................................................. , total=  10.6s\n",
      "test score =  0.9609926617858178\n"
     ]
    },
    {
     "name": "stderr",
     "output_type": "stream",
     "text": [
      "[Parallel(n_jobs=1)]: Done   3 out of   3 | elapsed:   32.7s finished\n"
     ]
    },
    {
     "name": "stdout",
     "output_type": "stream",
     "text": [
      "[CV]  ................................................................\n",
      "[CV] ................................................. , total=  10.2s\n",
      "[CV]  ................................................................\n"
     ]
    },
    {
     "name": "stderr",
     "output_type": "stream",
     "text": [
      "[Parallel(n_jobs=1)]: Done   1 out of   1 | elapsed:   10.4s remaining:    0.0s\n"
     ]
    },
    {
     "name": "stdout",
     "output_type": "stream",
     "text": [
      "[CV] ................................................. , total=   9.8s\n",
      "[CV]  ................................................................\n",
      "[CV] ................................................. , total=   9.8s\n",
      "test score =  0.9577483207284323\n"
     ]
    },
    {
     "name": "stderr",
     "output_type": "stream",
     "text": [
      "[Parallel(n_jobs=1)]: Done   3 out of   3 | elapsed:   30.0s finished\n"
     ]
    },
    {
     "name": "stdout",
     "output_type": "stream",
     "text": [
      "[CV]  ................................................................\n",
      "[CV] ................................................. , total=   3.2s\n",
      "[CV]  ................................................................\n"
     ]
    },
    {
     "name": "stderr",
     "output_type": "stream",
     "text": [
      "[Parallel(n_jobs=1)]: Done   1 out of   1 | elapsed:    3.4s remaining:    0.0s\n"
     ]
    },
    {
     "name": "stdout",
     "output_type": "stream",
     "text": [
      "[CV] ................................................. , total=   3.2s\n",
      "[CV]  ................................................................\n",
      "[CV] ................................................. , total=   3.1s\n",
      "test score =  0.9464079241256368\n"
     ]
    },
    {
     "name": "stderr",
     "output_type": "stream",
     "text": [
      "[Parallel(n_jobs=1)]: Done   3 out of   3 | elapsed:    9.7s finished\n"
     ]
    },
    {
     "name": "stdout",
     "output_type": "stream",
     "text": [
      "[CV]  ................................................................\n",
      "[CV] ................................................. , total=   8.7s\n",
      "[CV]  ................................................................\n"
     ]
    },
    {
     "name": "stderr",
     "output_type": "stream",
     "text": [
      "[Parallel(n_jobs=1)]: Done   1 out of   1 | elapsed:    9.0s remaining:    0.0s\n"
     ]
    },
    {
     "name": "stdout",
     "output_type": "stream",
     "text": [
      "[CV] ................................................. , total=   8.8s\n",
      "[CV]  ................................................................\n",
      "[CV] ................................................. , total=   9.7s\n",
      "test score =  0.958621171486698\n"
     ]
    },
    {
     "name": "stderr",
     "output_type": "stream",
     "text": [
      "[Parallel(n_jobs=1)]: Done   3 out of   3 | elapsed:   27.5s finished\n"
     ]
    },
    {
     "name": "stdout",
     "output_type": "stream",
     "text": [
      "[CV]  ................................................................\n",
      "[CV] ................................................. , total=   9.4s\n",
      "[CV]  ................................................................\n"
     ]
    },
    {
     "name": "stderr",
     "output_type": "stream",
     "text": [
      "[Parallel(n_jobs=1)]: Done   1 out of   1 | elapsed:    9.6s remaining:    0.0s\n"
     ]
    },
    {
     "name": "stdout",
     "output_type": "stream",
     "text": [
      "[CV] ................................................. , total=   9.4s\n",
      "[CV]  ................................................................\n",
      "[CV] ................................................. , total=   9.2s\n",
      "test score =  0.9624598866006195\n"
     ]
    },
    {
     "name": "stderr",
     "output_type": "stream",
     "text": [
      "[Parallel(n_jobs=1)]: Done   3 out of   3 | elapsed:   28.2s finished\n"
     ]
    },
    {
     "name": "stdout",
     "output_type": "stream",
     "text": [
      "[CV]  ................................................................\n",
      "[CV] ................................................. , total=   9.8s\n",
      "[CV]  ................................................................\n"
     ]
    },
    {
     "name": "stderr",
     "output_type": "stream",
     "text": [
      "[Parallel(n_jobs=1)]: Done   1 out of   1 | elapsed:   10.0s remaining:    0.0s\n"
     ]
    },
    {
     "name": "stdout",
     "output_type": "stream",
     "text": [
      "[CV] ................................................. , total=   9.5s\n",
      "[CV]  ................................................................\n",
      "[CV] ................................................. , total=   9.7s\n",
      "test score =  0.9591100182813354\n"
     ]
    },
    {
     "name": "stderr",
     "output_type": "stream",
     "text": [
      "[Parallel(n_jobs=1)]: Done   3 out of   3 | elapsed:   29.3s finished\n"
     ]
    },
    {
     "name": "stdout",
     "output_type": "stream",
     "text": [
      "[CV]  ................................................................\n",
      "[CV] ................................................. , total=   8.4s\n",
      "[CV]  ................................................................\n"
     ]
    },
    {
     "name": "stderr",
     "output_type": "stream",
     "text": [
      "[Parallel(n_jobs=1)]: Done   1 out of   1 | elapsed:    8.6s remaining:    0.0s\n"
     ]
    },
    {
     "name": "stdout",
     "output_type": "stream",
     "text": [
      "[CV] ................................................. , total=   8.4s\n",
      "[CV]  ................................................................\n",
      "[CV] ................................................. , total=   8.8s\n",
      "test score =  0.9573974703933333\n"
     ]
    },
    {
     "name": "stderr",
     "output_type": "stream",
     "text": [
      "[Parallel(n_jobs=1)]: Done   3 out of   3 | elapsed:   25.8s finished\n"
     ]
    },
    {
     "name": "stdout",
     "output_type": "stream",
     "text": [
      "[CV]  ................................................................\n",
      "[CV] ................................................. , total=  10.9s\n",
      "[CV]  ................................................................\n"
     ]
    },
    {
     "name": "stderr",
     "output_type": "stream",
     "text": [
      "[Parallel(n_jobs=1)]: Done   1 out of   1 | elapsed:   11.1s remaining:    0.0s\n"
     ]
    },
    {
     "name": "stdout",
     "output_type": "stream",
     "text": [
      "[CV] ................................................. , total=  10.8s\n",
      "[CV]  ................................................................\n",
      "[CV] ................................................. , total=  10.3s\n",
      "test score =  0.9642031458581851\n"
     ]
    },
    {
     "name": "stderr",
     "output_type": "stream",
     "text": [
      "[Parallel(n_jobs=1)]: Done   3 out of   3 | elapsed:   32.1s finished\n"
     ]
    },
    {
     "name": "stdout",
     "output_type": "stream",
     "text": [
      "[CV]  ................................................................\n",
      "[CV] ................................................. , total=  10.5s\n",
      "[CV]  ................................................................\n"
     ]
    },
    {
     "name": "stderr",
     "output_type": "stream",
     "text": [
      "[Parallel(n_jobs=1)]: Done   1 out of   1 | elapsed:   10.7s remaining:    0.0s\n"
     ]
    },
    {
     "name": "stdout",
     "output_type": "stream",
     "text": [
      "[CV] ................................................. , total=  10.0s\n",
      "[CV]  ................................................................\n",
      "[CV] ................................................. , total=   9.5s\n",
      "test score =  0.9636090746112248\n"
     ]
    },
    {
     "name": "stderr",
     "output_type": "stream",
     "text": [
      "[Parallel(n_jobs=1)]: Done   3 out of   3 | elapsed:   30.3s finished\n"
     ]
    },
    {
     "name": "stdout",
     "output_type": "stream",
     "text": [
      "[CV]  ................................................................\n",
      "[CV] ................................................. , total=   8.6s\n",
      "[CV]  ................................................................\n"
     ]
    },
    {
     "name": "stderr",
     "output_type": "stream",
     "text": [
      "[Parallel(n_jobs=1)]: Done   1 out of   1 | elapsed:    8.8s remaining:    0.0s\n"
     ]
    },
    {
     "name": "stdout",
     "output_type": "stream",
     "text": [
      "[CV] ................................................. , total=   8.9s\n",
      "[CV]  ................................................................\n",
      "[CV] ................................................. , total=   8.4s\n",
      "test score =  0.9586198746548212\n"
     ]
    },
    {
     "name": "stderr",
     "output_type": "stream",
     "text": [
      "[Parallel(n_jobs=1)]: Done   3 out of   3 | elapsed:   26.2s finished\n"
     ]
    },
    {
     "name": "stdout",
     "output_type": "stream",
     "text": [
      "[CV]  ................................................................\n",
      "[CV] ................................................. , total=   8.5s\n",
      "[CV]  ................................................................\n"
     ]
    },
    {
     "name": "stderr",
     "output_type": "stream",
     "text": [
      "[Parallel(n_jobs=1)]: Done   1 out of   1 | elapsed:    8.7s remaining:    0.0s\n"
     ]
    },
    {
     "name": "stdout",
     "output_type": "stream",
     "text": [
      "[CV] ................................................. , total=   8.4s\n",
      "[CV]  ................................................................\n",
      "[CV] ................................................. , total=   8.9s\n",
      "test score =  0.9533180413114387\n"
     ]
    },
    {
     "name": "stderr",
     "output_type": "stream",
     "text": [
      "[Parallel(n_jobs=1)]: Done   3 out of   3 | elapsed:   26.0s finished\n"
     ]
    },
    {
     "name": "stdout",
     "output_type": "stream",
     "text": [
      "[CV]  ................................................................\n",
      "[CV] ................................................. , total=  10.4s\n",
      "[CV]  ................................................................\n"
     ]
    },
    {
     "name": "stderr",
     "output_type": "stream",
     "text": [
      "[Parallel(n_jobs=1)]: Done   1 out of   1 | elapsed:   10.7s remaining:    0.0s\n"
     ]
    },
    {
     "name": "stdout",
     "output_type": "stream",
     "text": [
      "[CV] ................................................. , total=  10.8s\n",
      "[CV]  ................................................................\n",
      "[CV] ................................................. , total=  12.3s\n",
      "test score =  0.9622505153287954\n"
     ]
    },
    {
     "name": "stderr",
     "output_type": "stream",
     "text": [
      "[Parallel(n_jobs=1)]: Done   3 out of   3 | elapsed:   33.8s finished\n"
     ]
    },
    {
     "name": "stdout",
     "output_type": "stream",
     "text": [
      "[CV]  ................................................................\n",
      "[CV] ................................................. , total=   7.0s\n",
      "[CV]  ................................................................\n"
     ]
    },
    {
     "name": "stderr",
     "output_type": "stream",
     "text": [
      "[Parallel(n_jobs=1)]: Done   1 out of   1 | elapsed:    7.2s remaining:    0.0s\n"
     ]
    },
    {
     "name": "stdout",
     "output_type": "stream",
     "text": [
      "[CV] ................................................. , total=   3.8s\n",
      "[CV]  ................................................................\n",
      "[CV] ................................................. , total=   3.8s\n",
      "test score =  0.11470308756271395\n"
     ]
    },
    {
     "name": "stderr",
     "output_type": "stream",
     "text": [
      "[Parallel(n_jobs=1)]: Done   3 out of   3 | elapsed:   14.8s finished\n"
     ]
    },
    {
     "name": "stdout",
     "output_type": "stream",
     "text": [
      "[CV]  ................................................................\n",
      "[CV] ................................................. , total=   9.9s\n",
      "[CV]  ................................................................\n"
     ]
    },
    {
     "name": "stderr",
     "output_type": "stream",
     "text": [
      "[Parallel(n_jobs=1)]: Done   1 out of   1 | elapsed:   10.1s remaining:    0.0s\n"
     ]
    },
    {
     "name": "stdout",
     "output_type": "stream",
     "text": [
      "[CV] ................................................. , total=  10.4s\n",
      "[CV]  ................................................................\n",
      "[CV] ................................................. , total=   9.7s\n",
      "test score =  0.9627391691949572\n"
     ]
    },
    {
     "name": "stderr",
     "output_type": "stream",
     "text": [
      "[Parallel(n_jobs=1)]: Done   3 out of   3 | elapsed:   30.2s finished\n"
     ]
    },
    {
     "name": "stdout",
     "output_type": "stream",
     "text": [
      "[CV]  ................................................................\n",
      "[CV] ................................................. , total=   4.6s\n",
      "[CV]  ................................................................\n"
     ]
    },
    {
     "name": "stderr",
     "output_type": "stream",
     "text": [
      "[Parallel(n_jobs=1)]: Done   1 out of   1 | elapsed:    4.8s remaining:    0.0s\n"
     ]
    },
    {
     "name": "stdout",
     "output_type": "stream",
     "text": [
      "[CV] ................................................. , total=   4.4s\n",
      "[CV]  ................................................................\n",
      "[CV] ................................................. , total=   4.5s\n",
      "test score =  0.9289961055363478\n"
     ]
    },
    {
     "name": "stderr",
     "output_type": "stream",
     "text": [
      "[Parallel(n_jobs=1)]: Done   3 out of   3 | elapsed:   13.8s finished\n"
     ]
    },
    {
     "name": "stdout",
     "output_type": "stream",
     "text": [
      "[CV]  ................................................................\n",
      "[CV] ................................................. , total=   4.5s\n",
      "[CV]  ................................................................\n"
     ]
    },
    {
     "name": "stderr",
     "output_type": "stream",
     "text": [
      "[Parallel(n_jobs=1)]: Done   1 out of   1 | elapsed:    4.8s remaining:    0.0s\n"
     ]
    },
    {
     "name": "stdout",
     "output_type": "stream",
     "text": [
      "[CV] ................................................. , total=   4.2s\n",
      "[CV]  ................................................................\n",
      "[CV] ................................................. , total=   5.8s\n",
      "test score =  0.23063164805210937\n"
     ]
    },
    {
     "name": "stderr",
     "output_type": "stream",
     "text": [
      "[Parallel(n_jobs=1)]: Done   3 out of   3 | elapsed:   14.7s finished\n"
     ]
    },
    {
     "name": "stdout",
     "output_type": "stream",
     "text": [
      "[CV]  ................................................................\n",
      "[CV] ................................................. , total=   9.2s\n",
      "[CV]  ................................................................\n"
     ]
    },
    {
     "name": "stderr",
     "output_type": "stream",
     "text": [
      "[Parallel(n_jobs=1)]: Done   1 out of   1 | elapsed:    9.4s remaining:    0.0s\n"
     ]
    },
    {
     "name": "stdout",
     "output_type": "stream",
     "text": [
      "[CV] ................................................. , total=   9.1s\n",
      "[CV]  ................................................................\n",
      "[CV] ................................................. , total=   9.4s\n",
      "test score =  0.9600522363185405\n"
     ]
    },
    {
     "name": "stderr",
     "output_type": "stream",
     "text": [
      "[Parallel(n_jobs=1)]: Done   3 out of   3 | elapsed:   27.9s finished\n"
     ]
    },
    {
     "name": "stdout",
     "output_type": "stream",
     "text": [
      "[CV]  ................................................................\n",
      "[CV] ................................................. , total=   9.9s\n",
      "[CV]  ................................................................\n"
     ]
    },
    {
     "name": "stderr",
     "output_type": "stream",
     "text": [
      "[Parallel(n_jobs=1)]: Done   1 out of   1 | elapsed:   10.2s remaining:    0.0s\n"
     ]
    },
    {
     "name": "stdout",
     "output_type": "stream",
     "text": [
      "[CV] ................................................. , total=  10.0s\n",
      "[CV]  ................................................................\n",
      "[CV] ................................................. , total=  10.3s\n",
      "test score =  0.9643079997066654\n"
     ]
    },
    {
     "name": "stderr",
     "output_type": "stream",
     "text": [
      "[Parallel(n_jobs=1)]: Done   3 out of   3 | elapsed:   30.5s finished\n"
     ]
    },
    {
     "name": "stdout",
     "output_type": "stream",
     "text": [
      "[CV]  ................................................................\n",
      "[CV] ................................................. , total=   7.5s\n",
      "[CV]  ................................................................\n"
     ]
    },
    {
     "name": "stderr",
     "output_type": "stream",
     "text": [
      "[Parallel(n_jobs=1)]: Done   1 out of   1 | elapsed:    7.7s remaining:    0.0s\n"
     ]
    },
    {
     "name": "stdout",
     "output_type": "stream",
     "text": [
      "[CV] ................................................. , total=   7.5s\n",
      "[CV]  ................................................................\n",
      "[CV] ................................................. , total=   5.8s\n",
      "test score =  0.7203278512293817\n"
     ]
    },
    {
     "name": "stderr",
     "output_type": "stream",
     "text": [
      "[Parallel(n_jobs=1)]: Done   3 out of   3 | elapsed:   21.0s finished\n"
     ]
    },
    {
     "name": "stdout",
     "output_type": "stream",
     "text": [
      "[CV]  ................................................................\n",
      "[CV] ................................................. , total=   9.8s\n",
      "[CV]  ................................................................\n"
     ]
    },
    {
     "name": "stderr",
     "output_type": "stream",
     "text": [
      "[Parallel(n_jobs=1)]: Done   1 out of   1 | elapsed:   10.0s remaining:    0.0s\n"
     ]
    },
    {
     "name": "stdout",
     "output_type": "stream",
     "text": [
      "[CV] ................................................. , total=   9.8s\n",
      "[CV]  ................................................................\n",
      "[CV] ................................................. , total=   9.8s\n",
      "test score =  0.9579925814219186\n"
     ]
    },
    {
     "name": "stderr",
     "output_type": "stream",
     "text": [
      "[Parallel(n_jobs=1)]: Done   3 out of   3 | elapsed:   29.6s finished\n"
     ]
    },
    {
     "name": "stdout",
     "output_type": "stream",
     "text": [
      "[CV]  ................................................................\n",
      "[CV] ................................................. , total=   8.7s\n",
      "[CV]  ................................................................\n"
     ]
    },
    {
     "name": "stderr",
     "output_type": "stream",
     "text": [
      "[Parallel(n_jobs=1)]: Done   1 out of   1 | elapsed:    8.9s remaining:    0.0s\n"
     ]
    },
    {
     "name": "stdout",
     "output_type": "stream",
     "text": [
      "[CV] ................................................. , total=   8.8s\n",
      "[CV]  ................................................................\n",
      "[CV] ................................................. , total=   8.7s\n",
      "test score =  0.9465154741739901\n"
     ]
    },
    {
     "name": "stderr",
     "output_type": "stream",
     "text": [
      "[Parallel(n_jobs=1)]: Done   3 out of   3 | elapsed:   26.4s finished\n"
     ]
    },
    {
     "name": "stdout",
     "output_type": "stream",
     "text": [
      "[CV]  ................................................................\n",
      "[CV] ................................................. , total=   3.2s\n",
      "[CV]  ................................................................\n"
     ]
    },
    {
     "name": "stderr",
     "output_type": "stream",
     "text": [
      "[Parallel(n_jobs=1)]: Done   1 out of   1 | elapsed:    3.4s remaining:    0.0s\n"
     ]
    },
    {
     "name": "stdout",
     "output_type": "stream",
     "text": [
      "[CV] ................................................. , total=   3.2s\n",
      "[CV]  ................................................................\n",
      "[CV] ................................................. , total=   3.2s\n",
      "test score =  0.9248114031334614\n"
     ]
    },
    {
     "name": "stderr",
     "output_type": "stream",
     "text": [
      "[Parallel(n_jobs=1)]: Done   3 out of   3 | elapsed:    9.8s finished\n"
     ]
    },
    {
     "name": "stdout",
     "output_type": "stream",
     "text": [
      "[CV]  ................................................................\n",
      "[CV] ................................................. , total=   7.5s\n",
      "[CV]  ................................................................\n"
     ]
    },
    {
     "name": "stderr",
     "output_type": "stream",
     "text": [
      "[Parallel(n_jobs=1)]: Done   1 out of   1 | elapsed:    7.7s remaining:    0.0s\n"
     ]
    },
    {
     "name": "stdout",
     "output_type": "stream",
     "text": [
      "[CV] ................................................. , total=   7.6s\n",
      "[CV]  ................................................................\n",
      "[CV] ................................................. , total=   7.2s\n",
      "test score =  0.9463729400759825\n"
     ]
    },
    {
     "name": "stderr",
     "output_type": "stream",
     "text": [
      "[Parallel(n_jobs=1)]: Done   3 out of   3 | elapsed:   22.6s finished\n"
     ]
    },
    {
     "name": "stdout",
     "output_type": "stream",
     "text": [
      "[CV]  ................................................................\n",
      "[CV] ................................................. , total=   9.0s\n",
      "[CV]  ................................................................\n"
     ]
    },
    {
     "name": "stderr",
     "output_type": "stream",
     "text": [
      "[Parallel(n_jobs=1)]: Done   1 out of   1 | elapsed:    9.2s remaining:    0.0s\n"
     ]
    },
    {
     "name": "stdout",
     "output_type": "stream",
     "text": [
      "[CV] ................................................. , total=   8.8s\n",
      "[CV]  ................................................................\n",
      "[CV] ................................................. , total=   8.9s\n",
      "test score =  0.9624610020846385\n"
     ]
    },
    {
     "name": "stderr",
     "output_type": "stream",
     "text": [
      "[Parallel(n_jobs=1)]: Done   3 out of   3 | elapsed:   27.0s finished\n"
     ]
    },
    {
     "name": "stdout",
     "output_type": "stream",
     "text": [
      "[CV]  ................................................................\n",
      "[CV] ................................................. , total=   5.3s\n",
      "[CV]  ................................................................\n"
     ]
    },
    {
     "name": "stderr",
     "output_type": "stream",
     "text": [
      "[Parallel(n_jobs=1)]: Done   1 out of   1 | elapsed:    5.6s remaining:    0.0s\n"
     ]
    },
    {
     "name": "stdout",
     "output_type": "stream",
     "text": [
      "[CV] ................................................. , total=   5.4s\n",
      "[CV]  ................................................................\n",
      "[CV] ................................................. , total=   5.4s\n",
      "test score =  0.9375618175408923\n"
     ]
    },
    {
     "name": "stderr",
     "output_type": "stream",
     "text": [
      "[Parallel(n_jobs=1)]: Done   3 out of   3 | elapsed:   16.4s finished\n"
     ]
    },
    {
     "name": "stdout",
     "output_type": "stream",
     "text": [
      "[CV]  ................................................................\n",
      "[CV] ................................................. , total=   4.5s\n",
      "[CV]  ................................................................\n"
     ]
    },
    {
     "name": "stderr",
     "output_type": "stream",
     "text": [
      "[Parallel(n_jobs=1)]: Done   1 out of   1 | elapsed:    4.8s remaining:    0.0s\n"
     ]
    },
    {
     "name": "stdout",
     "output_type": "stream",
     "text": [
      "[CV] ................................................. , total=   3.7s\n",
      "[CV]  ................................................................\n",
      "[CV] ................................................. , total=   4.6s\n",
      "test score =  0.5972713209177923\n"
     ]
    },
    {
     "name": "stderr",
     "output_type": "stream",
     "text": [
      "[Parallel(n_jobs=1)]: Done   3 out of   3 | elapsed:   13.0s finished\n"
     ]
    },
    {
     "name": "stdout",
     "output_type": "stream",
     "text": [
      "[CV]  ................................................................\n",
      "[CV] ................................................. , total=  10.5s\n",
      "[CV]  ................................................................\n"
     ]
    },
    {
     "name": "stderr",
     "output_type": "stream",
     "text": [
      "[Parallel(n_jobs=1)]: Done   1 out of   1 | elapsed:   10.7s remaining:    0.0s\n"
     ]
    },
    {
     "name": "stdout",
     "output_type": "stream",
     "text": [
      "[CV] ................................................. , total=  10.5s\n",
      "[CV]  ................................................................\n",
      "[CV] ................................................. , total=  12.2s\n",
      "test score =  0.9635045309173013\n"
     ]
    },
    {
     "name": "stderr",
     "output_type": "stream",
     "text": [
      "[Parallel(n_jobs=1)]: Done   3 out of   3 | elapsed:   33.3s finished\n"
     ]
    },
    {
     "name": "stdout",
     "output_type": "stream",
     "text": [
      "[CV]  ................................................................\n",
      "[CV] ................................................. , total=   8.8s\n",
      "[CV]  ................................................................\n"
     ]
    },
    {
     "name": "stderr",
     "output_type": "stream",
     "text": [
      "[Parallel(n_jobs=1)]: Done   1 out of   1 | elapsed:    9.0s remaining:    0.0s\n"
     ]
    },
    {
     "name": "stdout",
     "output_type": "stream",
     "text": [
      "[CV] ................................................. , total=   8.8s\n",
      "[CV]  ................................................................\n",
      "[CV] ................................................. , total=   8.6s\n",
      "test score =  0.9602928861647372\n"
     ]
    },
    {
     "name": "stderr",
     "output_type": "stream",
     "text": [
      "[Parallel(n_jobs=1)]: Done   3 out of   3 | elapsed:   26.4s finished\n"
     ]
    },
    {
     "name": "stdout",
     "output_type": "stream",
     "text": [
      "[CV]  ................................................................\n",
      "[CV] ................................................. , total=   6.8s\n",
      "[CV]  ................................................................\n"
     ]
    },
    {
     "name": "stderr",
     "output_type": "stream",
     "text": [
      "[Parallel(n_jobs=1)]: Done   1 out of   1 | elapsed:    7.1s remaining:    0.0s\n"
     ]
    },
    {
     "name": "stdout",
     "output_type": "stream",
     "text": [
      "[CV] ................................................. , total=   6.7s\n",
      "[CV]  ................................................................\n",
      "[CV] ................................................. , total=   7.0s\n",
      "test score =  0.9272152722378646\n"
     ]
    },
    {
     "name": "stderr",
     "output_type": "stream",
     "text": [
      "[Parallel(n_jobs=1)]: Done   3 out of   3 | elapsed:   20.8s finished\n"
     ]
    },
    {
     "name": "stdout",
     "output_type": "stream",
     "text": [
      "[CV]  ................................................................\n",
      "[CV] ................................................. , total=   4.1s\n",
      "[CV]  ................................................................\n"
     ]
    },
    {
     "name": "stderr",
     "output_type": "stream",
     "text": [
      "[Parallel(n_jobs=1)]: Done   1 out of   1 | elapsed:    4.3s remaining:    0.0s\n"
     ]
    },
    {
     "name": "stdout",
     "output_type": "stream",
     "text": [
      "[CV] ................................................. , total=   4.2s\n",
      "[CV]  ................................................................\n",
      "[CV] ................................................. , total=   4.5s\n",
      "test score =  0.9346901108178622\n"
     ]
    },
    {
     "name": "stderr",
     "output_type": "stream",
     "text": [
      "[Parallel(n_jobs=1)]: Done   3 out of   3 | elapsed:   13.0s finished\n"
     ]
    },
    {
     "name": "stdout",
     "output_type": "stream",
     "text": [
      "[CV]  ................................................................\n",
      "[CV] ................................................. , total=   9.2s\n",
      "[CV]  ................................................................\n"
     ]
    },
    {
     "name": "stderr",
     "output_type": "stream",
     "text": [
      "[Parallel(n_jobs=1)]: Done   1 out of   1 | elapsed:    9.4s remaining:    0.0s\n"
     ]
    },
    {
     "name": "stdout",
     "output_type": "stream",
     "text": [
      "[CV] ................................................. , total=   9.1s\n",
      "[CV]  ................................................................\n",
      "[CV] ................................................. , total=   9.2s\n",
      "test score =  0.9577473792472904\n"
     ]
    },
    {
     "name": "stderr",
     "output_type": "stream",
     "text": [
      "[Parallel(n_jobs=1)]: Done   3 out of   3 | elapsed:   27.7s finished\n"
     ]
    },
    {
     "name": "stdout",
     "output_type": "stream",
     "text": [
      "[CV]  ................................................................\n",
      "[CV] ................................................. , total=   7.6s\n",
      "[CV]  ................................................................\n"
     ]
    },
    {
     "name": "stderr",
     "output_type": "stream",
     "text": [
      "[Parallel(n_jobs=1)]: Done   1 out of   1 | elapsed:    7.8s remaining:    0.0s\n"
     ]
    },
    {
     "name": "stdout",
     "output_type": "stream",
     "text": [
      "[CV] ................................................. , total=   8.8s\n",
      "[CV]  ................................................................\n",
      "[CV] ................................................. , total=   7.7s\n",
      "test score =  0.9607848559767397\n"
     ]
    },
    {
     "name": "stderr",
     "output_type": "stream",
     "text": [
      "[Parallel(n_jobs=1)]: Done   3 out of   3 | elapsed:   24.3s finished\n"
     ]
    },
    {
     "name": "stdout",
     "output_type": "stream",
     "text": [
      "[CV]  ................................................................\n",
      "[CV] ................................................. , total=   7.9s\n",
      "[CV]  ................................................................\n"
     ]
    },
    {
     "name": "stderr",
     "output_type": "stream",
     "text": [
      "[Parallel(n_jobs=1)]: Done   1 out of   1 | elapsed:    8.2s remaining:    0.0s\n"
     ]
    },
    {
     "name": "stdout",
     "output_type": "stream",
     "text": [
      "[CV] ................................................. , total=   8.3s\n",
      "[CV]  ................................................................\n",
      "[CV] ................................................. , total=   8.1s\n",
      "test score =  0.9576818578309491\n"
     ]
    },
    {
     "name": "stderr",
     "output_type": "stream",
     "text": [
      "[Parallel(n_jobs=1)]: Done   3 out of   3 | elapsed:   24.5s finished\n"
     ]
    },
    {
     "name": "stdout",
     "output_type": "stream",
     "text": [
      "[CV]  ................................................................\n",
      "[CV] ................................................. , total=   6.0s\n",
      "[CV]  ................................................................\n"
     ]
    },
    {
     "name": "stderr",
     "output_type": "stream",
     "text": [
      "[Parallel(n_jobs=1)]: Done   1 out of   1 | elapsed:    6.3s remaining:    0.0s\n"
     ]
    },
    {
     "name": "stdout",
     "output_type": "stream",
     "text": [
      "[CV] ................................................. , total=   6.0s\n",
      "[CV]  ................................................................\n",
      "[CV] ................................................. , total=   6.0s\n",
      "test score =  0.9452907821676692\n"
     ]
    },
    {
     "name": "stderr",
     "output_type": "stream",
     "text": [
      "[Parallel(n_jobs=1)]: Done   3 out of   3 | elapsed:   18.3s finished\n"
     ]
    },
    {
     "name": "stdout",
     "output_type": "stream",
     "text": [
      "[CV]  ................................................................\n",
      "[CV] ................................................. , total=   8.9s\n",
      "[CV]  ................................................................\n"
     ]
    },
    {
     "name": "stderr",
     "output_type": "stream",
     "text": [
      "[Parallel(n_jobs=1)]: Done   1 out of   1 | elapsed:    9.2s remaining:    0.0s\n"
     ]
    },
    {
     "name": "stdout",
     "output_type": "stream",
     "text": [
      "[CV] ................................................. , total=   9.0s\n",
      "[CV]  ................................................................\n",
      "[CV] ................................................. , total=   9.0s\n",
      "test score =  0.9548186279363534\n"
     ]
    },
    {
     "name": "stderr",
     "output_type": "stream",
     "text": [
      "[Parallel(n_jobs=1)]: Done   3 out of   3 | elapsed:   27.2s finished\n"
     ]
    },
    {
     "name": "stdout",
     "output_type": "stream",
     "text": [
      "[CV]  ................................................................\n",
      "[CV] ................................................. , total=   7.4s\n",
      "[CV]  ................................................................\n"
     ]
    },
    {
     "name": "stderr",
     "output_type": "stream",
     "text": [
      "[Parallel(n_jobs=1)]: Done   1 out of   1 | elapsed:    7.7s remaining:    0.0s\n"
     ]
    },
    {
     "name": "stdout",
     "output_type": "stream",
     "text": [
      "[CV] ................................................. , total=   7.5s\n",
      "[CV]  ................................................................\n",
      "[CV] ................................................. , total=   7.6s\n",
      "test score =  0.958131825844665\n"
     ]
    },
    {
     "name": "stderr",
     "output_type": "stream",
     "text": [
      "[Parallel(n_jobs=1)]: Done   3 out of   3 | elapsed:   22.7s finished\n"
     ]
    },
    {
     "name": "stdout",
     "output_type": "stream",
     "text": [
      "[CV]  ................................................................\n",
      "[CV] ................................................. , total=   9.0s\n",
      "[CV]  ................................................................\n"
     ]
    },
    {
     "name": "stderr",
     "output_type": "stream",
     "text": [
      "[Parallel(n_jobs=1)]: Done   1 out of   1 | elapsed:    9.2s remaining:    0.0s\n"
     ]
    },
    {
     "name": "stdout",
     "output_type": "stream",
     "text": [
      "[CV] ................................................. , total=   9.0s\n",
      "[CV]  ................................................................\n",
      "[CV] ................................................. , total=   9.0s\n",
      "test score =  0.9628407712193732\n"
     ]
    },
    {
     "name": "stderr",
     "output_type": "stream",
     "text": [
      "[Parallel(n_jobs=1)]: Done   3 out of   3 | elapsed:   27.2s finished\n"
     ]
    },
    {
     "name": "stdout",
     "output_type": "stream",
     "text": [
      "[CV]  ................................................................\n",
      "[CV] ................................................. , total=   9.3s\n",
      "[CV]  ................................................................\n"
     ]
    },
    {
     "name": "stderr",
     "output_type": "stream",
     "text": [
      "[Parallel(n_jobs=1)]: Done   1 out of   1 | elapsed:    9.5s remaining:    0.0s\n"
     ]
    },
    {
     "name": "stdout",
     "output_type": "stream",
     "text": [
      "[CV] ................................................. , total=   9.6s\n",
      "[CV]  ................................................................\n",
      "[CV] ................................................. , total=   9.6s\n",
      "test score =  0.9591775362135514\n"
     ]
    },
    {
     "name": "stderr",
     "output_type": "stream",
     "text": [
      "[Parallel(n_jobs=1)]: Done   3 out of   3 | elapsed:   28.7s finished\n"
     ]
    },
    {
     "name": "stdout",
     "output_type": "stream",
     "text": [
      "[CV]  ................................................................\n",
      "[CV] ................................................. , total=   7.0s\n",
      "[CV]  ................................................................\n"
     ]
    },
    {
     "name": "stderr",
     "output_type": "stream",
     "text": [
      "[Parallel(n_jobs=1)]: Done   1 out of   1 | elapsed:    7.2s remaining:    0.0s\n"
     ]
    },
    {
     "name": "stdout",
     "output_type": "stream",
     "text": [
      "[CV] ................................................. , total=   7.3s\n",
      "[CV]  ................................................................\n",
      "[CV] ................................................. , total=   6.4s\n",
      "test score =  0.7547377834363256\n"
     ]
    },
    {
     "name": "stderr",
     "output_type": "stream",
     "text": [
      "[Parallel(n_jobs=1)]: Done   3 out of   3 | elapsed:   20.9s finished\n"
     ]
    },
    {
     "name": "stdout",
     "output_type": "stream",
     "text": [
      "[CV]  ................................................................\n",
      "[CV] ................................................. , total=   7.4s\n",
      "[CV]  ................................................................\n"
     ]
    },
    {
     "name": "stderr",
     "output_type": "stream",
     "text": [
      "[Parallel(n_jobs=1)]: Done   1 out of   1 | elapsed:    7.6s remaining:    0.0s\n"
     ]
    },
    {
     "name": "stdout",
     "output_type": "stream",
     "text": [
      "[CV] ................................................. , total=   8.1s\n",
      "[CV]  ................................................................\n",
      "[CV] ................................................. , total=   7.8s\n",
      "test score =  0.9437194752182885\n"
     ]
    },
    {
     "name": "stderr",
     "output_type": "stream",
     "text": [
      "[Parallel(n_jobs=1)]: Done   3 out of   3 | elapsed:   23.5s finished\n"
     ]
    },
    {
     "name": "stdout",
     "output_type": "stream",
     "text": [
      "[CV]  ................................................................\n",
      "[CV] ................................................. , total=   7.4s\n",
      "[CV]  ................................................................\n"
     ]
    },
    {
     "name": "stderr",
     "output_type": "stream",
     "text": [
      "[Parallel(n_jobs=1)]: Done   1 out of   1 | elapsed:    7.7s remaining:    0.0s\n"
     ]
    },
    {
     "name": "stdout",
     "output_type": "stream",
     "text": [
      "[CV] ................................................. , total=   7.8s\n",
      "[CV]  ................................................................\n",
      "[CV] ................................................. , total=   7.7s\n",
      "test score =  0.9541508946954197\n"
     ]
    },
    {
     "name": "stderr",
     "output_type": "stream",
     "text": [
      "[Parallel(n_jobs=1)]: Done   3 out of   3 | elapsed:   23.1s finished\n"
     ]
    },
    {
     "name": "stdout",
     "output_type": "stream",
     "text": [
      "[CV]  ................................................................\n",
      "[CV] ................................................. , total=   8.1s\n",
      "[CV]  ................................................................\n"
     ]
    },
    {
     "name": "stderr",
     "output_type": "stream",
     "text": [
      "[Parallel(n_jobs=1)]: Done   1 out of   1 | elapsed:    8.3s remaining:    0.0s\n"
     ]
    },
    {
     "name": "stdout",
     "output_type": "stream",
     "text": [
      "[CV] ................................................. , total=   7.9s\n",
      "[CV]  ................................................................\n",
      "[CV] ................................................. , total=   8.0s\n",
      "test score =  0.9612401327796807\n"
     ]
    },
    {
     "name": "stderr",
     "output_type": "stream",
     "text": [
      "[Parallel(n_jobs=1)]: Done   3 out of   3 | elapsed:   24.2s finished\n"
     ]
    },
    {
     "name": "stdout",
     "output_type": "stream",
     "text": [
      "[CV]  ................................................................\n",
      "[CV] ................................................. , total=  10.4s\n",
      "[CV]  ................................................................\n"
     ]
    },
    {
     "name": "stderr",
     "output_type": "stream",
     "text": [
      "[Parallel(n_jobs=1)]: Done   1 out of   1 | elapsed:   10.6s remaining:    0.0s\n"
     ]
    },
    {
     "name": "stdout",
     "output_type": "stream",
     "text": [
      "[CV] ................................................. , total=  10.3s\n",
      "[CV]  ................................................................\n",
      "[CV] ................................................. , total=   9.6s\n",
      "test score =  0.9594929335946701\n"
     ]
    },
    {
     "name": "stderr",
     "output_type": "stream",
     "text": [
      "[Parallel(n_jobs=1)]: Done   3 out of   3 | elapsed:   30.6s finished\n"
     ]
    },
    {
     "name": "stdout",
     "output_type": "stream",
     "text": [
      "[CV]  ................................................................\n",
      "[CV] ................................................. , total=   7.7s\n",
      "[CV]  ................................................................\n"
     ]
    },
    {
     "name": "stderr",
     "output_type": "stream",
     "text": [
      "[Parallel(n_jobs=1)]: Done   1 out of   1 | elapsed:    7.9s remaining:    0.0s\n"
     ]
    },
    {
     "name": "stdout",
     "output_type": "stream",
     "text": [
      "[CV] ................................................. , total=   7.5s\n",
      "[CV]  ................................................................\n",
      "[CV] ................................................. , total=   7.5s\n",
      "test score =  0.9574014371545035\n"
     ]
    },
    {
     "name": "stderr",
     "output_type": "stream",
     "text": [
      "[Parallel(n_jobs=1)]: Done   3 out of   3 | elapsed:   22.9s finished\n"
     ]
    },
    {
     "name": "stdout",
     "output_type": "stream",
     "text": [
      "[CV]  ................................................................\n",
      "[CV] ................................................. , total=  13.4s\n",
      "[CV]  ................................................................\n"
     ]
    },
    {
     "name": "stderr",
     "output_type": "stream",
     "text": [
      "[Parallel(n_jobs=1)]: Done   1 out of   1 | elapsed:   13.6s remaining:    0.0s\n"
     ]
    },
    {
     "name": "stdout",
     "output_type": "stream",
     "text": [
      "[CV] ................................................. , total=   8.9s\n",
      "[CV]  ................................................................\n",
      "[CV] ................................................. , total=   8.9s\n",
      "test score =  0.9563190594839894\n",
      "{'colsample_bytree': 0.8995241469250024, 'gamma': 0.2636321834098349, 'learning_rate': 0.13838362395115916, 'max_depth': 6.0, 'min_child_weight': 1.0, 'n_estimators': 10.0, 'penalty': 0, 'reg_lambda': 0.7657103564285519, 'subsample': 0.9616312927045899}\n"
     ]
    },
    {
     "name": "stderr",
     "output_type": "stream",
     "text": [
      "[Parallel(n_jobs=1)]: Done   3 out of   3 | elapsed:   31.4s finished\n"
     ]
    }
   ],
   "source": [
    "def sample_loss(args):\n",
    "    max_depth,min_child_weight,n_estimators,gamma,learning_rate,subsample,colsample_bytree,case = args\n",
    "    penalty = case[0]\n",
    "    if penalty == 'l2':\n",
    "        reg_lambda = case[1]\n",
    "        reg_alpha = 0\n",
    "    else:\n",
    "        reg_alpha = case[1]\n",
    "        reg_lambda = 0\n",
    "            \n",
    "    model = xgb.XGBClassifier(max_depth=max_depth,\n",
    "                              learning_rate= learning_rate,\n",
    "                              gamma= gamma ,\n",
    "                              min_child_weight = min_child_weight ,\n",
    "                              subsample= subsample ,\n",
    "                              colsample_bytree=colsample_bytree,\n",
    "                              reg_lambda= reg_lambda,\n",
    "                              reg_alpha = reg_alpha,\n",
    "                              n_estimators= n_estimators ,\n",
    "                              silent = 0,\n",
    "                              objective = 'multi:softmax',\n",
    "                              random_state = 12,\n",
    "                              n_jobs = 7)\n",
    "    \n",
    "    cv_score = cross_validate(model,X=X_train_important_dtm,y=y_train,cv=3,verbose=2,return_train_score=False)\n",
    "    print('test score = ', cv_score['test_score'].mean())\n",
    "    return 1-cv_score['test_score'].mean()\n",
    "\n",
    "\n",
    "\n",
    "space =[\n",
    "    hp.uniformint('max_depth',3,10),\n",
    "    hp.uniformint('min_child_weight',1,10),\n",
    "    hp.uniformint('n_estimators',3,10),\n",
    "    hp.loguniform('gamma',np.log(0.05),0),\n",
    "    hp.loguniform('learning_rate',-2,0),\n",
    "    hp.uniform('subsample',0.6,1),\n",
    "    hp.uniform('colsample_bytree',0.6,1),\n",
    "    hp.choice('penalty',[\n",
    "             ('l2',hp.loguniform('reg_lambda',-5,0)),\n",
    "             ('l1',hp.loguniform('reg_alpha',-5,0))\n",
    "    ])\n",
    "]\n",
    "\n",
    "\n",
    "best_xgb = fmin(sample_loss,\n",
    "           space = space,\n",
    "           algo=tpe.suggest,\n",
    "           max_evals=200)\n",
    "\n",
    "print(best_xgb)"
   ]
  },
  {
   "cell_type": "code",
   "execution_count": 24,
   "metadata": {},
   "outputs": [
    {
     "name": "stdout",
     "output_type": "stream",
     "text": [
      "Test score = 97.208\n",
      "Average precision =  97.268\n",
      "Average recall =  97.208\n",
      "Average fscore =  97.162\n",
      "Total support =  12283\n"
     ]
    }
   ],
   "source": [
    "# make XGBClassifier using the best parameters found at previous step.\n",
    "\n",
    "if best_xgb['penalty'] == 0:\n",
    "    reg_lambda = best_xgb['reg_lambda']\n",
    "    reg_alpha = 0\n",
    "elif best_xgb['penalty'] == 1:\n",
    "    reg_alpha = best_xgb['reg_alpha']\n",
    "    reg_lambda = 0\n",
    "    \n",
    "xgb_model = xgb.XGBClassifier(colsample_bytree= best_xgb['colsample_bytree'],\n",
    "                              gamma= best_xgb['gamma'],\n",
    "                              learning_rate= best_xgb['learning_rate'],\n",
    "                              max_depth= int(best_xgb['max_depth']),\n",
    "                              min_child_weight=int(best_xgb['min_child_weight']),\n",
    "                              n_estimators= int(best_xgb['n_estimators']),\n",
    "                              reg_alpha= reg_alpha,\n",
    "                              reg_lambda= reg_lambda,\n",
    "                              subsample= best_xgb['subsample'],\n",
    "                              n_jobs=7)\n",
    "xgb_model.fit(X_train_important_dtm,y_train)\n",
    "xgb_pred = xgb_model.predict(X_test_important_dtm)\n",
    "print_precision_recall(y_test,xgb_pred)"
   ]
  },
  {
   "cell_type": "markdown",
   "metadata": {},
   "source": [
    "## Build LogisticRegression. Use Baysian optimization to find the best parameters."
   ]
  },
  {
   "cell_type": "code",
   "execution_count": 25,
   "metadata": {},
   "outputs": [
    {
     "name": "stdout",
     "output_type": "stream",
     "text": [
      "(0.045344849893294244, ('l1', 'saga'))\n"
     ]
    },
    {
     "name": "stderr",
     "output_type": "stream",
     "text": [
      "[Parallel(n_jobs=1)]: Done   3 out of   3 | elapsed:  5.5min finished\n"
     ]
    },
    {
     "name": "stdout",
     "output_type": "stream",
     "text": [
      "test score =  0.8825556362021517\n",
      "(0.007594120227524895, ('l2', 'sag'))\n"
     ]
    },
    {
     "name": "stderr",
     "output_type": "stream",
     "text": [
      "[Parallel(n_jobs=1)]: Done   3 out of   3 | elapsed: 13.9min finished\n"
     ]
    },
    {
     "name": "stdout",
     "output_type": "stream",
     "text": [
      "test score =  0.727817258027661\n",
      "(0.20487542808080597, ('l2', 'sag'))\n"
     ]
    },
    {
     "name": "stderr",
     "output_type": "stream",
     "text": [
      "[Parallel(n_jobs=1)]: Done   3 out of   3 | elapsed:  2.8min finished\n"
     ]
    },
    {
     "name": "stdout",
     "output_type": "stream",
     "text": [
      "test score =  0.9484325192702104\n",
      "(0.010622960067844798, ('l1', 'saga'))\n"
     ]
    },
    {
     "name": "stderr",
     "output_type": "stream",
     "text": [
      "[Parallel(n_jobs=1)]: Done   3 out of   3 | elapsed:  3.7min finished\n"
     ]
    },
    {
     "name": "stdout",
     "output_type": "stream",
     "text": [
      "test score =  0.6879025807436095\n",
      "(0.00128207917002496, ('l1', 'saga'))\n"
     ]
    },
    {
     "name": "stderr",
     "output_type": "stream",
     "text": [
      "[Parallel(n_jobs=1)]: Done   3 out of   3 | elapsed:   31.9s finished\n"
     ]
    },
    {
     "name": "stdout",
     "output_type": "stream",
     "text": [
      "test score =  0.3280206339885048\n",
      "(0.0013821142294259483, ('l2', 'sag'))\n"
     ]
    },
    {
     "name": "stderr",
     "output_type": "stream",
     "text": [
      "[Parallel(n_jobs=1)]: Done   3 out of   3 | elapsed: 17.6min finished\n"
     ]
    },
    {
     "name": "stdout",
     "output_type": "stream",
     "text": [
      "test score =  0.5915929159631798\n",
      "(0.012153764160216287, ('l1', 'saga'))\n"
     ]
    },
    {
     "name": "stderr",
     "output_type": "stream",
     "text": [
      "[Parallel(n_jobs=1)]: Done   3 out of   3 | elapsed:  5.2min finished\n"
     ]
    },
    {
     "name": "stdout",
     "output_type": "stream",
     "text": [
      "test score =  0.7117962871337286\n",
      "(0.1154911413570227, ('l2', 'sag'))\n"
     ]
    },
    {
     "name": "stderr",
     "output_type": "stream",
     "text": [
      "[Parallel(n_jobs=1)]: Done   3 out of   3 | elapsed:  2.5min finished\n"
     ]
    },
    {
     "name": "stdout",
     "output_type": "stream",
     "text": [
      "test score =  0.9324535501745649\n",
      "(2.8585762088182802, ('l1', 'saga'))\n"
     ]
    },
    {
     "name": "stderr",
     "output_type": "stream",
     "text": [
      "[Parallel(n_jobs=1)]: Done   3 out of   3 | elapsed: 11.1min finished\n"
     ]
    },
    {
     "name": "stdout",
     "output_type": "stream",
     "text": [
      "test score =  0.9686341133785595\n",
      "(8.323947474447566, ('l2', 'sag'))\n"
     ]
    },
    {
     "name": "stderr",
     "output_type": "stream",
     "text": [
      "[Parallel(n_jobs=1)]: Done   3 out of   3 | elapsed:  5.3min finished\n"
     ]
    },
    {
     "name": "stdout",
     "output_type": "stream",
     "text": [
      "test score =  0.96884160536059\n",
      "(0.05864769284403263, ('l2', 'sag'))\n"
     ]
    },
    {
     "name": "stderr",
     "output_type": "stream",
     "text": [
      "[Parallel(n_jobs=1)]: Done   3 out of   3 | elapsed:  2.2min finished\n"
     ]
    },
    {
     "name": "stdout",
     "output_type": "stream",
     "text": [
      "test score =  0.9047873571158448\n",
      "(0.030110219680872814, ('l2', 'sag'))\n"
     ]
    },
    {
     "name": "stderr",
     "output_type": "stream",
     "text": [
      "[Parallel(n_jobs=1)]: Done   3 out of   3 | elapsed:  2.0min finished\n"
     ]
    },
    {
     "name": "stdout",
     "output_type": "stream",
     "text": [
      "test score =  0.8637572089820358\n",
      "(0.00146177619898308, ('l2', 'sag'))\n"
     ]
    },
    {
     "name": "stderr",
     "output_type": "stream",
     "text": [
      "[Parallel(n_jobs=1)]: Done   3 out of   3 | elapsed: 17.8min finished\n"
     ]
    },
    {
     "name": "stdout",
     "output_type": "stream",
     "text": [
      "test score =  0.6004894833753384\n",
      "(0.3581716196533469, ('l2', 'sag'))\n"
     ]
    },
    {
     "name": "stderr",
     "output_type": "stream",
     "text": [
      "[Parallel(n_jobs=1)]: Done   3 out of   3 | elapsed:  3.2min finished\n"
     ]
    },
    {
     "name": "stdout",
     "output_type": "stream",
     "text": [
      "test score =  0.9564927396771802\n",
      "(0.10722311717291844, ('l2', 'sag'))\n"
     ]
    },
    {
     "name": "stderr",
     "output_type": "stream",
     "text": [
      "[Parallel(n_jobs=1)]: Done   3 out of   3 | elapsed:  2.5min finished\n"
     ]
    },
    {
     "name": "stdout",
     "output_type": "stream",
     "text": [
      "test score =  0.9297670709493661\n",
      "(0.003947822269777165, ('l2', 'sag'))\n"
     ]
    },
    {
     "name": "stderr",
     "output_type": "stream",
     "text": [
      "[Parallel(n_jobs=1)]: Done   3 out of   3 | elapsed: 19.8min finished\n"
     ]
    },
    {
     "name": "stdout",
     "output_type": "stream",
     "text": [
      "test score =  0.6771490331300495\n",
      "(0.0038114597023770885, ('l1', 'saga'))\n"
     ]
    },
    {
     "name": "stderr",
     "output_type": "stream",
     "text": [
      "[Parallel(n_jobs=1)]: Done   3 out of   3 | elapsed:   55.1s finished\n"
     ]
    },
    {
     "name": "stdout",
     "output_type": "stream",
     "text": [
      "test score =  0.5939973333467929\n",
      "(6.754297888743099, ('l2', 'sag'))\n"
     ]
    },
    {
     "name": "stderr",
     "output_type": "stream",
     "text": [
      "[Parallel(n_jobs=1)]: Done   3 out of   3 | elapsed:  5.4min finished\n"
     ]
    },
    {
     "name": "stdout",
     "output_type": "stream",
     "text": [
      "test score =  0.9689116113110959\n",
      "(0.20451444724153187, ('l1', 'saga'))\n"
     ]
    },
    {
     "name": "stderr",
     "output_type": "stream",
     "text": [
      "[Parallel(n_jobs=1)]: Done   3 out of   3 | elapsed:  9.1min finished\n"
     ]
    },
    {
     "name": "stdout",
     "output_type": "stream",
     "text": [
      "test score =  0.9512224041072249\n",
      "(0.020774672137956165, ('l2', 'sag'))\n",
      "test score =  0.8317965856083434\n",
      "{'C': 6.754297888743099, 'penalty': 0}\n"
     ]
    },
    {
     "name": "stderr",
     "output_type": "stream",
     "text": [
      "[Parallel(n_jobs=1)]: Done   3 out of   3 | elapsed:  1.9min finished\n"
     ]
    }
   ],
   "source": [
    "def sample_loss(args):\n",
    "    print(args)\n",
    "    C,options = args\n",
    "    penalty = options[0]   \n",
    "    solver = options[1]\n",
    "    model = LogisticRegression(penalty=penalty,\n",
    "                               C = C,\n",
    "                               solver = solver,\n",
    "                               random_state = 12,\n",
    "                               n_jobs=-1,\n",
    "                               multi_class= 'ovr',\n",
    "                               tol = 0.01,\n",
    "                               max_iter = 1000)\n",
    "    \n",
    "    cv_score = cross_validate(model,X=X_train_important_dtm,y=y_tr,cv=3,n_jobs=1,verbose=1,return_train_score=False)\n",
    "    print('test score = ', cv_score['test_score'].mean())\n",
    "    return 1-cv_score['test_score'].mean()\n",
    "\n",
    "\n",
    "\n",
    "space =[\n",
    "    hp.loguniform('C',np.log(0.001),np.log(10)),\n",
    "    hp.choice('penalty',[\n",
    "             ('l2','sag'),\n",
    "             ('l1','saga')\n",
    "    ])\n",
    "]\n",
    "\n",
    "\n",
    "best_logreg = fmin(sample_loss,\n",
    "                   space = space,\n",
    "                   algo=tpe.suggest,\n",
    "                   max_evals=20)\n",
    "print(best_logreg)\n"
   ]
  },
  {
   "cell_type": "code",
   "execution_count": 26,
   "metadata": {},
   "outputs": [
    {
     "name": "stdout",
     "output_type": "stream",
     "text": [
      "Test score = 97.631\n",
      "Average precision =  97.640\n",
      "Average recall =  97.631\n",
      "Average fscore =  97.604\n",
      "Total support =  12283\n"
     ]
    }
   ],
   "source": [
    "# make LogisticRegression classifier using the best parameters found at previous step.\n",
    "\n",
    "if best_logreg['penalty'] == 0:\n",
    "    penalty_logreg = 'l2'\n",
    "    solver_logreg = 'sag'\n",
    "else:\n",
    "    penalty_logreg = 'l1'\n",
    "    solver_logreg = 'saga'\n",
    "        \n",
    "logreg_model = LogisticRegression(penalty=penalty_logreg,\n",
    "                                  C=best_logreg['C'],\n",
    "                                  solver=solver_logreg,\n",
    "                                  random_state=12,\n",
    "                                  n_jobs=-1,\n",
    "                                  multi_class='ovr',\n",
    "                                  tol=0.01,\n",
    "                                  max_iter=1000)\n",
    "\n",
    "logreg_model.fit(X_train_important_dtm, y_train)\n",
    "logreg_pred = logreg_model.predict(X_test_important_dtm)\n",
    "print_precision_recall(y_test,logreg_pred)"
   ]
  },
  {
   "cell_type": "markdown",
   "metadata": {},
   "source": [
    "## Build KNeighborsClassifier. Use Baysian optimization to find the best parameters."
   ]
  },
  {
   "cell_type": "code",
   "execution_count": 27,
   "metadata": {
    "scrolled": true
   },
   "outputs": [
    {
     "name": "stdout",
     "output_type": "stream",
     "text": [
      "(31, 3)\n",
      "[CV]  ................................................................\n",
      "[CV] ................................................. , total= 9.3min\n",
      "[CV]  ................................................................\n"
     ]
    },
    {
     "name": "stderr",
     "output_type": "stream",
     "text": [
      "[Parallel(n_jobs=1)]: Done   1 out of   1 | elapsed:  9.3min remaining:    0.0s\n"
     ]
    },
    {
     "name": "stdout",
     "output_type": "stream",
     "text": [
      "[CV] ................................................. , total= 9.2min\n",
      "[CV]  ................................................................\n",
      "[CV] ................................................. , total= 9.3min\n",
      "test score =  0.7959601383116471\n",
      "(28, 2)\n"
     ]
    },
    {
     "name": "stderr",
     "output_type": "stream",
     "text": [
      "[Parallel(n_jobs=1)]: Done   3 out of   3 | elapsed: 27.8min finished\n"
     ]
    },
    {
     "name": "stdout",
     "output_type": "stream",
     "text": [
      "[CV]  ................................................................\n",
      "[CV] ................................................. , total=  57.8s\n",
      "[CV]  ................................................................\n"
     ]
    },
    {
     "name": "stderr",
     "output_type": "stream",
     "text": [
      "[Parallel(n_jobs=1)]: Done   1 out of   1 | elapsed:   58.0s remaining:    0.0s\n"
     ]
    },
    {
     "name": "stdout",
     "output_type": "stream",
     "text": [
      "[CV] ................................................. , total=  57.4s\n",
      "[CV]  ................................................................\n",
      "[CV] ................................................. , total=  57.1s\n",
      "test score =  0.8189877393887728\n",
      "(19, 3)\n"
     ]
    },
    {
     "name": "stderr",
     "output_type": "stream",
     "text": [
      "[Parallel(n_jobs=1)]: Done   3 out of   3 | elapsed:  2.9min finished\n"
     ]
    },
    {
     "name": "stdout",
     "output_type": "stream",
     "text": [
      "[CV]  ................................................................\n",
      "[CV] ................................................. , total= 9.2min\n",
      "[CV]  ................................................................\n"
     ]
    },
    {
     "name": "stderr",
     "output_type": "stream",
     "text": [
      "[Parallel(n_jobs=1)]: Done   1 out of   1 | elapsed:  9.2min remaining:    0.0s\n"
     ]
    },
    {
     "name": "stdout",
     "output_type": "stream",
     "text": [
      "[CV] ................................................. , total= 9.2min\n",
      "[CV]  ................................................................\n",
      "[CV] ................................................. , total= 9.2min\n",
      "test score =  0.8105114799830088\n",
      "(20, 4)\n"
     ]
    },
    {
     "name": "stderr",
     "output_type": "stream",
     "text": [
      "[Parallel(n_jobs=1)]: Done   3 out of   3 | elapsed: 27.7min finished\n"
     ]
    },
    {
     "name": "stdout",
     "output_type": "stream",
     "text": [
      "[CV]  ................................................................\n",
      "[CV] ................................................. , total= 9.4min\n",
      "[CV]  ................................................................\n"
     ]
    },
    {
     "name": "stderr",
     "output_type": "stream",
     "text": [
      "[Parallel(n_jobs=1)]: Done   1 out of   1 | elapsed:  9.4min remaining:    0.0s\n"
     ]
    },
    {
     "name": "stdout",
     "output_type": "stream",
     "text": [
      "[CV] ................................................. , total= 9.4min\n",
      "[CV]  ................................................................\n",
      "[CV] ................................................. , total= 9.3min\n",
      "test score =  0.8021704493701524\n",
      "(9, 2)\n"
     ]
    },
    {
     "name": "stderr",
     "output_type": "stream",
     "text": [
      "[Parallel(n_jobs=1)]: Done   3 out of   3 | elapsed: 28.1min finished\n"
     ]
    },
    {
     "name": "stdout",
     "output_type": "stream",
     "text": [
      "[CV]  ................................................................\n",
      "[CV] ................................................. , total=  56.9s\n",
      "[CV]  ................................................................\n"
     ]
    },
    {
     "name": "stderr",
     "output_type": "stream",
     "text": [
      "[Parallel(n_jobs=1)]: Done   1 out of   1 | elapsed:   57.1s remaining:    0.0s\n"
     ]
    },
    {
     "name": "stdout",
     "output_type": "stream",
     "text": [
      "[CV] ................................................. , total=  56.7s\n",
      "[CV]  ................................................................\n",
      "[CV] ................................................. , total=  56.9s\n",
      "test score =  0.8492058178788598\n",
      "(31, 4)\n"
     ]
    },
    {
     "name": "stderr",
     "output_type": "stream",
     "text": [
      "[Parallel(n_jobs=1)]: Done   3 out of   3 | elapsed:  2.8min finished\n"
     ]
    },
    {
     "name": "stdout",
     "output_type": "stream",
     "text": [
      "[CV]  ................................................................\n",
      "[CV] ................................................. , total= 9.5min\n",
      "[CV]  ................................................................\n"
     ]
    },
    {
     "name": "stderr",
     "output_type": "stream",
     "text": [
      "[Parallel(n_jobs=1)]: Done   1 out of   1 | elapsed:  9.5min remaining:    0.0s\n"
     ]
    },
    {
     "name": "stdout",
     "output_type": "stream",
     "text": [
      "[CV] ................................................. , total= 9.4min\n",
      "[CV]  ................................................................\n",
      "[CV] ................................................. , total= 9.4min\n",
      "test score =  0.7870621946927271\n",
      "(14, 3)\n"
     ]
    },
    {
     "name": "stderr",
     "output_type": "stream",
     "text": [
      "[Parallel(n_jobs=1)]: Done   3 out of   3 | elapsed: 28.3min finished\n"
     ]
    },
    {
     "name": "stdout",
     "output_type": "stream",
     "text": [
      "[CV]  ................................................................\n",
      "[CV] ................................................. , total= 9.3min\n",
      "[CV]  ................................................................\n"
     ]
    },
    {
     "name": "stderr",
     "output_type": "stream",
     "text": [
      "[Parallel(n_jobs=1)]: Done   1 out of   1 | elapsed:  9.3min remaining:    0.0s\n"
     ]
    },
    {
     "name": "stdout",
     "output_type": "stream",
     "text": [
      "[CV] ................................................. , total= 9.2min\n",
      "[CV]  ................................................................\n",
      "[CV] ................................................. , total= 9.2min\n",
      "test score =  0.8193381281645271\n",
      "(22, 4)\n"
     ]
    },
    {
     "name": "stderr",
     "output_type": "stream",
     "text": [
      "[Parallel(n_jobs=1)]: Done   3 out of   3 | elapsed: 27.7min finished\n"
     ]
    },
    {
     "name": "stdout",
     "output_type": "stream",
     "text": [
      "[CV]  ................................................................\n",
      "[CV] ................................................. , total= 9.6min\n",
      "[CV]  ................................................................\n"
     ]
    },
    {
     "name": "stderr",
     "output_type": "stream",
     "text": [
      "[Parallel(n_jobs=1)]: Done   1 out of   1 | elapsed:  9.6min remaining:    0.0s\n"
     ]
    },
    {
     "name": "stdout",
     "output_type": "stream",
     "text": [
      "[CV] ................................................. , total= 9.4min\n",
      "[CV]  ................................................................\n",
      "[CV] ................................................. , total= 9.4min\n",
      "test score =  0.7988546993217743\n",
      "(7, 2)\n"
     ]
    },
    {
     "name": "stderr",
     "output_type": "stream",
     "text": [
      "[Parallel(n_jobs=1)]: Done   3 out of   3 | elapsed: 28.4min finished\n"
     ]
    },
    {
     "name": "stdout",
     "output_type": "stream",
     "text": [
      "[CV]  ................................................................\n",
      "[CV] ................................................. , total=  58.7s\n",
      "[CV]  ................................................................\n"
     ]
    },
    {
     "name": "stderr",
     "output_type": "stream",
     "text": [
      "[Parallel(n_jobs=1)]: Done   1 out of   1 | elapsed:   58.9s remaining:    0.0s\n"
     ]
    },
    {
     "name": "stdout",
     "output_type": "stream",
     "text": [
      "[CV] ................................................. , total= 1.0min\n",
      "[CV]  ................................................................\n",
      "[CV] ................................................. , total=  57.9s\n",
      "test score =  0.8513297804073212\n",
      "(10, 4)\n"
     ]
    },
    {
     "name": "stderr",
     "output_type": "stream",
     "text": [
      "[Parallel(n_jobs=1)]: Done   3 out of   3 | elapsed:  3.0min finished\n"
     ]
    },
    {
     "name": "stdout",
     "output_type": "stream",
     "text": [
      "[CV]  ................................................................\n",
      "[CV] ................................................. , total= 9.5min\n",
      "[CV]  ................................................................\n"
     ]
    },
    {
     "name": "stderr",
     "output_type": "stream",
     "text": [
      "[Parallel(n_jobs=1)]: Done   1 out of   1 | elapsed:  9.5min remaining:    0.0s\n"
     ]
    },
    {
     "name": "stdout",
     "output_type": "stream",
     "text": [
      "[CV] ................................................. , total= 9.2min\n",
      "[CV]  ................................................................\n",
      "[CV] ................................................. , total= 9.2min\n",
      "test score =  0.8184966201024103\n",
      "{'n_neighbors': 7.0, 'p': 2.0}\n"
     ]
    },
    {
     "name": "stderr",
     "output_type": "stream",
     "text": [
      "[Parallel(n_jobs=1)]: Done   3 out of   3 | elapsed: 28.0min finished\n"
     ]
    }
   ],
   "source": [
    "def sample_loss(args):\n",
    "    print(args)\n",
    "    n_neighbors,p = args\n",
    "    model = KNeighborsClassifier(n_neighbors=n_neighbors,\n",
    "                               p = p,\n",
    "                               n_jobs=-1)\n",
    "    \n",
    "    cv_score = cross_validate(model,X=X_train_important_dtm.todense(),y=y_train,cv=3,n_jobs=1,verbose=2,return_train_score=False)\n",
    "    print('test score = ', cv_score['test_score'].mean())\n",
    "    return 1-cv_score['test_score'].mean()\n",
    "\n",
    "\n",
    "\n",
    "space =[\n",
    "    hp.uniformint('n_neighbors',2,40),\n",
    "    hp.uniformint('p',2,4)\n",
    "]\n",
    "\n",
    "\n",
    "\n",
    "best_knn = fmin(sample_loss,\n",
    "           space = space,\n",
    "           algo=tpe.suggest,\n",
    "           max_evals=10)\n",
    "print(best_knn)"
   ]
  },
  {
   "cell_type": "code",
   "execution_count": 28,
   "metadata": {
    "scrolled": true
   },
   "outputs": [
    {
     "name": "stdout",
     "output_type": "stream",
     "text": [
      "Test score = 87.006\n",
      "Average precision =  86.880\n",
      "Average recall =  87.006\n",
      "Average fscore =  86.104\n",
      "Total support =  12283\n"
     ]
    },
    {
     "name": "stderr",
     "output_type": "stream",
     "text": [
      "/usr/local/lib/python3.6/site-packages/sklearn/metrics/classification.py:1140: UndefinedMetricWarning: Precision and F-score are ill-defined and being set to 0.0 in labels with no predicted samples.\n",
      "  'precision', 'predicted', average, warn_for)\n"
     ]
    }
   ],
   "source": [
    "# make KNeighborsClassifier using the best parameters found at previous step.\n",
    "\n",
    "knn_model = KNeighborsClassifier(n_neighbors=int(best_knn['n_neighbors']),p=int(best_knn['p']))\n",
    "knn_model.fit(X_train_important_dtm.todense(), y_train)\n",
    "knn_pred = knn_model.predict(X_test_important_dtm.todense())\n",
    "print_precision_recall(y_test,knn_pred)"
   ]
  },
  {
   "cell_type": "markdown",
   "metadata": {},
   "source": [
    "## Build GaussianNB classifier (no parameter to optimize)."
   ]
  },
  {
   "cell_type": "code",
   "execution_count": 29,
   "metadata": {
    "scrolled": false
   },
   "outputs": [
    {
     "name": "stdout",
     "output_type": "stream",
     "text": [
      "Test score = 61.491\n",
      "Average precision =  80.401\n",
      "Average recall =  61.491\n",
      "Average fscore =  66.018\n",
      "Total support =  12283\n"
     ]
    }
   ],
   "source": [
    "# GaussianNB is not good with large sparse matrix too many zeros != Gaussian\n",
    "nb_model = GaussianNB()\n",
    "nb_model.fit(X_train_important_dtm.toarray(),y_train) \n",
    "nb_pred = nb_model.predict(X_test_important_dtm.toarray())\n",
    "print_precision_recall(y_test,nb_pred)"
   ]
  },
  {
   "cell_type": "markdown",
   "metadata": {},
   "source": [
    "## Build DecisionTreeClassifier. Use Baysian optimization to find the best parameters."
   ]
  },
  {
   "cell_type": "code",
   "execution_count": 30,
   "metadata": {},
   "outputs": [
    {
     "name": "stdout",
     "output_type": "stream",
     "text": [
      "(1101.0, 7, 17, 'sqrt')\n",
      "test score =  0.8275998916728288\n",
      "(851.0, 44, 6, 'sqrt')\n",
      "test score =  0.8536396640732565\n",
      "(4.0, 51, 25, 'sqrt')\n",
      "test score =  0.3788727456565184\n",
      "(64.0, 41, 22, None)\n",
      "test score =  0.9246359944921195\n",
      "(20.0, 137, 5, None)\n",
      "test score =  0.7108861287128315\n",
      "(810.0, 184, 24, 'sqrt')\n",
      "test score =  0.7808609428012914\n",
      "(192.0, 67, 27, 'log2')\n",
      "test score =  0.5989089561372548\n",
      "(43.0, 64, 49, None)\n",
      "test score =  0.8640722046899502\n",
      "(1049.0, 109, 37, 'sqrt')\n",
      "test score =  0.7716744626837703\n",
      "(2492.0, 16, 13, 'sqrt')\n",
      "test score =  0.8373808756846807\n",
      "(3076.0, 166, 25, None)\n",
      "test score =  0.9250513227894442\n",
      "(2281.0, 91, 28, 'log2')\n",
      "test score =  0.6191695660307633\n",
      "(4266.0, 190, 34, None)\n",
      "test score =  0.9113446653018697\n",
      "(413.0, 146, 48, 'sqrt')\n",
      "test score =  0.7540341519708585\n",
      "(867.0, 7, 29, 'log2')\n",
      "test score =  0.5905897568772204\n",
      "(4.0, 48, 18, 'log2')\n",
      "test score =  0.3001469342577917\n",
      "(98.0, 73, 39, 'sqrt')\n",
      "test score =  0.771505691684849\n",
      "(115.0, 187, 45, 'log2')\n",
      "test score =  0.56025770155948\n",
      "(247.0, 126, 32, 'sqrt')\n",
      "test score =  0.7794042609888375\n",
      "(4.0, 61, 5, None)\n",
      "test score =  0.41905226836443826\n",
      "(16.0, 161, 20, None)\n",
      "test score =  0.6714614100349459\n",
      "(51.0, 28, 11, None)\n",
      "test score =  0.9105781123931127\n",
      "(10.0, 90, 22, None)\n",
      "test score =  0.595532203774218\n",
      "(46.0, 154, 13, None)\n",
      "test score =  0.8841972324228694\n",
      "(77.0, 113, 42, None)\n",
      "test score =  0.9090041171519859\n",
      "(318.0, 171, 31, None)\n",
      "test score =  0.9179704786605766\n",
      "(8.0, 28, 16, None)\n",
      "test score =  0.5491625993874405\n",
      "(23.0, 88, 22, None)\n",
      "test score =  0.7419400132738785\n",
      "(460.0, 124, 9, None)\n",
      "test score =  0.9338824213264209\n",
      "(4644.0, 128, 8, None)\n",
      "test score =  0.9343010503164783\n",
      "(1688.0, 131, 9, None)\n",
      "test score =  0.9334981334788152\n",
      "(570.0, 116, 3, None)\n",
      "test score =  0.937019159794294\n",
      "(1550.0, 106, 2, None)\n",
      "test score =  0.9372999700001806\n",
      "(618.0, 102, 3, None)\n",
      "test score =  0.9387278886534228\n",
      "(1397.0, 101, 2, 'log2')\n",
      "test score =  0.7230220607569849\n",
      "(176.0, 78, 2, None)\n",
      "test score =  0.9424639393632143\n",
      "(158.0, 75, 6, None)\n",
      "test score =  0.9438613090691524\n",
      "(142.0, 35, 14, None)\n",
      "test score =  0.9491303252091416\n",
      "(33.0, 35, 15, 'sqrt')\n",
      "test score =  0.8266223318083168\n",
      "(140.0, 58, 7, 'log2')\n",
      "test score =  0.6871010455939169\n",
      "(267.0, 6, 19, None)\n",
      "test score =  0.9450479807283191\n",
      "(297.0, 3, 18, None)\n",
      "test score =  0.946337963371309\n",
      "(84.0, 15, 14, 'sqrt')\n",
      "test score =  0.844576570757031\n",
      "(373.0, 18, 11, 'log2')\n",
      "test score =  0.6717499064297668\n",
      "(245.0, 41, 24, None)\n",
      "test score =  0.9409624943045327\n",
      "(29.0, 4, 17, 'sqrt')\n",
      "test score =  0.8119406962457507\n",
      "(63.0, 50, 26, None)\n",
      "test score =  0.9196820545612207\n",
      "(688.0, 23, 37, 'log2')\n",
      "test score =  0.5518850820032172\n",
      "(1040.0, 198, 12, None)\n",
      "test score =  0.9212826856559321\n",
      "(13.0, 35, 20, 'sqrt')\n",
      "test score =  0.6209897752681263\n",
      "(112.0, 14, 29, None)\n",
      "test score =  0.9347186285074395\n",
      "(211.0, 59, 24, 'log2')\n",
      "test score =  0.634975456142399\n",
      "(3540.0, 2, 22, None)\n",
      "test score =  0.942709160463441\n",
      "(2341.0, 84, 35, 'sqrt')\n",
      "test score =  0.7837538832613146\n",
      "(501.0, 68, 31, None)\n",
      "test score =  0.9306718090105003\n",
      "(6.0, 41, 17, None)\n",
      "test score =  0.4735506892863694\n",
      "(35.0, 53, 27, 'log2')\n",
      "test score =  0.6239386246058131\n",
      "(770.0, 32, 10, None)\n",
      "test score =  0.9524794749188293\n",
      "(771.0, 68, 5, 'sqrt')\n",
      "test score =  0.8453867200131294\n",
      "(58.0, 35, 9, None)\n",
      "test score =  0.9233855634803234\n",
      "(1027.0, 24, 11, None)\n",
      "test score =  0.9525505359040681\n",
      "(2903.0, 95, 11, 'log2')\n",
      "test score =  0.6498680559556881\n",
      "(1777.0, 146, 4, None)\n",
      "test score =  0.9337060870201904\n",
      "(3990.0, 10, 7, None)\n",
      "test score =  0.9556882384511721\n",
      "(3938.0, 10, 42, 'sqrt')\n",
      "test score =  0.7727221396254613\n",
      "(1190.0, 23, 7, None)\n",
      "test score =  0.9551659767421173\n",
      "(4955.0, 23, 6, None)\n",
      "test score =  0.955862723973825\n",
      "(2909.0, 46, 7, None)\n",
      "test score =  0.9525845253682755\n",
      "(2000.0, 25, 4, None)\n",
      "test score =  0.9563172864028058\n",
      "(4558.0, 55, 4, None)\n",
      "test score =  0.9511875940604474\n",
      "(1927.0, 12, 6, None)\n",
      "test score =  0.9565228081395413\n",
      "(2082.0, 20, 5, None)\n",
      "test score =  0.9569095614073476\n",
      "(1751.0, 29, 13, None)\n",
      "test score =  0.9497225360919069\n",
      "(2239.0, 18, 3, None)\n",
      "test score =  0.9566619316637156\n",
      "(1418.0, 178, 2, None)\n",
      "test score =  0.923620031413566\n",
      "(367.0, 43, 3, None)\n",
      "test score =  0.952964914812124\n",
      "(2534.0, 17, 15, None)\n",
      "test score =  0.9484686603275713\n",
      "(1230.0, 65, 9, None)\n",
      "test score =  0.9471058924868275\n",
      "(3266.0, 12, 46, 'log2')\n",
      "test score =  0.5570756797005202\n",
      "(950.0, 19, 8, None)\n",
      "test score =  0.9547454684622663\n",
      "(551.0, 83, 20, 'sqrt')\n",
      "test score =  0.7956273876787042\n",
      "(441.0, 120, 12, None)\n",
      "test score =  0.9340530426240226\n",
      "(671.0, 46, 15, None)\n",
      "test score =  0.9457805741159389\n",
      "(2017.0, 96, 6, 'log2')\n",
      "test score =  0.7044751314716581\n",
      "(4967.0, 6, 10, None)\n",
      "test score =  0.9533865800996814\n",
      "(2458.0, 73, 5, None)\n",
      "test score =  0.945500886739052\n",
      "(1335.0, 40, 49, 'sqrt')\n",
      "test score =  0.7840370142644493\n",
      "(3.0, 52, 2, None)\n",
      "test score =  0.3778111114661556\n",
      "(877.0, 2, 21, None)\n",
      "test score =  0.9438958736462953\n",
      "(208.0, 62, 16, 'log2')\n",
      "test score =  0.6257122492102418\n",
      "(365.0, 143, 8, None)\n",
      "test score =  0.9330089124078444\n",
      "(2098.0, 110, 18, 'sqrt')\n",
      "test score =  0.8341605756908347\n",
      "(3531.0, 30, 33, None)\n",
      "test score =  0.9273928997034813\n",
      "(512.0, 157, 14, None)\n",
      "test score =  0.928018362515259\n",
      "(1581.0, 38, 13, 'log2')\n",
      "test score =  0.6573537452656727\n",
      "(2789.0, 56, 3, None)\n",
      "test score =  0.9505921124280193\n",
      "(1134.0, 20, 10, None)\n",
      "test score =  0.9533865800996814\n",
      "(281.0, 72, 12, 'sqrt')\n",
      "test score =  0.8430557779137037\n",
      "(673.0, 7, 41, None)\n",
      "test score =  0.9141687141691143\n",
      "(85.0, 49, 25, None)\n",
      "test score =  0.9396386278427994\n",
      "(897.0, 80, 4, 'log2')\n",
      "test score =  0.7061707957897848\n",
      "(132.0, 11, 23, None)\n",
      "test score =  0.9419059334712209\n",
      "(3819.0, 32, 8, None)\n",
      "test score =  0.9540142817876237\n",
      "(172.0, 38, 5, 'sqrt')\n",
      "test score =  0.8663291483702662\n",
      "(4340.0, 26, 36, None)\n",
      "test score =  0.9255426350042821\n",
      "(1900.0, 137, 19, None)\n",
      "test score =  0.9303578482854288\n",
      "(16.0, 195, 29, 'log2')\n",
      "test score =  0.5323965381424492\n",
      "(1540.0, 15, 39, None)\n",
      "test score =  0.9197533615792396\n",
      "(7.0, 87, 16, None)\n",
      "test score =  0.514435609842831\n",
      "(793.0, 20, 6, 'sqrt')\n",
      "test score =  0.8660724843102371\n",
      "(331.0, 61, 10, None)\n",
      "test score =  0.9470024490238149\n",
      "(591.0, 96, 3, None)\n",
      "test score =  0.9397058356204585\n",
      "(3162.0, 104, 27, None)\n",
      "test score =  0.93196263850664\n",
      "(2597.0, 45, 12, 'log2')\n",
      "test score =  0.6469320661819608\n",
      "(238.0, 3, 9, None)\n",
      "test score =  0.9538739939107618\n",
      "(111.0, 78, 45, 'sqrt')\n",
      "test score =  0.7771416726573058\n",
      "(2193.0, 8, 7, None)\n",
      "test score =  0.9556882384511721\n",
      "(448.0, 32, 13, None)\n",
      "test score =  0.9495133009717627\n",
      "(44.0, 166, 5, None)\n",
      "test score =  0.8785111075593907\n",
      "(4986.0, 50, 2, 'log2')\n",
      "test score =  0.7424963359138985\n",
      "(1285.0, 66, 31, None)\n",
      "test score =  0.9306719262365819\n",
      "(22.0, 13, 17, 'sqrt')\n",
      "test score =  0.765874386604876\n",
      "(1689.0, 115, 19, None)\n",
      "test score =  0.9332554834442529\n",
      "(1100.0, 57, 11, None)\n",
      "test score =  0.9485360231825091\n",
      "(3303.0, 26, 21, None)\n",
      "test score =  0.9438958736462953\n",
      "(1017.0, 35, 4, 'log2')\n",
      "test score =  0.7348590050333139\n",
      "(727.0, 71, 14, None)\n",
      "test score =  0.9425342817388564\n",
      "(402.0, 131, 9, 'sqrt')\n",
      "test score =  0.8300110234323528\n",
      "(56.0, 43, 8, None)\n",
      "test score =  0.9193702985336073\n",
      "(37.0, 21, 23, None)\n",
      "test score =  0.8470453736322651\n",
      "(1461.0, 18, 6, None)\n",
      "test score =  0.9563490638245741\n",
      "(2249.0, 185, 16, 'log2')\n",
      "test score =  0.6156899697244574\n",
      "(11.0, 54, 2, None)\n",
      "test score =  0.6045706697221629\n",
      "(510.0, 93, 3, None)\n",
      "test score =  0.939844357761118\n",
      "(5.0, 3, 33, 'sqrt')\n",
      "test score =  0.42178127874153554\n",
      "(152.0, 99, 15, None)\n",
      "test score =  0.9353460463114045\n",
      "(69.0, 173, 26, None)\n",
      "test score =  0.918526911181697\n",
      "(4376.0, 30, 48, 'log2')\n",
      "test score =  0.5763699830445228\n",
      "(29.0, 108, 12, None)\n",
      "test score =  0.8014628153659792\n",
      "(631.0, 37, 18, None)\n",
      "test score =  0.9462335027247605\n",
      "(304.0, 84, 6, 'sqrt')\n",
      "test score =  0.8474850059684549\n",
      "(837.0, 121, 5, None)\n",
      "test score =  0.9353803233320798\n",
      "(3669.0, 14, 39, None)\n",
      "test score =  0.9197533615792396\n",
      "(227.0, 48, 7, 'log2')\n",
      "test score =  0.7032160489862666\n",
      "(186.0, 7, 11, None)\n",
      "test score =  0.9525519462895358\n",
      "(2853.0, 17, 4, None)\n",
      "test score =  0.9564551277850656\n",
      "(2554.0, 28, 4, None)\n",
      "test score =  0.9552702523683173\n",
      "(1855.0, 40, 8, None)\n",
      "test score =  0.9534562154463444\n",
      "(2889.0, 17, 3, None)\n"
     ]
    },
    {
     "name": "stdout",
     "output_type": "stream",
     "text": [
      "test score =  0.9577466343671143\n",
      "(1299.0, 24, 2, None)\n",
      "test score =  0.9568757117673105\n",
      "(1279.0, 24, 3, None)\n",
      "test score =  0.9572211965363889\n",
      "(1300.0, 23, 10, None)\n",
      "test score =  0.9530028557843938\n",
      "(1543.0, 63, 3, None)\n",
      "test score =  0.9486719968555928\n",
      "(1038.0, 32, 2, None)\n",
      "test score =  0.9541537759156409\n",
      "(935.0, 11, 7, None)\n",
      "test score =  0.9556882384511721\n",
      "(3066.0, 44, 5, None)\n",
      "test score =  0.9536294835120048\n",
      "(4876.0, 52, 10, None)\n",
      "test score =  0.950734631272919\n",
      "(4102.0, 60, 13, None)\n",
      "test score =  0.9453967362470603\n",
      "(460.0, 26, 2, None)\n",
      "test score =  0.955584243036459\n",
      "(1157.0, 3, 9, None)\n",
      "test score =  0.9538739939107618\n",
      "(572.0, 34, 3, None)\n",
      "test score =  0.9548859040714254\n",
      "(93.0, 68, 6, 'sqrt')\n",
      "test score =  0.8453237417024358\n",
      "(344.0, 9, 30, None)\n",
      "test score =  0.9328339658889928\n",
      "(2304.0, 39, 14, None)\n",
      "test score =  0.948605613332994\n",
      "(725.0, 48, 4, None)\n",
      "test score =  0.9527241819185522\n",
      "(1728.0, 15, 8, 'log2')\n",
      "test score =  0.6938507853473798\n",
      "(1350.0, 22, 5, None)\n",
      "test score =  0.9564898169332712\n",
      "(3528.0, 88, 7, None)\n",
      "test score =  0.9415945327943424\n",
      "(1993.0, 78, 43, 'sqrt')\n",
      "test score =  0.7755256750547468\n",
      "(2813.0, 28, 11, None)\n",
      "test score =  0.9523761108307013\n",
      "(4972.0, 5, 2, None)\n",
      "test score =  0.9553052364179716\n",
      "(411.0, 43, 8, 'log2')\n",
      "test score =  0.686584959015981\n",
      "(827.0, 58, 37, None)\n",
      "test score =  0.924740092442952\n",
      "(1479.0, 36, 9, None)\n",
      "test score =  0.9526197023464054\n",
      "(4039.0, 54, 15, 'sqrt')\n",
      "test score =  0.8254971395457914\n",
      "(642.0, 19, 5, None)\n",
      "test score =  0.9568732652727084\n",
      "(295.0, 75, 12, None)\n",
      "test score =  0.9418363964250408\n",
      "(1146.0, 154, 3, None)\n",
      "test score =  0.9325895574632094\n",
      "(2582.0, 9, 28, 'log2')\n",
      "test score =  0.6095347105848093\n",
      "(3112.0, 31, 17, None)\n",
      "test score =  0.9468261825118517\n",
      "(256.0, 25, 6, None)\n",
      "test score =  0.9558276037724905\n",
      "(916.0, 14, 21, 'sqrt')\n",
      "test score =  0.8114656220281052\n",
      "(1788.0, 40, 4, None)\n",
      "test score =  0.9541197596177081\n",
      "(526.0, 3, 10, None)\n",
      "test score =  0.9533865800996814\n",
      "(2239.0, 64, 50, None)\n",
      "test score =  0.902545995001991\n",
      "(119.0, 51, 7, 'log2')\n",
      "test score =  0.6903553565237678\n",
      "(18.0, 47, 35, None)\n",
      "test score =  0.6895715828423762\n",
      "(753.0, 22, 2, None)\n",
      "test score =  0.956002475152094\n",
      "(1256.0, 139, 9, 'sqrt')\n",
      "test score =  0.8305740378501945\n",
      "(3.0, 6, 13, None)\n",
      "test score =  0.3771133623040199\n",
      "(201.0, 69, 3, None)\n",
      "test score =  0.9468214183293462\n",
      "(3728.0, 180, 23, None)\n",
      "test score =  0.92093726500863\n",
      "(1036.0, 29, 11, None)\n",
      "test score =  0.9518524161380896\n",
      "(4400.0, 2, 4, 'log2')\n",
      "test score =  0.7238970903309406\n",
      "(1577.0, 35, 6, None)\n",
      "test score =  0.9546069841728038\n",
      "(2056.0, 16, 16, 'sqrt')\n",
      "test score =  0.8337579781507708\n",
      "(366.0, 148, 5, None)\n",
      "test score =  0.9327983804558233\n",
      "(3185.0, 11, 19, None)\n",
      "test score =  0.9450479807283191\n",
      "(470.0, 45, 14, None)\n",
      "test score =  0.9476985496758296\n",
      "(4914.0, 82, 25, 'log2')\n",
      "test score =  0.6464206982967364\n",
      "{'max_depth': 2889.0, 'max_features': 2, 'min_samples_leaf': 3.0, 'min_samples_split': 17.0}\n"
     ]
    }
   ],
   "source": [
    "def sample_loss(args):\n",
    "    print(args)\n",
    "    max_depth,min_samples_split,min_samples_leaf,max_features = args\n",
    "    model = DecisionTreeClassifier(max_depth=max_depth,\n",
    "                                   min_samples_split=min_samples_split,\n",
    "                                   min_samples_leaf=min_samples_leaf,\n",
    "                                   max_features=max_features,\n",
    "                                   random_state=12)\n",
    "    \n",
    "    cv_score = cross_validate(model,X=X_train_important_dtm,y=y_tr,cv=3,n_jobs=-1,verbose=0,return_train_score=False)\n",
    "    print('test score = ', cv_score['test_score'].mean())\n",
    "    return 1-cv_score['test_score'].mean()\n",
    "\n",
    "\n",
    "\n",
    "space =[\n",
    "    hp.qloguniform('max_depth',np.log(3),np.log(5000),1),\n",
    "    hp.uniformint('min_samples_split',2,200),\n",
    "    hp.uniformint('min_samples_leaf',2,50),\n",
    "    hp.choice('max_features',[\n",
    "        ('log2'),\n",
    "        ('sqrt'),\n",
    "        (None)\n",
    "    ])\n",
    "]\n",
    "\n",
    "\n",
    "best = fmin(sample_loss,\n",
    "           space = space,\n",
    "           algo=tpe.suggest,\n",
    "           max_evals=200)\n",
    "print(best)"
   ]
  },
  {
   "cell_type": "code",
   "execution_count": 31,
   "metadata": {
    "scrolled": true
   },
   "outputs": [
    {
     "name": "stdout",
     "output_type": "stream",
     "text": [
      "Test score = 96.214\n",
      "Average precision =  96.403\n",
      "Average recall =  96.214\n",
      "Average fscore =  96.254\n",
      "Total support =  12283\n"
     ]
    }
   ],
   "source": [
    "# make DecisionTreeClassifier using the best parameters found at previous step.\n",
    "\n",
    "if best_dtree['max_features'] == 0 :\n",
    "    max_features_dtree = 'log2'\n",
    "elif best_dtree['max_features'] == 1 :\n",
    "    max_features_dtree = 'sqrt'\n",
    "elif best_dtree['max_features'] == 2 :\n",
    "    max_features_dtree = None\n",
    "        \n",
    "dtree_model = DecisionTreeClassifier(max_depth=best_dtree['max_depth'],\n",
    "                                     min_samples_split=int(best_dtree['min_samples_split']),\n",
    "                                     min_samples_leaf=int(best_dtree['min_samples_leaf']),\n",
    "                                     max_features=max_features_dtree)\n",
    "dtree_model.fit(X_train_important_dtm, y_train)\n",
    "dtree_pred = dtree_model.predict(X_test_important_dtm)\n",
    "print_precision_recall(y_test,dtree_pred)"
   ]
  },
  {
   "cell_type": "markdown",
   "metadata": {},
   "source": [
    "## Build RandomForestClassifier. Use Baysian optimization to find the best parameters."
   ]
  },
  {
   "cell_type": "code",
   "execution_count": 33,
   "metadata": {},
   "outputs": [
    {
     "name": "stdout",
     "output_type": "stream",
     "text": [
      "(699.0, 424.0, 163, 41, None)\n",
      "test score =  0.8931011777331773\n",
      "(406.0, 1694.0, 147, 29, 'log2')\n",
      "test score =  0.8079842485793137\n",
      "(123.0, 54.0, 158, 38, 'log2')\n",
      "test score =  0.7856665717973933\n",
      "(259.0, 4.0, 11, 8, 'log2')\n",
      "test score =  0.5307718556250683\n",
      "(83.0, 360.0, 110, 13, 'sqrt')\n",
      "test score =  0.9128096670567606\n",
      "(57.0, 76.0, 157, 23, None)\n",
      "test score =  0.922369041105088\n",
      "(72.0, 702.0, 19, 24, 'log2')\n",
      "test score =  0.8160927241642818\n",
      "(836.0, 11.0, 93, 45, None)\n",
      "test score =  0.6293809335669394\n",
      "(58.0, 2514.0, 72, 5, None)\n",
      "test score =  0.9526544330182983\n",
      "(57.0, 14.0, 68, 34, None)\n",
      "test score =  0.6710187673782201\n",
      "(52.0, 2200.0, 157, 29, None)\n",
      "test score =  0.9109314323840486\n",
      "(190.0, 19.0, 19, 10, 'log2')\n",
      "test score =  0.8400251316599547\n",
      "(85.0, 23.0, 145, 26, None)\n",
      "test score =  0.8020303239155497\n",
      "(108.0, 4784.0, 165, 14, 'log2')\n",
      "test score =  0.8424362230220828\n",
      "(128.0, 158.0, 198, 8, 'sqrt')\n",
      "test score =  0.9024750890940306\n",
      "(160.0, 42.0, 56, 14, None)\n",
      "test score =  0.9054123888744939\n",
      "(102.0, 547.0, 175, 19, 'sqrt')\n",
      "test score =  0.8888840281675949\n",
      "(650.0, 133.0, 144, 43, None)\n",
      "test score =  0.8966905840871299\n",
      "(146.0, 5.0, 3, 9, None)\n",
      "test score =  0.4498284168682953\n",
      "(64.0, 7.0, 4, 13, None)\n",
      "test score =  0.5502378115770251\n",
      "(252.0, 49.0, 118, 3, None)\n",
      "test score =  0.9204127692221927\n",
      "(52.0, 4687.0, 56, 4, None)\n",
      "test score =  0.9564902290608014\n",
      "(349.0, 4541.0, 46, 2, 'sqrt')\n",
      "test score =  0.9539809389031094\n",
      "(406.0, 3944.0, 42, 3, 'sqrt')\n",
      "test score =  0.9527249646499253\n",
      "(361.0, 861.0, 38, 49, 'sqrt')\n",
      "test score =  0.8436549144633076\n",
      "(1198.0, 1177.0, 90, 20, 'sqrt')\n",
      "test score =  0.9003538148573154\n",
      "(507.0, 4849.0, 38, 2, 'sqrt')\n",
      "test score =  0.9553766942776326\n",
      "(525.0, 2958.0, 29, 19, 'sqrt')\n",
      "test score =  0.9108567037747249\n",
      "(1146.0, 331.0, 75, 6, 'sqrt')\n",
      "test score =  0.9392588397824659\n",
      "(957.0, 1321.0, 56, 17, 'sqrt')\n",
      "test score =  0.9133684819507065\n",
      "(536.0, 209.0, 124, 32, 'sqrt')\n",
      "test score =  0.870312044402879\n",
      "(204.0, 2027.0, 80, 38, 'sqrt')\n",
      "test score =  0.8622176190051376\n",
      "(300.0, 4868.0, 62, 5, 'log2')\n",
      "test score =  0.8988860759420098\n",
      "(584.0, 1364.0, 29, 11, None)\n",
      "test score =  0.9556544681860196\n",
      "(736.0, 1295.0, 26, 11, None)\n",
      "test score =  0.9558640775824973\n",
      "(801.0, 398.0, 99, 22, None)\n",
      "test score =  0.9362585023683149\n",
      "(443.0, 228.0, 17, 17, None)\n",
      "test score =  0.9508733878657413\n",
      "(977.0, 84.0, 108, 7, None)\n",
      "test score =  0.945571100871141\n",
      "(194.0, 903.0, 50, 26, None)\n",
      "test score =  0.9347600710090442\n",
      "(301.0, 3270.0, 82, 12, 'log2')\n",
      "test score =  0.8651432619886714\n",
      "(696.0, 549.0, 27, 5, None)\n",
      "test score =  0.9605740743194477\n",
      "(79.0, 609.0, 6, 37, None)\n",
      "test score =  0.9157054497595166\n",
      "(231.0, 89.0, 135, 16, None)\n",
      "test score =  0.934927935657487\n",
      "(99.0, 286.0, 67, 50, 'log2')\n",
      "test score =  0.7585673683889578\n",
      "(1020.0, 480.0, 14, 4, None)\n",
      "test score =  0.9640991162647654\n",
      "(868.0, 35.0, 13, 31, None)\n",
      "test score =  0.8673855325312525\n",
      "(1056.0, 456.0, 24, 24, 'log2')\n",
      "test score =  0.8227520281398005\n",
      "(662.0, 171.0, 3, 29, None)\n",
      "test score =  0.930431261700423\n",
      "(459.0, 113.0, 178, 8, None)\n",
      "test score =  0.9279140575091347\n",
      "(732.0, 30.0, 34, 46, None)\n",
      "test score =  0.8368510389133649\n",
      "{'max_depth': 480.0, 'max_features': 2, 'min_samples_leaf': 4.0, 'min_samples_split': 14.0, 'n_estimators': 1020.0}\n"
     ]
    }
   ],
   "source": [
    "def sample_loss(args):\n",
    "    print(args)\n",
    "    n_estimators,max_depth,min_samples_split,min_samples_leaf,max_features = args\n",
    "    n_estimators = int(n_estimators)\n",
    "    model = RandomForestClassifier(n_estimators=n_estimators,\n",
    "                                   max_depth=max_depth,\n",
    "                                   min_samples_split=min_samples_split,\n",
    "                                   min_samples_leaf=min_samples_leaf,\n",
    "                                   max_features=max_features,\n",
    "                                   n_jobs=-1,\n",
    "                                   random_state=12)\n",
    "    \n",
    "    cv_score = cross_validate(model,X=X_train_important_dtm,y=y_tr,cv=3,n_jobs=1,verbose=0,return_train_score=False)\n",
    "    print('test score = ', cv_score['test_score'].mean())\n",
    "    return 1-cv_score['test_score'].mean()\n",
    "\n",
    "\n",
    "\n",
    "space =[\n",
    "    hp.qloguniform('n_estimators',np.log(50),np.log(1200),1),\n",
    "    hp.qloguniform('max_depth',np.log(3),np.log(5000),1),\n",
    "    hp.uniformint('min_samples_split',2,200),\n",
    "    hp.uniformint('min_samples_leaf',2,50),\n",
    "    hp.choice('max_features',[\n",
    "        ('log2'),\n",
    "        ('sqrt'),\n",
    "        (None)\n",
    "    ])\n",
    "]\n",
    "\n",
    "\n",
    "best_rnf = fmin(sample_loss,\n",
    "           space = space,\n",
    "           algo=tpe.suggest,\n",
    "           max_evals=50)\n",
    "print(best_rnf)\n"
   ]
  },
  {
   "cell_type": "code",
   "execution_count": 34,
   "metadata": {},
   "outputs": [
    {
     "name": "stdout",
     "output_type": "stream",
     "text": [
      "Test score = 96.890\n",
      "Average precision =  97.029\n",
      "Average recall =  96.890\n",
      "Average fscore =  96.876\n",
      "Total support =  12283\n"
     ]
    }
   ],
   "source": [
    "# make RandomForestClassifier using the best parameters found at previous step.\n",
    "\n",
    "if best_rnf['max_features'] == 0 :\n",
    "    max_features_rnf = 'log2'\n",
    "elif best_rnf['max_features'] == 1 :\n",
    "    max_features_rnf = 'sqrt'\n",
    "elif best_rnf['max_features'] == 2 :\n",
    "    max_features_rnf = None\n",
    "        \n",
    "randforest_model = RandomForestClassifier(n_estimators=int(best_rnf['n_estimators']),\n",
    "                                          max_depth=best_rnf['max_depth'],\n",
    "                                          min_samples_split=int(best_rnf['min_samples_split']),\n",
    "                                          min_samples_leaf=int(best_rnf['min_samples_leaf']),\n",
    "                                          max_features=max_features_rnf,\n",
    "                                          n_jobs=-1)\n",
    "randforest_model.fit(X_train_important_dtm, y_train)\n",
    "randforest_pred = randforest_model.predict(X_test_important_dtm)\n",
    "print_precision_recall(y_test,randforest_pred)"
   ]
  },
  {
   "cell_type": "markdown",
   "metadata": {},
   "source": [
    "## Build C-support Vector (CSV) classifier. Use Baysian optimization to find the best parameters."
   ]
  },
  {
   "cell_type": "code",
   "execution_count": 35,
   "metadata": {},
   "outputs": [
    {
     "name": "stdout",
     "output_type": "stream",
     "text": [
      "(240.8225135854969, 0.006909010967575001, 'balanced')\n",
      "[CV]  ................................................................\n",
      "[CV]  ................................................................\n",
      "[CV]  ................................................................\n",
      "[CV] ................................................. , total= 1.0min\n",
      "[CV] ................................................. , total= 1.0min\n",
      "[CV] ................................................. , total= 1.1min\n"
     ]
    },
    {
     "name": "stderr",
     "output_type": "stream",
     "text": [
      "[Parallel(n_jobs=3)]: Done   3 out of   3 | elapsed:  1.1min finished\n"
     ]
    },
    {
     "name": "stdout",
     "output_type": "stream",
     "text": [
      "test score =  0.9600837645981838\n",
      "(449.5069522680802, 0.01897369093134604, None)\n",
      "[CV]  ................................................................\n",
      "[CV]  ................................................................\n",
      "[CV]  ................................................................\n",
      "[CV] ................................................. , total= 1.2min\n",
      "[CV] ................................................. , total= 1.5min\n",
      "[CV] ................................................. , total= 1.5min\n"
     ]
    },
    {
     "name": "stderr",
     "output_type": "stream",
     "text": [
      "[Parallel(n_jobs=3)]: Done   3 out of   3 | elapsed:  1.5min finished\n"
     ]
    },
    {
     "name": "stdout",
     "output_type": "stream",
     "text": [
      "test score =  0.9609917318852932\n",
      "(792.2684107198385, 0.0017357889184862478, 'balanced')\n",
      "[CV]  ................................................................\n",
      "[CV]  ................................................................\n",
      "[CV]  ................................................................\n",
      "[CV] ................................................. , total=  59.4s\n",
      "[CV] ................................................. , total=  59.8s\n",
      "[CV] ................................................. , total= 1.0min\n",
      "test score =  0.9592118248148441\n",
      "(212.61442006266066, 6.540084200294315, 'balanced')\n"
     ]
    },
    {
     "name": "stderr",
     "output_type": "stream",
     "text": [
      "[Parallel(n_jobs=3)]: Done   3 out of   3 | elapsed:  1.0min finished\n"
     ]
    },
    {
     "name": "stdout",
     "output_type": "stream",
     "text": [
      "[CV]  ................................................................\n",
      "[CV]  ................................................................\n",
      "[CV]  ................................................................\n",
      "[CV] ................................................. , total=12.4min\n",
      "[CV] ................................................. , total=13.7min\n",
      "[CV] ................................................. , total=13.9min\n"
     ]
    },
    {
     "name": "stderr",
     "output_type": "stream",
     "text": [
      "[Parallel(n_jobs=3)]: Done   3 out of   3 | elapsed: 13.9min finished\n"
     ]
    },
    {
     "name": "stdout",
     "output_type": "stream",
     "text": [
      "test score =  0.2293084506029992\n",
      "(577.775534429116, 0.10077992610898343, 'balanced')\n",
      "[CV]  ................................................................\n",
      "[CV]  ................................................................\n",
      "[CV]  ................................................................\n",
      "[CV] ................................................. , total= 2.1min\n",
      "[CV] ................................................. , total= 2.2min\n",
      "[CV] ................................................. , total= 2.2min\n",
      "test score =  0.9537006128546563\n",
      "(254.24023804073926, 0.6291110915918061, None)\n"
     ]
    },
    {
     "name": "stderr",
     "output_type": "stream",
     "text": [
      "[Parallel(n_jobs=3)]: Done   3 out of   3 | elapsed:  2.2min finished\n"
     ]
    },
    {
     "name": "stdout",
     "output_type": "stream",
     "text": [
      "[CV]  ................................................................\n",
      "[CV]  ................................................................\n",
      "[CV]  ................................................................\n",
      "[CV] ................................................. , total=10.8min\n",
      "[CV] ................................................. , total=10.9min\n",
      "[CV] ................................................. , total=11.0min\n",
      "test score =  0.519960287938087\n",
      "(267.93559752754607, 2.752347701107227, 'balanced')\n"
     ]
    },
    {
     "name": "stderr",
     "output_type": "stream",
     "text": [
      "[Parallel(n_jobs=3)]: Done   3 out of   3 | elapsed: 11.0min finished\n"
     ]
    },
    {
     "name": "stdout",
     "output_type": "stream",
     "text": [
      "[CV]  ................................................................\n",
      "[CV]  ................................................................\n",
      "[CV]  ................................................................\n",
      "[CV] ................................................. , total=10.9min\n",
      "[CV] ................................................. , total=15.3min\n",
      "[CV] ................................................. , total=15.4min\n",
      "test score =  0.24026548191373243\n",
      "(266.22264263880214, 1.9695120662934504, None)\n"
     ]
    },
    {
     "name": "stderr",
     "output_type": "stream",
     "text": [
      "[Parallel(n_jobs=3)]: Done   3 out of   3 | elapsed: 15.4min finished\n"
     ]
    },
    {
     "name": "stdout",
     "output_type": "stream",
     "text": [
      "[CV]  ................................................................\n",
      "[CV]  ................................................................\n",
      "[CV]  ................................................................\n",
      "[CV] ................................................. , total=10.9min\n",
      "[CV] ................................................. , total=15.1min\n",
      "[CV] ................................................. , total=15.2min\n",
      "test score =  0.24839663082675134\n",
      "(125.31199385812171, 0.001475063649991006, 'balanced')\n"
     ]
    },
    {
     "name": "stderr",
     "output_type": "stream",
     "text": [
      "[Parallel(n_jobs=3)]: Done   3 out of   3 | elapsed: 15.2min finished\n"
     ]
    },
    {
     "name": "stdout",
     "output_type": "stream",
     "text": [
      "[CV]  ................................................................\n",
      "[CV]  ................................................................\n",
      "[CV]  ................................................................\n",
      "[CV] ................................................. , total= 1.1min\n",
      "[CV] ................................................. , total= 1.5min\n",
      "[CV] ................................................. , total= 1.6min\n"
     ]
    },
    {
     "name": "stderr",
     "output_type": "stream",
     "text": [
      "[Parallel(n_jobs=3)]: Done   3 out of   3 | elapsed:  1.6min finished\n"
     ]
    },
    {
     "name": "stdout",
     "output_type": "stream",
     "text": [
      "test score =  0.956627318217904\n",
      "(190.98471652206712, 0.62235551608442, None)\n",
      "[CV]  ................................................................\n",
      "[CV]  ................................................................\n",
      "[CV]  ................................................................\n",
      "[CV] ................................................. , total=10.8min\n",
      "[CV] ................................................. , total=11.0min\n",
      "[CV] ................................................. , total=11.0min\n"
     ]
    },
    {
     "name": "stderr",
     "output_type": "stream",
     "text": [
      "[Parallel(n_jobs=3)]: Done   3 out of   3 | elapsed: 11.0min finished\n"
     ]
    },
    {
     "name": "stdout",
     "output_type": "stream",
     "text": [
      "test score =  0.5253331859391989\n",
      "(497.0102731484903, 0.11790885269550562, 'balanced')\n",
      "[CV]  ................................................................\n",
      "[CV]  ................................................................\n",
      "[CV]  ................................................................\n",
      "[CV] ................................................. , total= 2.4min\n",
      "[CV] ................................................. , total= 2.4min\n",
      "[CV] ................................................. , total= 2.4min\n"
     ]
    },
    {
     "name": "stderr",
     "output_type": "stream",
     "text": [
      "[Parallel(n_jobs=3)]: Done   3 out of   3 | elapsed:  2.5min finished\n"
     ]
    },
    {
     "name": "stdout",
     "output_type": "stream",
     "text": [
      "test score =  0.9506644177039759\n",
      "(162.63233316564674, 0.001572699659923744, 'balanced')\n",
      "[CV]  ................................................................\n",
      "[CV]  ................................................................\n",
      "[CV]  ................................................................\n",
      "[CV] ................................................. , total= 1.1min\n",
      "[CV] ................................................. , total= 1.1min\n",
      "[CV] ................................................. , total= 1.1min\n",
      "test score =  0.9584083218467736\n",
      "(408.39315552693614, 0.15152003384194032, 'balanced')\n"
     ]
    },
    {
     "name": "stderr",
     "output_type": "stream",
     "text": [
      "[Parallel(n_jobs=3)]: Done   3 out of   3 | elapsed:  1.1min finished\n"
     ]
    },
    {
     "name": "stdout",
     "output_type": "stream",
     "text": [
      "[CV]  ................................................................\n",
      "[CV]  ................................................................\n",
      "[CV]  ................................................................\n",
      "[CV] ................................................. , total= 2.9min\n",
      "[CV] ................................................. , total= 2.9min\n",
      "[CV] ................................................. , total= 3.0min\n"
     ]
    },
    {
     "name": "stderr",
     "output_type": "stream",
     "text": [
      "[Parallel(n_jobs=3)]: Done   3 out of   3 | elapsed:  3.0min finished\n"
     ]
    },
    {
     "name": "stdout",
     "output_type": "stream",
     "text": [
      "test score =  0.9426386330674504\n",
      "(103.51447000925191, 0.4403833555758783, None)\n",
      "[CV]  ................................................................\n",
      "[CV]  ................................................................\n",
      "[CV]  ................................................................\n",
      "[CV] ................................................. , total= 9.8min\n",
      "[CV] ................................................. , total= 9.8min\n",
      "[CV] ................................................. , total= 9.9min\n"
     ]
    },
    {
     "name": "stderr",
     "output_type": "stream",
     "text": [
      "[Parallel(n_jobs=3)]: Done   3 out of   3 | elapsed:  9.9min finished\n"
     ]
    },
    {
     "name": "stdout",
     "output_type": "stream",
     "text": [
      "test score =  0.7145182003873093\n",
      "(421.5256966008626, 1.124696188693946, 'balanced')\n",
      "[CV]  ................................................................\n",
      "[CV]  ................................................................\n",
      "[CV]  ................................................................\n",
      "[CV] ................................................. , total=10.9min\n",
      "[CV] ................................................. , total=14.5min\n",
      "[CV] ................................................. , total=14.8min\n",
      "test score =  0.2990276181085815\n",
      "(562.9834229209071, 0.001105652122344742, 'balanced')\n"
     ]
    },
    {
     "name": "stderr",
     "output_type": "stream",
     "text": [
      "[Parallel(n_jobs=3)]: Done   3 out of   3 | elapsed: 14.8min finished\n"
     ]
    },
    {
     "name": "stdout",
     "output_type": "stream",
     "text": [
      "[CV]  ................................................................\n",
      "[CV]  ................................................................\n",
      "[CV]  ................................................................\n",
      "[CV] ................................................. , total= 1.0min\n",
      "[CV] ................................................. , total= 1.0min\n",
      "[CV] ................................................. , total= 1.0min\n"
     ]
    },
    {
     "name": "stderr",
     "output_type": "stream",
     "text": [
      "[Parallel(n_jobs=3)]: Done   3 out of   3 | elapsed:  1.0min finished\n"
     ]
    },
    {
     "name": "stdout",
     "output_type": "stream",
     "text": [
      "test score =  0.9587919026654003\n",
      "(109.69305786741678, 3.0325153337435458, None)\n",
      "[CV]  ................................................................\n",
      "[CV]  ................................................................\n",
      "[CV]  ................................................................\n",
      "[CV] ................................................. , total=11.5min\n",
      "[CV] ................................................. , total=11.5min\n",
      "[CV] ................................................. , total=11.6min\n"
     ]
    },
    {
     "name": "stderr",
     "output_type": "stream",
     "text": [
      "[Parallel(n_jobs=3)]: Done   3 out of   3 | elapsed: 11.6min finished\n"
     ]
    },
    {
     "name": "stdout",
     "output_type": "stream",
     "text": [
      "test score =  0.23855617059668677\n",
      "(135.67407157582164, 0.006900708429923146, None)\n",
      "[CV]  ................................................................\n",
      "[CV]  ................................................................\n",
      "[CV]  ................................................................\n",
      "[CV] ................................................. , total= 1.0min\n",
      "[CV] ................................................. , total= 1.0min\n",
      "[CV] ................................................. , total= 1.1min\n"
     ]
    },
    {
     "name": "stderr",
     "output_type": "stream",
     "text": [
      "[Parallel(n_jobs=3)]: Done   3 out of   3 | elapsed:  1.1min finished\n"
     ]
    },
    {
     "name": "stdout",
     "output_type": "stream",
     "text": [
      "test score =  0.9616533210644697\n",
      "(280.639809452758, 6.319074331484071, None)\n",
      "[CV]  ................................................................\n",
      "[CV]  ................................................................\n",
      "[CV]  ................................................................\n",
      "[CV] ................................................. , total=12.7min\n",
      "[CV] ................................................. , total=12.7min\n",
      "[CV] ................................................. , total=12.7min\n",
      "test score =  0.22944803145088202\n",
      "(382.6471746329612, 0.0700473159918781, 'balanced')\n"
     ]
    },
    {
     "name": "stderr",
     "output_type": "stream",
     "text": [
      "[Parallel(n_jobs=3)]: Done   3 out of   3 | elapsed: 12.8min finished\n"
     ]
    },
    {
     "name": "stdout",
     "output_type": "stream",
     "text": [
      "[CV]  ................................................................\n",
      "[CV]  ................................................................\n",
      "[CV]  ................................................................\n",
      "[CV] ................................................. , total= 1.8min\n",
      "[CV] ................................................. , total= 1.8min\n",
      "[CV] ................................................. , total= 1.8min\n"
     ]
    },
    {
     "name": "stderr",
     "output_type": "stream",
     "text": [
      "[Parallel(n_jobs=3)]: Done   3 out of   3 | elapsed:  1.8min finished\n"
     ]
    },
    {
     "name": "stdout",
     "output_type": "stream",
     "text": [
      "test score =  0.9586533994503393\n",
      "(922.0375139514085, 0.013432179839443826, None)\n",
      "[CV]  ................................................................\n",
      "[CV]  ................................................................\n",
      "[CV]  ................................................................\n",
      "[CV] ................................................. , total= 1.1min\n",
      "[CV] ................................................. , total= 1.1min\n",
      "[CV] ................................................. , total= 1.2min\n",
      "test score =  0.960153751623091\n",
      "(144.97068811981802, 0.01668351068940767, None)\n"
     ]
    },
    {
     "name": "stderr",
     "output_type": "stream",
     "text": [
      "[Parallel(n_jobs=3)]: Done   3 out of   3 | elapsed:  1.2min finished\n"
     ]
    },
    {
     "name": "stdout",
     "output_type": "stream",
     "text": [
      "[CV]  ................................................................\n",
      "[CV]  ................................................................\n",
      "[CV]  ................................................................\n",
      "[CV] ................................................. , total= 1.2min\n",
      "[CV] ................................................. , total= 1.2min\n",
      "[CV] ................................................. , total= 1.2min\n"
     ]
    },
    {
     "name": "stderr",
     "output_type": "stream",
     "text": [
      "[Parallel(n_jobs=3)]: Done   3 out of   3 | elapsed:  1.2min finished\n"
     ]
    },
    {
     "name": "stdout",
     "output_type": "stream",
     "text": [
      "test score =  0.9608870557121804\n",
      "(351.5607783835659, 0.005345029435008642, None)\n",
      "[CV]  ................................................................\n",
      "[CV]  ................................................................\n",
      "[CV]  ................................................................\n",
      "[CV] ................................................. , total= 1.0min\n",
      "[CV] ................................................. , total= 1.0min\n",
      "[CV] ................................................. , total= 1.0min\n"
     ]
    },
    {
     "name": "stderr",
     "output_type": "stream",
     "text": [
      "[Parallel(n_jobs=3)]: Done   3 out of   3 | elapsed:  1.0min finished\n"
     ]
    },
    {
     "name": "stdout",
     "output_type": "stream",
     "text": [
      "test score =  0.9597005922345968\n",
      "(639.2412346732272, 0.034408005533425906, None)\n",
      "[CV]  ................................................................\n",
      "[CV]  ................................................................\n",
      "[CV]  ................................................................\n",
      "[CV] ................................................. , total= 1.3min\n",
      "[CV] ................................................. , total= 1.4min\n",
      "[CV] ................................................. , total= 1.4min\n"
     ]
    },
    {
     "name": "stderr",
     "output_type": "stream",
     "text": [
      "[Parallel(n_jobs=3)]: Done   3 out of   3 | elapsed:  1.4min finished\n"
     ]
    },
    {
     "name": "stdout",
     "output_type": "stream",
     "text": [
      "test score =  0.9609216276343044\n",
      "(698.4025438768754, 0.0032793395434919646, None)\n",
      "[CV]  ................................................................\n",
      "[CV]  ................................................................\n",
      "[CV]  ................................................................\n",
      "[CV] ................................................. , total= 1.0min\n",
      "[CV] ................................................. , total= 1.0min\n",
      "[CV] ................................................. , total= 1.0min\n",
      "test score =  0.9592823564464711\n",
      "(180.18661020375862, 0.030284715870479408, None)\n"
     ]
    },
    {
     "name": "stderr",
     "output_type": "stream",
     "text": [
      "[Parallel(n_jobs=3)]: Done   3 out of   3 | elapsed:  1.0min finished\n"
     ]
    },
    {
     "name": "stdout",
     "output_type": "stream",
     "text": [
      "[CV]  ................................................................\n",
      "[CV]  ................................................................\n",
      "[CV]  ................................................................\n",
      "[CV] ................................................. , total= 1.3min\n",
      "[CV] ................................................. , total= 1.3min\n",
      "[CV] ................................................. , total= 1.3min\n"
     ]
    },
    {
     "name": "stderr",
     "output_type": "stream",
     "text": [
      "[Parallel(n_jobs=3)]: Done   3 out of   3 | elapsed:  1.3min finished\n"
     ]
    },
    {
     "name": "stdout",
     "output_type": "stream",
     "text": [
      "test score =  0.9613400600233962\n",
      "(166.62906632869178, 0.042252015772813886, None)\n",
      "[CV]  ................................................................\n",
      "[CV]  ................................................................\n",
      "[CV]  ................................................................\n",
      "[CV] ................................................. , total= 1.5min\n",
      "[CV] ................................................. , total= 1.5min\n",
      "[CV] ................................................. , total= 1.5min\n"
     ]
    },
    {
     "name": "stderr",
     "output_type": "stream",
     "text": [
      "[Parallel(n_jobs=3)]: Done   3 out of   3 | elapsed:  1.5min finished\n"
     ]
    },
    {
     "name": "stdout",
     "output_type": "stream",
     "text": [
      "test score =  0.960783279496522\n",
      "(129.5581694427723, 0.00807137341462466, None)\n",
      "[CV]  ................................................................\n",
      "[CV]  ................................................................\n",
      "[CV]  ................................................................\n",
      "[CV] ................................................. , total= 1.0min\n",
      "[CV] ................................................. , total= 1.1min\n",
      "[CV] ................................................. , total= 1.1min\n"
     ]
    },
    {
     "name": "stderr",
     "output_type": "stream",
     "text": [
      "[Parallel(n_jobs=3)]: Done   3 out of   3 | elapsed:  1.1min finished\n"
     ]
    },
    {
     "name": "stdout",
     "output_type": "stream",
     "text": [
      "test score =  0.9614787750925308\n",
      "(126.9866325851819, 0.007851286085764225, None)\n",
      "[CV]  ................................................................\n",
      "[CV]  ................................................................\n",
      "[CV]  ................................................................\n",
      "[CV] ................................................. , total= 1.0min\n",
      "[CV] ................................................. , total= 1.0min\n",
      "[CV] ................................................. , total= 1.1min\n"
     ]
    },
    {
     "name": "stderr",
     "output_type": "stream",
     "text": [
      "[Parallel(n_jobs=3)]: Done   3 out of   3 | elapsed:  1.1min finished\n"
     ]
    },
    {
     "name": "stdout",
     "output_type": "stream",
     "text": [
      "test score =  0.9617582127641469\n",
      "(207.92956376603487, 0.0033012312249667197, None)\n",
      "[CV]  ................................................................\n",
      "[CV]  ................................................................\n",
      "[CV]  ................................................................\n",
      "[CV] ................................................. , total=  59.9s\n",
      "[CV] ................................................. , total= 1.0min\n",
      "[CV] ................................................. , total= 1.0min\n"
     ]
    },
    {
     "name": "stderr",
     "output_type": "stream",
     "text": [
      "[Parallel(n_jobs=3)]: Done   3 out of   3 | elapsed:  1.0min finished\n"
     ]
    },
    {
     "name": "stdout",
     "output_type": "stream",
     "text": [
      "test score =  0.961861516402989\n",
      "(224.1640591562109, 0.003068701252095534, None)\n",
      "[CV]  ................................................................\n",
      "[CV]  ................................................................\n",
      "[CV]  ................................................................\n",
      "[CV] ................................................. , total=  59.8s\n",
      "[CV] ................................................. , total= 1.0min\n",
      "[CV] ................................................. , total= 1.0min\n",
      "test score =  0.9618962055511946\n",
      "(220.16467218871244, 0.0030354444026206534, None)\n"
     ]
    },
    {
     "name": "stderr",
     "output_type": "stream",
     "text": [
      "[Parallel(n_jobs=3)]: Done   3 out of   3 | elapsed:  1.1min finished\n"
     ]
    },
    {
     "name": "stdout",
     "output_type": "stream",
     "text": [
      "[CV]  ................................................................\n",
      "[CV]  ................................................................\n",
      "[CV]  ................................................................\n",
      "[CV] ................................................. , total=  59.8s\n",
      "[CV] ................................................. , total=  59.9s\n",
      "[CV] ................................................. , total= 1.0min\n"
     ]
    },
    {
     "name": "stderr",
     "output_type": "stream",
     "text": [
      "[Parallel(n_jobs=3)]: Done   3 out of   3 | elapsed:  1.0min finished\n"
     ]
    },
    {
     "name": "stdout",
     "output_type": "stream",
     "text": [
      "test score =  0.9619309740742845\n",
      "(321.49823715469233, 0.003153082161629034, None)\n",
      "[CV]  ................................................................\n",
      "[CV]  ................................................................\n",
      "[CV]  ................................................................\n",
      "[CV] ................................................. , total=  59.9s\n",
      "[CV] ................................................. , total= 1.0min\n",
      "[CV] ................................................. , total= 1.0min\n",
      "test score =  0.9609903972022195\n",
      "(223.99754849589132, 0.0010366782134718971, None)\n"
     ]
    },
    {
     "name": "stderr",
     "output_type": "stream",
     "text": [
      "[Parallel(n_jobs=3)]: Done   3 out of   3 | elapsed:  1.0min finished\n"
     ]
    },
    {
     "name": "stdout",
     "output_type": "stream",
     "text": [
      "[CV]  ................................................................\n",
      "[CV]  ................................................................\n",
      "[CV]  ................................................................\n",
      "[CV] ................................................. , total=  58.6s\n",
      "[CV] ................................................. , total=  58.6s\n",
      "[CV] ................................................. , total= 1.0min\n",
      "test score =  0.9636766041240584\n",
      "(304.83244303324125, 0.2468307345390147, None)\n"
     ]
    },
    {
     "name": "stderr",
     "output_type": "stream",
     "text": [
      "[Parallel(n_jobs=3)]: Done   3 out of   3 | elapsed:  1.0min finished\n"
     ]
    },
    {
     "name": "stdout",
     "output_type": "stream",
     "text": [
      "[CV]  ................................................................\n",
      "[CV]  ................................................................\n",
      "[CV]  ................................................................\n",
      "[CV] ................................................. , total= 4.6min\n",
      "[CV] ................................................. , total= 4.6min\n",
      "[CV] ................................................. , total= 4.7min\n"
     ]
    },
    {
     "name": "stderr",
     "output_type": "stream",
     "text": [
      "[Parallel(n_jobs=3)]: Done   3 out of   3 | elapsed:  4.7min finished\n"
     ]
    },
    {
     "name": "stdout",
     "output_type": "stream",
     "text": [
      "test score =  0.8973827595016616\n",
      "(480.6820901081248, 0.0010896889174454394, None)\n",
      "[CV]  ................................................................\n",
      "[CV]  ................................................................\n",
      "[CV]  ................................................................\n",
      "[CV] ................................................. , total=  58.1s\n",
      "[CV] ................................................. , total= 1.0min\n",
      "[CV] ................................................. , total= 1.0min\n"
     ]
    },
    {
     "name": "stderr",
     "output_type": "stream",
     "text": [
      "[Parallel(n_jobs=3)]: Done   3 out of   3 | elapsed:  1.0min finished\n"
     ]
    },
    {
     "name": "stdout",
     "output_type": "stream",
     "text": [
      "test score =  0.9622118032057699\n",
      "(960.9875482964663, 0.0019484585465890125, None)\n",
      "[CV]  ................................................................\n",
      "[CV]  ................................................................\n",
      "[CV]  ................................................................\n",
      "[CV] ................................................. , total=  58.9s\n",
      "[CV] ................................................. , total=  59.1s\n",
      "[CV] ................................................. , total= 1.0min\n",
      "test score =  0.9590368856409736\n",
      "(501.9851286210786, 0.012228624452223918, None)\n"
     ]
    },
    {
     "name": "stderr",
     "output_type": "stream",
     "text": [
      "[Parallel(n_jobs=3)]: Done   3 out of   3 | elapsed:  1.0min finished\n"
     ]
    },
    {
     "name": "stdout",
     "output_type": "stream",
     "text": [
      "[CV]  ................................................................\n",
      "[CV]  ................................................................\n",
      "[CV]  ................................................................\n",
      "[CV] ................................................. , total= 1.1min\n",
      "[CV] ................................................. , total= 1.1min\n",
      "[CV] ................................................. , total= 1.1min\n"
     ]
    },
    {
     "name": "stderr",
     "output_type": "stream",
     "text": [
      "[Parallel(n_jobs=3)]: Done   3 out of   3 | elapsed:  1.1min finished\n"
     ]
    },
    {
     "name": "stdout",
     "output_type": "stream",
     "text": [
      "test score =  0.9602578605913953\n",
      "(770.1673552601732, 0.0010730837210417234, None)\n",
      "[CV]  ................................................................\n",
      "[CV]  ................................................................\n",
      "[CV]  ................................................................\n",
      "[CV] ................................................. , total=  58.7s\n",
      "[CV] ................................................. , total=  59.4s\n",
      "[CV] ................................................. , total= 1.0min\n",
      "test score =  0.961164394894948\n",
      "(465.39504266957647, 0.023339013829136328, None)\n"
     ]
    },
    {
     "name": "stderr",
     "output_type": "stream",
     "text": [
      "[Parallel(n_jobs=3)]: Done   3 out of   3 | elapsed:  1.0min finished\n"
     ]
    },
    {
     "name": "stdout",
     "output_type": "stream",
     "text": [
      "[CV]  ................................................................\n",
      "[CV]  ................................................................\n",
      "[CV]  ................................................................\n",
      "[CV] ................................................. , total= 1.2min\n",
      "[CV] ................................................. , total= 1.2min\n",
      "[CV] ................................................. , total= 1.3min\n"
     ]
    },
    {
     "name": "stderr",
     "output_type": "stream",
     "text": [
      "[Parallel(n_jobs=3)]: Done   3 out of   3 | elapsed:  1.3min finished\n"
     ]
    },
    {
     "name": "stdout",
     "output_type": "stream",
     "text": [
      "test score =  0.9609914974331305\n",
      "(346.0551436064137, 0.002025103141338433, None)\n",
      "[CV]  ................................................................\n",
      "[CV]  ................................................................\n",
      "[CV]  ................................................................\n",
      "[CV] ................................................. , total=  59.2s\n",
      "[CV] ................................................. , total=  59.5s\n",
      "[CV] ................................................. , total= 1.0min\n",
      "test score =  0.9616177093607207\n",
      "(248.89275442584332, 0.06809507425859888, 'balanced')\n"
     ]
    },
    {
     "name": "stderr",
     "output_type": "stream",
     "text": [
      "[Parallel(n_jobs=3)]: Done   3 out of   3 | elapsed:  1.0min finished\n"
     ]
    },
    {
     "name": "stdout",
     "output_type": "stream",
     "text": [
      "[CV]  ................................................................\n",
      "[CV]  ................................................................\n",
      "[CV]  ................................................................\n",
      "[CV] ................................................. , total= 1.7min\n",
      "[CV] ................................................. , total= 1.7min\n",
      "[CV] ................................................. , total= 1.8min\n",
      "test score =  0.9588978341467026\n",
      "(567.2259503191668, 0.0011940758739823509, None)\n"
     ]
    },
    {
     "name": "stderr",
     "output_type": "stream",
     "text": [
      "[Parallel(n_jobs=3)]: Done   3 out of   3 | elapsed:  1.8min finished\n"
     ]
    },
    {
     "name": "stdout",
     "output_type": "stream",
     "text": [
      "[CV]  ................................................................\n",
      "[CV]  ................................................................\n",
      "[CV]  ................................................................\n",
      "[CV] ................................................. , total=  58.5s\n",
      "[CV] ................................................. , total=  58.6s\n",
      "[CV] ................................................. , total= 1.0min\n"
     ]
    },
    {
     "name": "stderr",
     "output_type": "stream",
     "text": [
      "[Parallel(n_jobs=3)]: Done   3 out of   3 | elapsed:  1.0min finished\n"
     ]
    },
    {
     "name": "stdout",
     "output_type": "stream",
     "text": [
      "test score =  0.9616534193649525\n",
      "(854.5597162080714, 0.004661429453332712, 'balanced')\n",
      "[CV]  ................................................................\n",
      "[CV]  ................................................................\n",
      "[CV]  ................................................................\n",
      "[CV] ................................................. , total= 1.0min\n",
      "[CV] ................................................. , total= 1.0min\n",
      "[CV] ................................................. , total= 1.1min\n",
      "test score =  0.9587932715271804\n",
      "(632.0172363909379, 9.033740955059246, None)\n"
     ]
    },
    {
     "name": "stderr",
     "output_type": "stream",
     "text": [
      "[Parallel(n_jobs=3)]: Done   3 out of   3 | elapsed:  1.1min finished\n"
     ]
    },
    {
     "name": "stdout",
     "output_type": "stream",
     "text": [
      "[CV]  ................................................................\n",
      "[CV]  ................................................................\n",
      "[CV]  ................................................................\n",
      "[CV] ................................................. , total=11.8min\n",
      "[CV] ................................................. , total=11.9min\n",
      "[CV] ................................................. , total=11.9min\n"
     ]
    },
    {
     "name": "stderr",
     "output_type": "stream",
     "text": [
      "[Parallel(n_jobs=3)]: Done   3 out of   3 | elapsed: 11.9min finished\n"
     ]
    },
    {
     "name": "stdout",
     "output_type": "stream",
     "text": [
      "test score =  0.22679536034203274\n",
      "(294.8480089126096, 0.2380948980849768, None)\n",
      "[CV]  ................................................................\n",
      "[CV]  ................................................................\n",
      "[CV]  ................................................................\n",
      "[CV] ................................................. , total= 4.4min\n",
      "[CV] ................................................. , total= 4.5min\n",
      "[CV] ................................................. , total= 4.5min\n",
      "test score =  0.9032781988601691\n",
      "(488.83656208901726, 0.0018801048209723353, 'balanced')\n"
     ]
    },
    {
     "name": "stderr",
     "output_type": "stream",
     "text": [
      "[Parallel(n_jobs=3)]: Done   3 out of   3 | elapsed:  4.5min finished\n"
     ]
    },
    {
     "name": "stdout",
     "output_type": "stream",
     "text": [
      "[CV]  ................................................................\n",
      "[CV]  ................................................................\n",
      "[CV]  ................................................................\n",
      "[CV] ................................................. , total= 1.0min\n",
      "[CV] ................................................. , total= 1.0min\n",
      "[CV] ................................................. , total= 1.0min\n",
      "test score =  0.9592113522380278\n",
      "(387.25047493773184, 1.0351458443615011, None)\n"
     ]
    },
    {
     "name": "stderr",
     "output_type": "stream",
     "text": [
      "[Parallel(n_jobs=3)]: Done   3 out of   3 | elapsed:  1.1min finished\n"
     ]
    },
    {
     "name": "stdout",
     "output_type": "stream",
     "text": [
      "[CV]  ................................................................\n",
      "[CV]  ................................................................\n",
      "[CV]  ................................................................\n",
      "[CV] ................................................. , total=11.2min\n",
      "[CV] ................................................. , total=13.3min\n",
      "[CV] ................................................. , total=13.5min\n"
     ]
    },
    {
     "name": "stderr",
     "output_type": "stream",
     "text": [
      "[Parallel(n_jobs=3)]: Done   3 out of   3 | elapsed: 13.5min finished\n"
     ]
    },
    {
     "name": "stdout",
     "output_type": "stream",
     "text": [
      "test score =  0.31713759064255553\n",
      "(192.77414605393966, 0.010687402050989128, 'balanced')\n",
      "[CV]  ................................................................\n",
      "[CV]  ................................................................\n",
      "[CV]  ................................................................\n",
      "[CV] ................................................. , total= 1.1min\n",
      "[CV] ................................................. , total= 1.1min\n",
      "[CV] ................................................. , total= 1.1min\n"
     ]
    },
    {
     "name": "stderr",
     "output_type": "stream",
     "text": [
      "[Parallel(n_jobs=3)]: Done   3 out of   3 | elapsed:  1.1min finished\n"
     ]
    },
    {
     "name": "stdout",
     "output_type": "stream",
     "text": [
      "test score =  0.9606081852453731\n",
      "(429.843775195628, 0.05294373132472565, None)\n",
      "[CV]  ................................................................\n",
      "[CV]  ................................................................\n",
      "[CV]  ................................................................\n",
      "[CV] ................................................. , total= 1.6min\n",
      "[CV] ................................................. , total= 1.6min\n",
      "[CV] ................................................. , total= 1.6min\n",
      "test score =  0.9605734582459705\n",
      "{'C': 223.99754849589132, 'class_weight': 1, 'gamma': 0.0010366782134718971}\n"
     ]
    },
    {
     "name": "stderr",
     "output_type": "stream",
     "text": [
      "[Parallel(n_jobs=3)]: Done   3 out of   3 | elapsed:  1.6min finished\n"
     ]
    }
   ],
   "source": [
    "def sample_loss(args):\n",
    "    print(args)\n",
    "    C,gamma,class_weight = args\n",
    "    model = SVC(C=C,\n",
    "                gamma=gamma,\n",
    "                class_weight=class_weight,\n",
    "                cache_size = 5000,\n",
    "                random_state=12\n",
    "               )\n",
    "\n",
    "\n",
    "    cv_score = cross_validate(model,X=X_train_important_dtm,y=y_train,cv=3,n_jobs=3,verbose=2,return_train_score=False)\n",
    "    print('test score = ', cv_score['test_score'].mean())\n",
    "    return 1-cv_score['test_score'].mean()\n",
    "\n",
    "\n",
    "\n",
    "space =[\n",
    "    hp.loguniform('C',np.log(100),np.log(1000)),\n",
    "    hp.loguniform('gamma',np.log(0.001),np.log(10)),\n",
    "    hp.choice('class_weight',[\n",
    "        ('balanced'),\n",
    "        (None)\n",
    "    ])\n",
    "]\n",
    "\n",
    "\n",
    "best = fmin(sample_loss,\n",
    "           space = space,\n",
    "           algo=tpe.suggest,\n",
    "           max_evals=50)\n",
    "print(best)\n"
   ]
  },
  {
   "cell_type": "code",
   "execution_count": 36,
   "metadata": {
    "scrolled": false
   },
   "outputs": [
    {
     "name": "stdout",
     "output_type": "stream",
     "text": [
      "Test score = 97.134\n",
      "Average precision =  97.180\n",
      "Average recall =  97.134\n",
      "Average fscore =  97.097\n",
      "Total support =  12283\n"
     ]
    }
   ],
   "source": [
    "# make SVC classifier using the best parameters found at previous step.\n",
    "if best_SVC['class_weight'] == 0 :\n",
    "    class_weight_SVC = 'balanced'\n",
    "elif best['class_weight'] == 1:\n",
    "    class_weight_SVC = None\n",
    "        \n",
    "SVC_model = SVC(C=best_SVC['C'],gamma=best_SVC['gamma'],class_weight=class_weight_SVC,random_state=12)\n",
    "SVC_model.fit(X_train_important_dtm, y_train)\n",
    "SVC_pred = SVC_model.predict(X_test_important_dtm)\n",
    "print_precision_recall(y_test,SVC_pred)"
   ]
  },
  {
   "cell_type": "code",
   "execution_count": 37,
   "metadata": {},
   "outputs": [
    {
     "name": "stdout",
     "output_type": "stream",
     "text": [
      "Test score for XGB = 97.208\n",
      "Test score for LRC = 97.631\n",
      "Test score for RFC = 96.890\n",
      "Test score for DTC = 96.214\n",
      "Test score for GNC = 61.491\n",
      "Test score for KNN = 87.006\n",
      "Test score for SVC = 97.134\n"
     ]
    }
   ],
   "source": [
    "print('Test score for XGB = %.3f' % (100*metrics.accuracy_score(y_test, xgb_pred)))\n",
    "print('Test score for LRC = %.3f' % (100*metrics.accuracy_score(y_test, logreg_pred)))\n",
    "print('Test score for RFC = %.3f' % (100*metrics.accuracy_score(y_test, randforest_pred)))\n",
    "print('Test score for DTC = %.3f' % (100*metrics.accuracy_score(y_test, dtree_pred)))\n",
    "print('Test score for NBC = %.3f' % (100*metrics.accuracy_score(y_test, nb_pred)))\n",
    "print('Test score for KNN = %.3f' % (100*metrics.accuracy_score(y_test, knn_pred)))\n",
    "print('Test score for SVC = %.3f' % (100*metrics.accuracy_score(y_test, SVC_pred)))"
   ]
  },
  {
   "cell_type": "markdown",
   "metadata": {},
   "source": [
    "### Here five models with the highest test score are built (to use to build a voting classifier in next step)"
   ]
  },
  {
   "cell_type": "code",
   "execution_count": null,
   "metadata": {},
   "outputs": [],
   "source": [
    "xgb_model = xgb.XGBClassifier(colsample_bytree= best_xgb['colsample_bytree'],\n",
    "                              gamma= best_xgb['gamma'],\n",
    "                              learning_rate= best_xgb['learning_rate'],\n",
    "                              max_depth= int(best_xgb['max_depth']),\n",
    "                              min_child_weight=int(best_xgb['min_child_weight']),\n",
    "                              n_estimators= int(best_xgb['n_estimators']),\n",
    "                              reg_alpha= reg_alpha,\n",
    "                              reg_lambda= reg_lambda,\n",
    "                              subsample= best_xgb['subsample'],\n",
    "                              n_jobs=-1)\n",
    "\n",
    "\n",
    "logreg_model = LogisticRegression(penalty=penalty_logreg,\n",
    "                                  C=best_logreg['C'],\n",
    "                                  solver=solver_logreg,\n",
    "                                  random_state=12,\n",
    "                                  n_jobs=-1,\n",
    "                                  multi_class='ovr',\n",
    "                                  tol=0.01,\n",
    "                                  max_iter=1000)\n",
    "\n",
    "\n",
    "randforest_model = RandomForestClassifier(n_estimators=int(best_rnf['n_estimators']),\n",
    "                                          max_depth=best_rnf['max_depth'],\n",
    "                                          min_samples_split=int(best_rnf['min_samples_split']),\n",
    "                                          min_samples_leaf=int(best_rnf['min_samples_leaf']),\n",
    "                                          max_features=max_features_rnf,\n",
    "                                          n_jobs=7)\n",
    "\n",
    "SVC_model = SVC(C=best_SVC['C'],\n",
    "                gamma=best_SVC['gamma'],\n",
    "                class_weight=class_weight_SVC,\n",
    "                random_state=12,\n",
    "                probability=True)\n",
    "\n",
    "        \n",
    "dtree_model = DecisionTreeClassifier(max_depth=best_dtree['max_depth'],\n",
    "                                     min_samples_split=int(best_dtree['min_samples_split']),\n",
    "                                     min_samples_leaf=int(best_dtree['min_samples_leaf']),\n",
    "                                     max_features=max_features_dtree)"
   ]
  },
  {
   "cell_type": "markdown",
   "metadata": {},
   "source": [
    "### VotingClassifier with hard voting. Majority class wins."
   ]
  },
  {
   "cell_type": "code",
   "execution_count": 47,
   "metadata": {},
   "outputs": [
    {
     "name": "stdout",
     "output_type": "stream",
     "text": [
      "Test score = 97.794\n",
      "Average precision =  97.855\n",
      "Average recall =  97.794\n",
      "Average fscore =  97.776\n",
      "Total support =  12283\n"
     ]
    }
   ],
   "source": [
    "hard_cl = VotingClassifier(estimators=[('xgb', xgb_model),\n",
    "                                       ('lrc', logreg_model),\n",
    "                                       ('rfc', randforest_model),\n",
    "                                       ('dtc', dtree_model),\n",
    "                                       ('svc', SVC_model)],\n",
    "                           voting='hard',\n",
    "                           n_jobs = 1)\n",
    "hard_cl = hard_cl.fit(X_train_important_dtm, y_train)\n",
    "hard_cl_pred = hard_cl.predict(X_test_important_dtm)\n",
    "print_precision_recall(y_test,hard_cl_pred)"
   ]
  },
  {
   "cell_type": "markdown",
   "metadata": {},
   "source": [
    "### VotingClassifier with soft voting. Class with the highest average probability wins."
   ]
  },
  {
   "cell_type": "code",
   "execution_count": 49,
   "metadata": {
    "scrolled": false
   },
   "outputs": [
    {
     "name": "stdout",
     "output_type": "stream",
     "text": [
      "Test score = 97.777\n",
      "Average precision =  97.807\n",
      "Average recall =  97.777\n",
      "Average fscore =  97.746\n",
      "Total support =  12283\n"
     ]
    }
   ],
   "source": [
    "soft_cl = VotingClassifier(estimators=[('xgb', xgb_model),\n",
    "                                       ('lrc', logreg_model),\n",
    "                                       ('rfc', randforest_model),\n",
    "                                       ('dtc', dtree_model),\n",
    "                                       ('svc', SVC_model)],\n",
    "                           voting='soft',\n",
    "                           n_jobs = 1)\n",
    "soft_cl = soft_cl.fit(X_train_important_dtm, y_train)\n",
    "soft_cl_pred = soft_cl.predict(X_test_important_dtm)\n",
    "print_precision_recall(y_test,soft_cl_pred)"
   ]
  },
  {
   "cell_type": "markdown",
   "metadata": {},
   "source": [
    "#### Now we can use any of the models or voting classifiers to make predictions for the incidents that missing group name."
   ]
  },
  {
   "cell_type": "code",
   "execution_count": 52,
   "metadata": {},
   "outputs": [],
   "source": [
    "soft_cl_new_pred = soft_cl.predict(x_new_important_dtm)"
   ]
  }
 ],
 "metadata": {
  "kernelspec": {
   "display_name": "Python 3",
   "language": "python",
   "name": "python3"
  },
  "language_info": {
   "codemirror_mode": {
    "name": "ipython",
    "version": 3
   },
   "file_extension": ".py",
   "mimetype": "text/x-python",
   "name": "python",
   "nbconvert_exporter": "python",
   "pygments_lexer": "ipython3",
   "version": "3.6.4"
  }
 },
 "nbformat": 4,
 "nbformat_minor": 2
}
